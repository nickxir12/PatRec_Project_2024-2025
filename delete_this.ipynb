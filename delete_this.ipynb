{
  "cells": [
    {
      "cell_type": "markdown",
      "metadata": {
        "id": "view-in-github",
        "colab_type": "text"
      },
      "source": [
        "<a href=\"https://colab.research.google.com/github/nickxir12/PatRec_Project_2024-2025/blob/main/delete_this.ipynb\" target=\"_parent\"><img src=\"https://colab.research.google.com/assets/colab-badge.svg\" alt=\"Open In Colab\"/></a>"
      ]
    },
    {
      "cell_type": "markdown",
      "metadata": {
        "id": "uo-CX_lJH8EZ"
      },
      "source": [
        "A test to see if uploading from my VSCode actually works."
      ]
    },
    {
      "cell_type": "markdown",
      "metadata": {
        "id": "4X7R_wgAH8Eb"
      },
      "source": [
        "A second modification made in VSCode"
      ]
    },
    {
      "cell_type": "markdown",
      "source": [
        "Modification made in colab"
      ],
      "metadata": {
        "id": "Y0uyOlECH_vF"
      }
    },
    {
      "cell_type": "markdown",
      "source": [
        "second modification made in colab"
      ],
      "metadata": {
        "id": "PWD2civtI8jh"
      }
    },
    {
      "cell_type": "markdown",
      "source": [
        "3rd modification made in colab"
      ],
      "metadata": {
        "id": "VuOUVJsoKcol"
      }
    },
    {
      "cell_type": "markdown",
      "source": [
        "4th mod made in colab"
      ],
      "metadata": {
        "id": "RrZRlrjWK4fE"
      }
    }
  ],
  "metadata": {
    "language_info": {
      "name": "python"
    },
    "colab": {
      "provenance": [],
      "include_colab_link": true
    }
  },
  "nbformat": 4,
  "nbformat_minor": 0
}