{
  "cells": [
    {
      "cell_type": "markdown",
      "metadata": {
        "colab_type": "text",
        "id": "view-in-github"
      },
      "source": [
        "<a href=\"https://colab.research.google.com/github/nickxir12/PatRec_Project_2024-2025/blob/main/delete_this.ipynb\" target=\"_parent\"><img src=\"https://colab.research.google.com/assets/colab-badge.svg\" alt=\"Open In Colab\"/></a>"
      ]
    },
    {
      "cell_type": "markdown",
      "metadata": {
        "id": "uo-CX_lJH8EZ"
      },
      "source": [
        "A test to see if uploading from my VSCode actually works."
      ]
    },
    {
      "cell_type": "markdown",
      "metadata": {
        "id": "4X7R_wgAH8Eb"
      },
      "source": [
        "A second modification made in VSCode"
      ]
    },
    {
      "cell_type": "markdown",
      "metadata": {
        "id": "Y0uyOlECH_vF"
      },
      "source": [
        "Modification made in colab"
      ]
    },
    {
      "cell_type": "markdown",
      "metadata": {
        "id": "PWD2civtI8jh"
      },
      "source": [
        "second modification made in colab"
      ]
    },
    {
      "cell_type": "markdown",
      "metadata": {
        "id": "VuOUVJsoKcol"
      },
      "source": [
        "3rd modification made in colab"
      ]
    },
    {
      "cell_type": "markdown",
      "metadata": {
        "id": "RrZRlrjWK4fE"
      },
      "source": [
        "4th mod made in colab"
      ]
    },
    {
      "cell_type": "markdown",
      "metadata": {},
      "source": [
        "3rd mod made in vscode"
      ]
    },
    {
      "cell_type": "markdown",
      "metadata": {},
      "source": [
        "An modification made the \"source control\" extension of VSCode."
      ]
    }
  ],
  "metadata": {
    "colab": {
      "include_colab_link": true,
      "provenance": []
    },
    "language_info": {
      "name": "python"
    }
  },
  "nbformat": 4,
  "nbformat_minor": 0
}
