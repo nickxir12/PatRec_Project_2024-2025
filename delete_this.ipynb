{
  "cells": [
    {
      "cell_type": "markdown",
      "metadata": {
        "id": "uo-CX_lJH8EZ"
      },
      "source": [
        "A test to see if uploading from my VSCode actually works."
      ]
    },
    {
      "cell_type": "markdown",
      "metadata": {
        "id": "4X7R_wgAH8Eb"
      },
      "source": [
        "A second modification made in VSCode"
      ]
    },
    {
      "cell_type": "markdown",
      "source": [
        "Modification made in colab"
      ],
      "metadata": {
        "id": "Y0uyOlECH_vF"
      }
    }
  ],
  "metadata": {
    "language_info": {
      "name": "python"
    },
    "colab": {
      "provenance": []
    }
  },
  "nbformat": 4,
  "nbformat_minor": 0
}