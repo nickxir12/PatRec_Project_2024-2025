{
  "metadata": {
    "kernelspec": {
      "language": "python",
      "display_name": "Python 3",
      "name": "python3"
    },
    "language_info": {
      "name": "python",
      "version": "3.10.12",
      "mimetype": "text/x-python",
      "codemirror_mode": {
        "name": "ipython",
        "version": 3
      },
      "pygments_lexer": "ipython3",
      "nbconvert_exporter": "python",
      "file_extension": ".py"
    },
    "kaggle": {
      "accelerator": "nvidiaTeslaT4",
      "dataSources": [
        {
          "sourceId": 242592,
          "sourceType": "datasetVersion",
          "datasetId": 102285
        },
        {
          "sourceId": 10525219,
          "sourceType": "datasetVersion",
          "datasetId": 6514111
        },
        {
          "sourceId": 10547943,
          "sourceType": "datasetVersion",
          "datasetId": 6526300
        }
      ],
      "dockerImageVersionId": 30839,
      "isInternetEnabled": false,
      "language": "python",
      "sourceType": "notebook",
      "isGpuEnabled": true
    },
    "colab": {
      "provenance": [],
      "name": "sample_complexity_dataset",
      "include_colab_link": true
    }
  },
  "nbformat_minor": 0,
  "nbformat": 4,
  "cells": [
    {
      "cell_type": "markdown",
      "metadata": {
        "id": "view-in-github",
        "colab_type": "text"
      },
      "source": [
        "<a href=\"https://colab.research.google.com/github/nickxir12/PatRec_Project_2024-2025/blob/main/MNIST_code/per_sample_complexity.ipynb\" target=\"_parent\"><img src=\"https://colab.research.google.com/assets/colab-badge.svg\" alt=\"Open In Colab\"/></a>"
      ]
    },
    {
      "source": [
        "# IMPORTANT: SOME KAGGLE DATA SOURCES ARE PRIVATE\n",
        "# RUN THIS CELL IN ORDER TO IMPORT YOUR KAGGLE DATA SOURCES.\n",
        "import kagglehub\n",
        "kagglehub.login()\n"
      ],
      "metadata": {
        "id": "yR0vBPB7_-9v"
      },
      "cell_type": "code",
      "outputs": [],
      "execution_count": null
    },
    {
      "source": [
        "# IMPORTANT: RUN THIS CELL IN ORDER TO IMPORT YOUR KAGGLE DATA SOURCES,\n",
        "# THEN FEEL FREE TO DELETE THIS CELL.\n",
        "# NOTE: THIS NOTEBOOK ENVIRONMENT DIFFERS FROM KAGGLE'S PYTHON\n",
        "# ENVIRONMENT SO THERE MAY BE MISSING LIBRARIES USED BY YOUR\n",
        "# NOTEBOOK.\n",
        "\n",
        "hojjatk_mnist_dataset_path = kagglehub.dataset_download('hojjatk/mnist-dataset')\n",
        "nikolasxiros_enter_data_dn_req_path = kagglehub.dataset_download('nikolasxiros/enter-data-dn-req')\n",
        "\n",
        "print('Data source import complete.')\n"
      ],
      "metadata": {
        "id": "sVsiLloN_-91"
      },
      "cell_type": "code",
      "outputs": [],
      "execution_count": null
    },
    {
      "cell_type": "markdown",
      "source": [
        "<a href=\"https://colab.research.google.com/github/nickxir12/PatRec_Project_2024-2025/blob/main/MNIST_code/sample_complexity_dataset.ipynb\" target=\"_parent\"><img src=\"https://colab.research.google.com/assets/colab-badge.svg\" alt=\"Open In Colab\"/></a>"
      ],
      "metadata": {
        "id": "view-in-github"
      }
    },
    {
      "cell_type": "code",
      "source": [
        "# This Python 3 environment comes with many helpful analytics libraries installed\n",
        "# It is defined by the kaggle/python Docker image: https://github.com/kaggle/docker-python\n",
        "# For example, here's several helpful packages to load\n",
        "\n",
        "import numpy as np # linear algebra\n",
        "import pandas as pd # data processing, CSV file I/O (e.g. pd.read_csv)\n",
        "\n",
        "# Input data files are available in the read-only \"../input/\" directory\n",
        "# For example, running this (by clicking run or pressing Shift+Enter) will list all files under the input directory\n",
        "\n",
        "import os\n",
        "for dirname, _, filenames in os.walk('/kaggle/input'):\n",
        "    for filename in filenames:\n",
        "        print(os.path.join(dirname, filename))\n",
        "\n",
        "# You can write up to 20GB to the current directory (/kaggle/working/) that gets preserved as output when you create a version using \"Save & Run All\"\n",
        "# You can also write temporary files to /kaggle/temp/, but they won't be saved outside of the current session"
      ],
      "metadata": {
        "_uuid": "8f2839f25d086af736a60e9eeb907d3b93b6e0e5",
        "_cell_guid": "b1076dfc-b9ad-4769-8c92-a6c4dae69d19",
        "trusted": true,
        "id": "sAqFv4LKOrL4",
        "outputId": "c7a60ad3-f141-4227-9229-2f0c62196788",
        "execution": {
          "iopub.status.busy": "2025-01-27T11:15:45.610801Z",
          "iopub.execute_input": "2025-01-27T11:15:45.611078Z",
          "iopub.status.idle": "2025-01-27T11:15:45.921689Z",
          "shell.execute_reply.started": "2025-01-27T11:15:45.611057Z",
          "shell.execute_reply": "2025-01-27T11:15:45.920979Z"
        }
      },
      "outputs": [
        {
          "name": "stdout",
          "text": "/kaggle/input/enter-data-dn-req/train.pt\n/kaggle/input/enter-data-dn-req/test.pt\n/kaggle/input/enter-data-dn-req/requirements.txt\n/kaggle/input/mnist-dataset/train-images.idx3-ubyte\n/kaggle/input/mnist-dataset/t10k-labels.idx1-ubyte\n/kaggle/input/mnist-dataset/t10k-images.idx3-ubyte\n/kaggle/input/mnist-dataset/train-labels.idx1-ubyte\n/kaggle/input/mnist-dataset/t10k-labels-idx1-ubyte/t10k-labels-idx1-ubyte\n/kaggle/input/mnist-dataset/t10k-images-idx3-ubyte/t10k-images-idx3-ubyte\n/kaggle/input/mnist-dataset/train-labels-idx1-ubyte/train-labels-idx1-ubyte\n/kaggle/input/mnist-dataset/train-images-idx3-ubyte/train-images-idx3-ubyte\n",
          "output_type": "stream"
        }
      ],
      "execution_count": null
    },
    {
      "cell_type": "code",
      "source": [
        "#!pip install -r /kaggle/input/enter-data-dn-req/requirements.txt"
      ],
      "metadata": {
        "trusted": true,
        "id": "_P4glIxcOrL5",
        "execution": {
          "iopub.status.busy": "2025-01-27T11:15:45.92278Z",
          "iopub.execute_input": "2025-01-27T11:15:45.92314Z",
          "iopub.status.idle": "2025-01-27T11:15:45.926464Z",
          "shell.execute_reply.started": "2025-01-27T11:15:45.923118Z",
          "shell.execute_reply": "2025-01-27T11:15:45.92562Z"
        }
      },
      "outputs": [],
      "execution_count": null
    },
    {
      "cell_type": "code",
      "source": [
        "\n",
        "import random\n",
        "import time\n",
        "import math\n",
        "import argparse\n",
        "from argparse import ArgumentParser\n",
        "from collections import defaultdict\n",
        "from itertools import islice\n",
        "from pathlib import Path\n",
        "\n",
        "import numpy as np\n",
        "import matplotlib.pyplot as plt\n",
        "from tqdm.auto import tqdm\n",
        "\n",
        "import torch\n",
        "import torch.nn as nn\n",
        "import torchvision\n",
        "from typing import List, Optional, Dict, Literal\n",
        "from collections import deque\n",
        "from torch.utils.data import Dataset, DataLoader, Subset\n",
        "from sklearn.model_selection import train_test_split\n",
        "import torch\n",
        "import torchvision.transforms as transforms\n",
        "import struct\n",
        "import gzip\n"
      ],
      "metadata": {
        "trusted": true,
        "execution": {
          "iopub.status.busy": "2025-01-27T11:15:45.927668Z",
          "iopub.execute_input": "2025-01-27T11:15:45.927903Z",
          "iopub.status.idle": "2025-01-27T11:15:52.31759Z",
          "shell.execute_reply.started": "2025-01-27T11:15:45.927882Z",
          "shell.execute_reply": "2025-01-27T11:15:52.316665Z"
        },
        "id": "7f3AybGXOrL6"
      },
      "outputs": [],
      "execution_count": null
    },
    {
      "cell_type": "code",
      "source": [
        "def cycle(iterable):\n",
        "    while True:\n",
        "        for x in iterable:\n",
        "            yield x"
      ],
      "metadata": {
        "trusted": true,
        "execution": {
          "iopub.status.busy": "2025-01-27T11:15:52.318942Z",
          "iopub.execute_input": "2025-01-27T11:15:52.31938Z",
          "iopub.status.idle": "2025-01-27T11:15:52.322765Z",
          "shell.execute_reply.started": "2025-01-27T11:15:52.319352Z",
          "shell.execute_reply": "2025-01-27T11:15:52.322003Z"
        },
        "id": "9Kv1-lnGOrL6"
      },
      "outputs": [],
      "execution_count": null
    },
    {
      "cell_type": "code",
      "source": [
        "def custom_collate_fn_2(batch):\n",
        "    \"\"\"Custom collate function to handle extra fields in the dataset.\"\"\"\n",
        "    images, labels, _, _ = zip(*batch)  # Ignore the indices and extra_fields for loss computation\n",
        "    images = torch.stack(images)  # Stack images into a single tensor\n",
        "    labels = torch.tensor(labels)  # Convert labels to a tensor\n",
        "    return images, labels\n",
        "\n",
        "def compute_accuracy(model, dataset, device, N=None):\n",
        "    \"\"\"Utility to compute accuracy on a given dataset.\"\"\"\n",
        "    loader = DataLoader(dataset, batch_size=256, shuffle=False)\n",
        "    correct = 0\n",
        "    total = 0\n",
        "\n",
        "    loader = DataLoader(dataset, batch_size=256, shuffle=False, collate_fn=custom_collate_fn_2)\n",
        "\n",
        "    for x, y in loader:  # Unpack index and extra_fields as well\n",
        "        x, y = x.to(device), y.to(device)\n",
        "        with torch.no_grad():\n",
        "            outputs = model(x)\n",
        "            predictions = outputs.argmax(dim=1)\n",
        "        correct += (predictions == y).sum().item()\n",
        "        total += y.size(0)\n",
        "        if N is not None and total >= N:\n",
        "            break\n",
        "    return correct / total\n",
        "\n",
        "def compute_loss(model, dataset, loss_function_name, device, N=None):\n",
        "    \"\"\"Utility to compute the average loss on a given dataset.\"\"\"\n",
        "    loss_fn = loss_function_dict[loss_function_name]()\n",
        "\n",
        "    loader = DataLoader(dataset, batch_size=256, shuffle=False, collate_fn=custom_collate_fn_2)\n",
        "    total_loss = 0.0\n",
        "    count = 0\n",
        "    one_hots = torch.eye(10, device=device)\n",
        "    for x, y in loader:\n",
        "        x, y = x.to(device), y.to(device)\n",
        "        with torch.no_grad():\n",
        "            outputs = model(x)\n",
        "            if loss_function_name == 'CrossEntropy':\n",
        "                loss = loss_fn(outputs, y)\n",
        "            elif loss_function_name == 'MSE':\n",
        "                loss = loss_fn(outputs, one_hots[y])\n",
        "        batch_size = x.size(0)\n",
        "        total_loss += loss.item() * batch_size\n",
        "        count += batch_size\n",
        "        if N is not None and count >= N:\n",
        "            break\n",
        "    return total_loss / count\n"
      ],
      "metadata": {
        "trusted": true,
        "execution": {
          "iopub.status.busy": "2025-01-27T11:15:52.323702Z",
          "iopub.execute_input": "2025-01-27T11:15:52.323989Z",
          "iopub.status.idle": "2025-01-27T11:15:52.340697Z",
          "shell.execute_reply.started": "2025-01-27T11:15:52.323948Z",
          "shell.execute_reply": "2025-01-27T11:15:52.340097Z"
        },
        "id": "rE3H8Z-wOrL6"
      },
      "outputs": [],
      "execution_count": null
    },
    {
      "cell_type": "code",
      "source": [
        "optimizer_dict = {\n",
        "    'AdamW': torch.optim.AdamW,\n",
        "    'Adam': torch.optim.Adam,\n",
        "    'SGD': torch.optim.SGD\n",
        "}\n",
        "\n",
        "activation_dict = {\n",
        "    'ReLU': nn.ReLU,\n",
        "    'Tanh': nn.Tanh,\n",
        "    'Sigmoid': nn.Sigmoid,\n",
        "    'GELU': nn.GELU\n",
        "}\n",
        "\n",
        "loss_function_dict = {\n",
        "    'MSE': nn.MSELoss,\n",
        "    'CrossEntropy': nn.CrossEntropyLoss\n",
        "}"
      ],
      "metadata": {
        "trusted": true,
        "execution": {
          "iopub.status.busy": "2025-01-27T11:15:52.341486Z",
          "iopub.execute_input": "2025-01-27T11:15:52.341669Z",
          "iopub.status.idle": "2025-01-27T11:15:52.360806Z",
          "shell.execute_reply.started": "2025-01-27T11:15:52.341654Z",
          "shell.execute_reply": "2025-01-27T11:15:52.360157Z"
        },
        "id": "av3M4b5TOrL7"
      },
      "outputs": [],
      "execution_count": null
    },
    {
      "cell_type": "code",
      "source": [
        "\n",
        "import os\n",
        "results_dir = \"/kaggle/working/results/pt\"\n",
        "os.makedirs(results_dir, exist_ok=True)\n",
        "dataset_path = \"/kaggle/input/enter-data-dn-req\"\n",
        "os.makedirs(results_dir, exist_ok=True)\n"
      ],
      "metadata": {
        "trusted": true,
        "execution": {
          "iopub.status.busy": "2025-01-27T11:15:52.361593Z",
          "iopub.execute_input": "2025-01-27T11:15:52.361773Z",
          "iopub.status.idle": "2025-01-27T11:15:52.380823Z",
          "shell.execute_reply.started": "2025-01-27T11:15:52.361758Z",
          "shell.execute_reply": "2025-01-27T11:15:52.380219Z"
        },
        "id": "vCSK-6j2OrL7"
      },
      "outputs": [],
      "execution_count": null
    },
    {
      "cell_type": "code",
      "source": [
        "\n",
        "import torch\n",
        "import torchvision\n",
        "\n",
        "from torch.utils.data import Dataset\n",
        "\n",
        "#         Added extra fields to keep ema_gra and history\n",
        "class MyMNIST(torchvision.datasets.MNIST):\n",
        "    def __init__(self, data, targets, transform=None):\n",
        "        \"\"\"\n",
        "        Custom dataset to simulate MyMNIST behavior with extra fields.\n",
        "        Args:\n",
        "            data: Tensor of shape [N, 28, 28].\n",
        "            targets: Tensor of shape [N].\n",
        "            transform: Transformations to apply to the images.\n",
        "        \"\"\"\n",
        "        self.data = data.to(torch.float32)\n",
        "        self.targets = targets\n",
        "        self.transform = transform\n",
        "\n",
        "        # Initialize extra fields\n",
        "        self.extra_fields = [{\n",
        "            \"ema_grad\": 0.0,         # EMA of gradient\n",
        "             \"num_updates\":0,\n",
        "            \"deviation_metric\": 0.0, # Deviation metric\n",
        "            #\"variance_metric\": 0.0   # Variance metric\n",
        "        } for _ in range(len(self.data))]\n",
        "\n",
        "    def __getitem__(self, index):\n",
        "        \"\"\"\n",
        "        Returns a single data sample and its associated extra fields.\n",
        "        \"\"\"\n",
        "        img, target = self.data[index], self.targets[index]\n",
        "        if self.transform:\n",
        "            img = self.transform(img)\n",
        "        extra_field = self.extra_fields[index]\n",
        "        return img, target, index, extra_field\n",
        "\n",
        "    def update_fields(self, indices, grad_stats,ema_alpha=0.9):\n",
        "        \"\"\"\n",
        "        Update the extra fields for specified dataset indices.\n",
        "        \"\"\"\n",
        "\n",
        "        for idx, grad  in zip(indices, grad_stats):\n",
        "          # Update EMA\n",
        "          sample_field = self.extra_fields[idx]\n",
        "\n",
        "\n",
        "          current_ema = sample_field[\"ema_grad\"]\n",
        "          updated_ema = ema_alpha * current_ema + (1 - ema_alpha) * grad\n",
        "          sample_field[\"ema_grad\"] = updated_ema\n",
        "\n",
        "          deviation = abs(grad - updated_ema)\n",
        "\n",
        "          num_updates = sample_field[\"num_updates\"] + 1  # Increment the update count\n",
        "          current_avg_deviation = sample_field[\"deviation_metric\"]\n",
        "          new_avg_deviation = ((current_avg_deviation * (num_updates - 1)) + deviation) / num_updates\n",
        "\n",
        "          # Update the deviation metric and number of updates\n",
        "          sample_field[\"deviation_metric\"] = new_avg_deviation\n",
        "          sample_field[\"num_updates\"] = num_updates\n",
        "\n",
        "          #sample_field[\"deviation_metric\"] += deviation\n",
        "          # Optionally update variance-like metric\n",
        "          # Variance estimate (for higher sensitivity to fast changes)\n",
        "          #sample_field[\"variance_metric\"] += (deviation ** 2)\n"
      ],
      "metadata": {
        "trusted": true,
        "execution": {
          "iopub.status.busy": "2025-01-27T11:15:52.382841Z",
          "iopub.execute_input": "2025-01-27T11:15:52.383125Z",
          "iopub.status.idle": "2025-01-27T11:15:52.394959Z",
          "shell.execute_reply.started": "2025-01-27T11:15:52.383098Z",
          "shell.execute_reply": "2025-01-27T11:15:52.394205Z"
        },
        "id": "XEvUlwOfOrL7"
      },
      "outputs": [],
      "execution_count": null
    },
    {
      "cell_type": "code",
      "source": [
        "def custom_collate_fn(batch):\n",
        "    images, labels, indices, extra_fields = zip(*batch)\n",
        "    images = torch.stack(images)  # Stack images into a single tensor\n",
        "    labels = torch.tensor(labels)  # Convert labels to a tensor\n",
        "    return images, labels, indices, extra_fields"
      ],
      "metadata": {
        "trusted": true,
        "execution": {
          "iopub.status.busy": "2025-01-27T11:15:52.39582Z",
          "iopub.execute_input": "2025-01-27T11:15:52.396021Z",
          "iopub.status.idle": "2025-01-27T11:15:52.411981Z",
          "shell.execute_reply.started": "2025-01-27T11:15:52.395994Z",
          "shell.execute_reply": "2025-01-27T11:15:52.411185Z"
        },
        "id": "0s56GzAAOrL8"
      },
      "outputs": [],
      "execution_count": null
    },
    {
      "cell_type": "code",
      "source": [
        "import random\n",
        "from functorch import vmap, grad\n",
        "from torch.nn.utils.stateless import functional_call\n",
        "\n",
        "assert args.loss_function in loss_function_dict\n",
        "loss_fn = loss_function_dict[args.loss_function]()\n",
        "\n",
        "# Define a function for forward + loss computation\n",
        "def compute_loss_vmap(params, buffers, model, x, y):\n",
        "    # Use functional_call to pass parameters and buffers explicitly\n",
        "    logits = functional_call(model, {**params, **buffers}, x.unsqueeze(0))  # Single input\n",
        "    loss = loss_fn(logits, y.unsqueeze(0))  # Single output\n",
        "    return loss.mean()\n",
        "\n",
        "# Prepare model parameters and buffers\n",
        "params_and_buffers = {**dict(mlp.named_parameters()), **dict(mlp.named_buffers())}\n",
        "\n",
        "params = {k: v for k, v in params_and_buffers.items() if v.requires_grad}\n",
        "buffers = {k: v for k, v in params_and_buffers.items() if not v.requires_grad}\n",
        "\n",
        "# Create the gradient function\n",
        "gradient_fn = grad(compute_loss_vmap)\n",
        "\n"
      ],
      "metadata": {
        "trusted": true,
        "execution": {
          "iopub.status.busy": "2025-01-27T11:18:33.596444Z",
          "iopub.execute_input": "2025-01-27T11:18:33.596786Z",
          "iopub.status.idle": "2025-01-27T11:18:33.60322Z",
          "shell.execute_reply.started": "2025-01-27T11:18:33.596763Z",
          "shell.execute_reply": "2025-01-27T11:18:33.602346Z"
        },
        "id": "szegZFXP_-9-",
        "outputId": "e08cecfb-e968-4dff-c826-5b959f28863f"
      },
      "outputs": [
        {
          "name": "stderr",
          "text": "<ipython-input-17-8c83813e2afa>:22: FutureWarning: We've integrated functorch into PyTorch. As the final step of the integration, `functorch.grad` is deprecated as of PyTorch 2.0 and will be deleted in a future version of PyTorch >= 2.3. Please use `torch.func.grad` instead; see the PyTorch 2.0 release notes and/or the `torch.func` migration guide for more details https://pytorch.org/docs/main/func.migrating.html\n  gradient_fn = grad(compute_loss_vmap)\n",
          "output_type": "stream"
        }
      ],
      "execution_count": null
    },
    {
      "cell_type": "code",
      "source": [
        "\n",
        "def select_random_subset(tensor, percentage, seed=42):\n",
        "    \"\"\"\n",
        "    Flatten the parameter dimensions for each batch sample, select a percentage of elements,\n",
        "    and return a tensor with shape [batch_size, selected_elements].\n",
        "\n",
        "    Args:\n",
        "        tensor (torch.Tensor): The gradient tensor of shape [batch_size, *parameter_dims].\n",
        "        percentage (float): The percentage of elements to select.\n",
        "        seed (int): Random seed for reproducibility.\n",
        "\n",
        "    Returns:\n",
        "        torch.Tensor: A tensor of shape [batch_size, selected_elements].\n",
        "    \"\"\"\n",
        "    batch_size, *param_dims = tensor.shape  # Extract batch and parameter dimensions\n",
        "    total_params = torch.prod(torch.tensor(param_dims))  # Total parameters per sample\n",
        "    subset_size = int(total_params * percentage)  # 20% of parameters\n",
        "\n",
        "    # Set seed for reproducibility\n",
        "    random.seed(seed)\n",
        "    indices = random.sample(range(total_params), subset_size)  # Random indices for selection\n",
        "\n",
        "    # Flatten parameter dimensions and select elements for each batch\n",
        "    flat_tensor = tensor.view(batch_size, -1)  # Flatten parameter dimensions for each sample\n",
        "    selected_subset = flat_tensor[:, indices]  # Select the same random indices across the batch\n",
        "\n",
        "    return selected_subset"
      ],
      "metadata": {
        "trusted": true,
        "execution": {
          "iopub.status.busy": "2025-01-27T11:18:46.161923Z",
          "iopub.execute_input": "2025-01-27T11:18:46.162195Z",
          "iopub.status.idle": "2025-01-27T11:18:46.166976Z",
          "shell.execute_reply.started": "2025-01-27T11:18:46.162174Z",
          "shell.execute_reply": "2025-01-27T11:18:46.165987Z"
        },
        "id": "7Qw_qd_-_-9_"
      },
      "outputs": [],
      "execution_count": null
    },
    {
      "cell_type": "code",
      "source": [
        "from collections import Counter\n",
        "from sklearn.model_selection import train_test_split\n",
        "from torch.utils.data import DataLoader\n",
        "from torch.autograd import grad\n",
        "\n",
        "def main(args,train_dataset,train_loader,mlp,test):\n",
        "    log_freq = math.ceil(args.optimization_steps / 150)\n",
        "\n",
        "    device = torch.device(\"cuda\" if torch.cuda.is_available() else \"cpu\")\n",
        "    dtype = torch.float32\n",
        "\n",
        "    one_hots = torch.eye(10, 10).to(device)\n",
        "\n",
        "    torch.set_default_dtype(dtype)\n",
        "    torch.manual_seed(args.seed)\n",
        "    torch.cuda.manual_seed_all(args.seed)\n",
        "    random.seed(args.seed)\n",
        "    np.random.seed(args.seed)\n",
        "\n",
        "    #                                   Create model\n",
        "    #   -------------------------------------------------------------------------------   #\n",
        "\n",
        "    # create optimizer\n",
        "    assert args.optimizer in optimizer_dict, f\"Unsupported optimizer choice: {args.optimizer}\"\n",
        "    optimizer = optimizer_dict[args.optimizer](mlp.parameters(), lr=args.lr, weight_decay=args.weight_decay)\n",
        "\n",
        "    # define loss function\n",
        "    assert args.loss_function in loss_function_dict\n",
        "    loss_fn = loss_function_dict[args.loss_function]()\n",
        "\n",
        "    # Initialize EMA and metric history for each sample\n",
        "    gradient_ema = [0.0 for _ in range(len(train_dataset))]\n",
        "    ema_alpha = 0.9  # Exponential moving average factor\n",
        "\n",
        "\n",
        "    #                           Start Training below\n",
        "    #   -------------------------------------------------------------------------------   #\n",
        "    steps, log_steps, train_losses, train_accuracies, test_losses, test_accuracies = 0, [], [], [], [], []\n",
        "    one_hots = torch.eye(10, 10).to(device)\n",
        "    os.makedirs(results_dir, exist_ok=True)\n",
        "\n",
        "    with tqdm(total=args.optimization_steps, dynamic_ncols=True) as pbar:\n",
        "\n",
        "        reached_early_stop = False  # Flag to indicate early stopping\n",
        "        steps_to_reach_val_acc = None  # Variable to store steps for 0.95 validation accuracy\n",
        "\n",
        "        stable_threshold = 100  # Number of steps the validation accuracy must remain > 0.85\n",
        "        stable_steps = 0  # Counter for steps validation accuracy remains above 0.85\n",
        "\n",
        "        for batch in islice(cycle(train_loader), args.optimization_steps):\n",
        "            x, labels, indices, extra_fields = batch\n",
        "            do_log = (steps < 30) or (steps < 150 and steps % 10 == 0) or steps % log_freq == 0\n",
        "            if do_log:\n",
        "                train_losses.append(compute_loss(mlp, train_dataset, args.loss_function, device, N=len(train_dataset)))\n",
        "                train_accuracies.append(compute_accuracy(mlp, train_dataset, device, N=len(train_dataset)))\n",
        "                test_losses.append(compute_loss(mlp, test, args.loss_function, device, N=len(test)))\n",
        "                test_accuracies.append(compute_accuracy(mlp, test, device, N=len(test)))\n",
        "                log_steps.append(steps)\n",
        "                pbar.set_description(\n",
        "                \"Loss: {0:1.1e}|{1:1.1e}. Acc: {2:2.1f}%|{3:2.1f}%\".format(\n",
        "                    train_losses[-1],\n",
        "                    test_losses[-1],\n",
        "                    train_accuracies[-1] * 100,\n",
        "                    test_accuracies[-1] * 100,\n",
        "                )\n",
        "            )\n",
        "\n",
        "            x, labels = x.to(device), labels.to(device)\n",
        "            y = mlp(x.to(device))\n",
        "            if args.loss_function == 'CrossEntropy':\n",
        "                # Use integer labels for CrossEntropyLoss\n",
        "                loss = loss_fn(y, labels)\n",
        "            elif args.loss_function == 'MSE':\n",
        "                loss = loss_fn(y, one_hots[labels])\n",
        "\n",
        "\n",
        "            # -----------------------------------------------------------------\n",
        "            #   Gradient Stats: Capture grads for each sample\n",
        "            # -----------------------------------------------------------------\n",
        "\n",
        "            # Identify the last two Linear layers dynamically\n",
        "            batch_gradients=[]\n",
        "\n",
        "\n",
        "            # Use vmap for batch gradient computation\n",
        "            per_sample_grads = vmap(gradient_fn, in_dims=(None, None, None, 0, 0))(\n",
        "                params, buffers, mlp, x, labels\n",
        "            )\n",
        "\n",
        "            last_layer_grad = per_sample_grads['3.weight']  # Replace with your actual parameter name\n",
        "            second_last_layer_grad = per_sample_grads['5.weight']\n",
        "\n",
        "            percentage_s_l = 0.2  # Adjust percentage as needed\n",
        "            percentage_l = 0.5\n",
        "            selected_last = select_random_subset(last_layer_grad, percentage_l, seed=42)\n",
        "            selected_second_last = select_random_subset(second_last_layer_grad, percentage_s_l, seed=42)\n",
        "\n",
        "\n",
        "            selected_last_avg=selected_last.mean(dim=-1)\n",
        "            selected_second_last_avg=selected_second_last.mean(dim=-1)\n",
        "            total_avg=(selected_last_avg+selected_second_last_avg)/2\n",
        "\n",
        "            train_dataset.dataset.update_fields(indices, total_avg, ema_alpha)\n",
        "\n",
        "            optimizer.zero_grad()\n",
        "\n",
        "            loss.backward(create_graph=True)\n",
        "\n",
        "            optimizer.step()\n",
        "\n",
        "            test_acc = test_accuracies[-1] if len(test_accuracies) > 0 else 0\n",
        "            # Check for early stopping conditions\n",
        "            if test_acc >= 0.95 and steps_to_reach_val_acc is None:\n",
        "                steps_to_reach_val_acc = steps  # Record the first step reaching 0.95 validation accuracy\n",
        "\n",
        "            if test_acc > 0.9:\n",
        "                stable_steps += 1\n",
        "            else:\n",
        "                stable_steps = 0  # Reset counter if accuracy drops below 0.9\n",
        "\n",
        "            if stable_steps >= stable_threshold and test_acc >= 0.95:\n",
        "                reached_early_stop = True\n",
        "                print(f\"Validation accuracy of 0.95 reached and remained > 0.9 for {stable_threshold} steps at step {steps}\")\n",
        "\n",
        "            steps += 1\n",
        "            pbar.update(1)\n",
        "\n",
        "    # Save results\n",
        "    results_filename = os.path.join(results_dir, f\"mnist_{args.label}.pt\")\n",
        "    os.makedirs(results_dir, exist_ok=True)\n",
        "    torch.save({\n",
        "        'its': log_steps,\n",
        "        'train_acc': train_accuracies,\n",
        "        'train_loss': train_losses,\n",
        "        'val_acc': test_accuracies,\n",
        "        'val_loss': test_losses,\n",
        "        'steps_to_reach': steps_to_reach_val_acc,\n",
        "    }, results_filename)\n",
        "\n",
        "    return train_dataset, steps_to_reach_val_acc\n"
      ],
      "metadata": {
        "trusted": true,
        "execution": {
          "iopub.status.busy": "2025-01-27T12:02:40.07851Z",
          "iopub.execute_input": "2025-01-27T12:02:40.078806Z",
          "iopub.status.idle": "2025-01-27T12:02:40.092599Z",
          "shell.execute_reply.started": "2025-01-27T12:02:40.078784Z",
          "shell.execute_reply": "2025-01-27T12:02:40.091681Z"
        },
        "id": "vZenxeaJOrL8"
      },
      "outputs": [],
      "execution_count": null
    },
    {
      "cell_type": "code",
      "source": [
        "device = torch.device(\"cuda\" if torch.cuda.is_available() else \"cpu\")\n",
        "\n",
        "activation_fn = activation_dict[args.activation]\n",
        "layers = [nn.Flatten()]\n",
        "for i in range(args.depth):\n",
        "    if i == 0:\n",
        "        layers.append(nn.Linear(784, args.width))\n",
        "        layers.append(activation_fn())\n",
        "    elif i == args.depth - 1:\n",
        "        layers.append(nn.Linear(args.width, 10))\n",
        "    else:\n",
        "        layers.append(nn.Linear(args.width, args.width))\n",
        "        layers.append(activation_fn())\n",
        "mlp = nn.Sequential(*layers).to(device)\n",
        "with torch.no_grad():\n",
        "    for p in mlp.parameters():\n",
        "        p.data = args.initialization_scale * p.data\n",
        "nparams = sum([p.numel() for p in mlp.parameters() if p.requires_grad])\n",
        "print(f'Number of parameters: {nparams}')\n",
        "\n",
        "upd_train_dataset_tr, steps_to_reach_val_acc_tr = main(args, train_dataset, train_loader, mlp,  test)\n"
      ],
      "metadata": {
        "trusted": true,
        "execution": {
          "iopub.status.busy": "2025-01-27T12:00:52.014527Z",
          "iopub.execute_input": "2025-01-27T12:00:52.014788Z",
          "iopub.status.idle": "2025-01-27T12:00:54.859259Z",
          "shell.execute_reply.started": "2025-01-27T12:00:52.014767Z",
          "shell.execute_reply": "2025-01-27T12:00:54.858128Z"
        },
        "id": "GijCC3J8_--A",
        "outputId": "b0594852-2f0a-4c37-b88e-a6ebe714065e",
        "colab": {
          "referenced_widgets": [
            "bcabb4849cd24e2faf6e16d4595fe0a9"
          ]
        }
      },
      "outputs": [
        {
          "name": "stdout",
          "text": "Number of parameters: 199210\n",
          "output_type": "stream"
        },
        {
          "output_type": "display_data",
          "data": {
            "text/plain": "  0%|          | 0/10000 [00:00<?, ?it/s]",
            "application/vnd.jupyter.widget-view+json": {
              "version_major": 2,
              "version_minor": 0,
              "model_id": "bcabb4849cd24e2faf6e16d4595fe0a9"
            }
          },
          "metadata": {}
        },
        {
          "name": "stderr",
          "text": "<ipython-input-66-15e315cf027b>:86: FutureWarning: We've integrated functorch into PyTorch. As the final step of the integration, `functorch.vmap` is deprecated as of PyTorch 2.0 and will be deleted in a future version of PyTorch >= 2.3. Please use `torch.vmap` instead; see the PyTorch 2.0 release notes and/or the `torch.func` migration guide for more details https://pytorch.org/docs/main/func.migrating.html\n  per_sample_grads = vmap(gradient_fn, in_dims=(None, None, None, 0, 0))(\n<ipython-input-17-8c83813e2afa>:11: FutureWarning: `torch.nn.utils.stateless.functional_call` is deprecated as of PyTorch 2.0 and will be removed in a future version of PyTorch. Please use `torch.func.functional_call` instead which is a drop-in replacement.\n  logits = functional_call(model, {**params, **buffers}, x.unsqueeze(0))  # Single input\n",
          "output_type": "stream"
        },
        {
          "name": "stdout",
          "text": "torch.Size([200, 200, 200])\ntorch.Size([200, 8000])\ntorch.Size([200])\ntorch.Size([200])\ntorch.Size([200, 200, 200])\ntorch.Size([200, 8000])\ntorch.Size([200])\ntorch.Size([200])\ntorch.Size([200, 200, 200])\ntorch.Size([200, 8000])\ntorch.Size([200])\ntorch.Size([200])\ntorch.Size([200, 200, 200])\ntorch.Size([200, 8000])\ntorch.Size([200])\ntorch.Size([200])\ntorch.Size([200, 200, 200])\ntorch.Size([200, 8000])\ntorch.Size([200])\ntorch.Size([200])\ntorch.Size([200, 200, 200])\ntorch.Size([200, 8000])\ntorch.Size([200])\ntorch.Size([200])\ntorch.Size([200, 200, 200])\ntorch.Size([200, 8000])\ntorch.Size([200])\ntorch.Size([200])\ntorch.Size([200, 200, 200])\ntorch.Size([200, 8000])\ntorch.Size([200])\ntorch.Size([200])\ntorch.Size([200, 200, 200])\ntorch.Size([200, 8000])\ntorch.Size([200])\ntorch.Size([200])\n",
          "output_type": "stream"
        },
        {
          "traceback": [
            "\u001b[0;31m---------------------------------------------------------------------------\u001b[0m",
            "\u001b[0;31mKeyboardInterrupt\u001b[0m                         Traceback (most recent call last)",
            "\u001b[0;32m<ipython-input-67-87246a1e044f>\u001b[0m in \u001b[0;36m<cell line: 21>\u001b[0;34m()\u001b[0m\n\u001b[1;32m     19\u001b[0m \u001b[0mprint\u001b[0m\u001b[0;34m(\u001b[0m\u001b[0;34mf'Number of parameters: {nparams}'\u001b[0m\u001b[0;34m)\u001b[0m\u001b[0;34m\u001b[0m\u001b[0;34m\u001b[0m\u001b[0m\n\u001b[1;32m     20\u001b[0m \u001b[0;34m\u001b[0m\u001b[0m\n\u001b[0;32m---> 21\u001b[0;31m \u001b[0mupd_train_dataset_tr\u001b[0m\u001b[0;34m,\u001b[0m \u001b[0msteps_to_reach_val_acc_tr\u001b[0m \u001b[0;34m=\u001b[0m \u001b[0mmain\u001b[0m\u001b[0;34m(\u001b[0m\u001b[0margs\u001b[0m\u001b[0;34m,\u001b[0m \u001b[0mtrain_dataset\u001b[0m\u001b[0;34m,\u001b[0m \u001b[0mtrain_loader\u001b[0m\u001b[0;34m,\u001b[0m \u001b[0mmlp\u001b[0m\u001b[0;34m,\u001b[0m  \u001b[0mtest\u001b[0m\u001b[0;34m)\u001b[0m\u001b[0;34m\u001b[0m\u001b[0;34m\u001b[0m\u001b[0m\n\u001b[0m",
            "\u001b[0;32m<ipython-input-66-15e315cf027b>\u001b[0m in \u001b[0;36mmain\u001b[0;34m(args, train_dataset, train_loader, mlp, test)\u001b[0m\n\u001b[1;32m    102\u001b[0m             \u001b[0mtotal_avg\u001b[0m\u001b[0;34m=\u001b[0m\u001b[0;34m(\u001b[0m\u001b[0mselected_last_avg\u001b[0m\u001b[0;34m+\u001b[0m\u001b[0mselected_second_last_avg\u001b[0m\u001b[0;34m)\u001b[0m\u001b[0;34m/\u001b[0m\u001b[0;36m2\u001b[0m\u001b[0;34m\u001b[0m\u001b[0;34m\u001b[0m\u001b[0m\n\u001b[1;32m    103\u001b[0m             \u001b[0mprint\u001b[0m\u001b[0;34m(\u001b[0m\u001b[0mtotal_avg\u001b[0m\u001b[0;34m.\u001b[0m\u001b[0mshape\u001b[0m\u001b[0;34m)\u001b[0m\u001b[0;34m\u001b[0m\u001b[0;34m\u001b[0m\u001b[0m\n\u001b[0;32m--> 104\u001b[0;31m             \u001b[0mtrain_dataset\u001b[0m\u001b[0;34m.\u001b[0m\u001b[0mdataset\u001b[0m\u001b[0;34m.\u001b[0m\u001b[0mupdate_fields\u001b[0m\u001b[0;34m(\u001b[0m\u001b[0mindices\u001b[0m\u001b[0;34m,\u001b[0m \u001b[0mtotal_avg\u001b[0m\u001b[0;34m,\u001b[0m \u001b[0mema_alpha\u001b[0m\u001b[0;34m)\u001b[0m\u001b[0;34m\u001b[0m\u001b[0;34m\u001b[0m\u001b[0m\n\u001b[0m\u001b[1;32m    105\u001b[0m \u001b[0;34m\u001b[0m\u001b[0m\n\u001b[1;32m    106\u001b[0m             \u001b[0moptimizer\u001b[0m\u001b[0;34m.\u001b[0m\u001b[0mzero_grad\u001b[0m\u001b[0;34m(\u001b[0m\u001b[0;34m)\u001b[0m\u001b[0;34m\u001b[0m\u001b[0;34m\u001b[0m\u001b[0m\n",
            "\u001b[0;32m<ipython-input-8-a915cb28b569>\u001b[0m in \u001b[0;36mupdate_fields\u001b[0;34m(self, indices, grad_stats, ema_alpha)\u001b[0m\n\u001b[1;32m     50\u001b[0m           \u001b[0msample_field\u001b[0m\u001b[0;34m[\u001b[0m\u001b[0;34m\"ema_grad\"\u001b[0m\u001b[0;34m]\u001b[0m \u001b[0;34m=\u001b[0m \u001b[0mupdated_ema\u001b[0m\u001b[0;34m\u001b[0m\u001b[0;34m\u001b[0m\u001b[0m\n\u001b[1;32m     51\u001b[0m \u001b[0;34m\u001b[0m\u001b[0m\n\u001b[0;32m---> 52\u001b[0;31m           \u001b[0mdeviation\u001b[0m \u001b[0;34m=\u001b[0m \u001b[0mabs\u001b[0m\u001b[0;34m(\u001b[0m\u001b[0mgrad\u001b[0m \u001b[0;34m-\u001b[0m \u001b[0mupdated_ema\u001b[0m\u001b[0;34m)\u001b[0m\u001b[0;34m\u001b[0m\u001b[0;34m\u001b[0m\u001b[0m\n\u001b[0m\u001b[1;32m     53\u001b[0m \u001b[0;34m\u001b[0m\u001b[0m\n\u001b[1;32m     54\u001b[0m           \u001b[0mnum_updates\u001b[0m \u001b[0;34m=\u001b[0m \u001b[0msample_field\u001b[0m\u001b[0;34m[\u001b[0m\u001b[0;34m\"num_updates\"\u001b[0m\u001b[0;34m]\u001b[0m \u001b[0;34m+\u001b[0m \u001b[0;36m1\u001b[0m  \u001b[0;31m# Increment the update count\u001b[0m\u001b[0;34m\u001b[0m\u001b[0;34m\u001b[0m\u001b[0m\n",
            "\u001b[0;31mKeyboardInterrupt\u001b[0m: "
          ],
          "ename": "KeyboardInterrupt",
          "evalue": "",
          "output_type": "error"
        }
      ],
      "execution_count": null
    },
    {
      "cell_type": "code",
      "source": [
        "upd_train_dataset, steps_to_reach_val_acc = main(args, train_dataset, train_loader, mlp,  test)"
      ],
      "metadata": {
        "trusted": true,
        "execution": {
          "iopub.status.busy": "2025-01-27T11:19:37.558613Z",
          "iopub.execute_input": "2025-01-27T11:19:37.558885Z",
          "iopub.status.idle": "2025-01-27T11:26:25.83391Z",
          "shell.execute_reply.started": "2025-01-27T11:19:37.558866Z",
          "shell.execute_reply": "2025-01-27T11:26:25.833214Z"
        },
        "id": "ntntGl4u_--A",
        "outputId": "381c2bd7-0685-4943-f95c-00514152a877",
        "colab": {
          "referenced_widgets": [
            "c97926b2763842e28fbdbe01481ac892"
          ]
        }
      },
      "outputs": [
        {
          "output_type": "display_data",
          "data": {
            "text/plain": "  0%|          | 0/10000 [00:00<?, ?it/s]",
            "application/vnd.jupyter.widget-view+json": {
              "version_major": 2,
              "version_minor": 0,
              "model_id": "c97926b2763842e28fbdbe01481ac892"
            }
          },
          "metadata": {}
        },
        {
          "name": "stderr",
          "text": "<ipython-input-18-ffa363b40aad>:86: FutureWarning: We've integrated functorch into PyTorch. As the final step of the integration, `functorch.vmap` is deprecated as of PyTorch 2.0 and will be deleted in a future version of PyTorch >= 2.3. Please use `torch.vmap` instead; see the PyTorch 2.0 release notes and/or the `torch.func` migration guide for more details https://pytorch.org/docs/main/func.migrating.html\n  per_sample_grads = vmap(gradient_fn, in_dims=(None, None, None, 0, 0))(\n<ipython-input-17-8c83813e2afa>:11: FutureWarning: `torch.nn.utils.stateless.functional_call` is deprecated as of PyTorch 2.0 and will be removed in a future version of PyTorch. Please use `torch.func.functional_call` instead which is a drop-in replacement.\n  logits = functional_call(model, {**params, **buffers}, x.unsqueeze(0))  # Single input\n",
          "output_type": "stream"
        }
      ],
      "execution_count": null
    },
    {
      "cell_type": "code",
      "source": [
        "\n",
        "import sys\n",
        "from argparse import ArgumentParser\n",
        "\n",
        "# Remove the extra arguments passed by the Jupyter Notebook kernel\n",
        "sys.argv = ['']\n"
      ],
      "metadata": {
        "trusted": true,
        "execution": {
          "iopub.status.busy": "2025-01-27T11:16:03.046472Z",
          "iopub.execute_input": "2025-01-27T11:16:03.046771Z",
          "iopub.status.idle": "2025-01-27T11:16:03.051033Z",
          "shell.execute_reply.started": "2025-01-27T11:16:03.046749Z",
          "shell.execute_reply": "2025-01-27T11:16:03.049857Z"
        },
        "id": "sCuu6uWZOrL8"
      },
      "outputs": [],
      "execution_count": null
    },
    {
      "cell_type": "code",
      "source": [
        "\n",
        "#     Same as used in paper of Grokfast\n",
        "args = argparse.Namespace(\n",
        "    train_points=5000,\n",
        "    optimization_steps=10000,\n",
        "    batch_size=200,\n",
        "    loss_function=\"CrossEntropy\",#changed MSE or CrossEntropy\n",
        "    optimizer=\"AdamW\",\n",
        "    weight_decay=0.01,\n",
        "    lr=1e-3,\n",
        "    initialization_scale=8.0,\n",
        "    download_directory=\".\",\n",
        "    depth=3,#changed\n",
        "    width=200,#changed\n",
        "    activation=\"ReLU\",\n",
        "    seed=42,\n",
        "    label=\"experiment_initial_2l\"\n",
        ")\n",
        "\n"
      ],
      "metadata": {
        "trusted": true,
        "execution": {
          "iopub.status.busy": "2025-01-27T11:19:31.340445Z",
          "iopub.execute_input": "2025-01-27T11:19:31.34078Z",
          "iopub.status.idle": "2025-01-27T11:19:31.345022Z",
          "shell.execute_reply.started": "2025-01-27T11:19:31.340756Z",
          "shell.execute_reply": "2025-01-27T11:19:31.344142Z"
        },
        "id": "WKYcKSfROrL9"
      },
      "outputs": [],
      "execution_count": null
    },
    {
      "cell_type": "code",
      "source": [
        "\n",
        "    #                                 Load dataset\n",
        "    #   -------------------------------------------------------------------------------   #\n",
        "\n",
        "\n",
        "    train_data = torch.load(f\"{dataset_path}/train.pt\",weights_only=True)\n",
        "    test_data = torch.load(f\"{dataset_path}/test.pt\",weights_only=True)\n",
        "\n",
        "    transform = None\n",
        "\n",
        "    train_images, train_labels = train_data\n",
        "    test_images, test_labels = test_data\n",
        "\n",
        "\n",
        "    # Create MyMNIST datasets\n",
        "    train_dataset = MyMNIST(train_images, train_labels, transform=transform)\n",
        "    test_dataset = MyMNIST(test_images, test_labels, transform=transform)\n",
        "\n",
        "\n",
        "    # # Create indices & stratify\n",
        "    train_indices = list(range(len(train_dataset)))\n",
        "    train_labels = [train_dataset.targets[i].item() for i in train_indices]\n",
        "\n",
        "    # Use train_test_split with stratification to randomly select a specified number of samples (args.train_points)\n",
        "    stratified_indices, _ = train_test_split(\n",
        "        train_indices,\n",
        "        train_size=args.train_points,\n",
        "        stratify=train_labels,\n",
        "        random_state=args.seed\n",
        "    )\n",
        "\n",
        "    train_dataset = torch.utils.data.Subset(train_dataset, stratified_indices)\n",
        "\n",
        "    train_loader = DataLoader(train_dataset, batch_size=args.batch_size, shuffle=True,collate_fn=custom_collate_fn)\n",
        "\n",
        "\n",
        "    # We'll just use the full test dataset\n",
        "    test = test_dataset\n",
        "\n"
      ],
      "metadata": {
        "trusted": true,
        "execution": {
          "iopub.status.busy": "2025-01-27T11:16:08.992878Z",
          "iopub.execute_input": "2025-01-27T11:16:08.993207Z",
          "iopub.status.idle": "2025-01-27T11:16:09.685679Z",
          "shell.execute_reply.started": "2025-01-27T11:16:08.99318Z",
          "shell.execute_reply": "2025-01-27T11:16:09.68498Z"
        },
        "id": "Qv7WxJP-OrL9"
      },
      "outputs": [],
      "execution_count": null
    },
    {
      "cell_type": "code",
      "source": [
        "device = torch.device(\"cuda\" if torch.cuda.is_available() else \"cpu\")\n",
        "\n",
        "activation_fn = activation_dict[args.activation]\n",
        "layers = [nn.Flatten()]\n",
        "for i in range(args.depth):\n",
        "    if i == 0:\n",
        "        layers.append(nn.Linear(784, args.width))\n",
        "        layers.append(activation_fn())\n",
        "    elif i == args.depth - 1:\n",
        "        layers.append(nn.Linear(args.width, 10))\n",
        "    else:\n",
        "        layers.append(nn.Linear(args.width, args.width))\n",
        "        layers.append(activation_fn())\n",
        "mlp = nn.Sequential(*layers).to(device)\n",
        "with torch.no_grad():\n",
        "    for p in mlp.parameters():\n",
        "        p.data = args.initialization_scale * p.data\n",
        "nparams = sum([p.numel() for p in mlp.parameters() if p.requires_grad])\n",
        "print(f'Number of parameters: {nparams}')\n"
      ],
      "metadata": {
        "trusted": true,
        "execution": {
          "iopub.status.busy": "2025-01-27T11:19:34.931561Z",
          "iopub.execute_input": "2025-01-27T11:19:34.931848Z",
          "iopub.status.idle": "2025-01-27T11:19:34.941208Z",
          "shell.execute_reply.started": "2025-01-27T11:19:34.931824Z",
          "shell.execute_reply": "2025-01-27T11:19:34.94057Z"
        },
        "id": "kKqgTxsX_--B",
        "outputId": "c43bf8fc-f66d-4f11-fa1a-32c845626894"
      },
      "outputs": [
        {
          "name": "stdout",
          "text": "Number of parameters: 199210\n",
          "output_type": "stream"
        }
      ],
      "execution_count": null
    },
    {
      "cell_type": "code",
      "source": [
        "print(len(train_dataset))"
      ],
      "metadata": {
        "trusted": true,
        "execution": {
          "iopub.status.busy": "2025-01-26T20:02:30.434608Z",
          "iopub.execute_input": "2025-01-26T20:02:30.434961Z",
          "iopub.status.idle": "2025-01-26T20:02:30.439526Z",
          "shell.execute_reply.started": "2025-01-26T20:02:30.434896Z",
          "shell.execute_reply": "2025-01-26T20:02:30.438582Z"
        },
        "id": "VyM5O6dJ_--C",
        "outputId": "04ac5d20-086b-4b48-b289-cabf3b45affc"
      },
      "outputs": [
        {
          "name": "stdout",
          "text": "1000\n",
          "output_type": "stream"
        }
      ],
      "execution_count": null
    },
    {
      "cell_type": "code",
      "source": [
        "import time\n",
        "\n",
        "# Start the timer\n",
        "start_time = time.time()\n",
        "\n",
        "# Call your training function\n",
        "upd_train_dataset, steps_to_reach_val_acc = main(args, train_dataset, train_loader, test)\n",
        "\n",
        "# End the timer\n",
        "end_time = time.time()\n",
        "\n",
        "# Calculate elapsed time\n",
        "elapsed_time = end_time - start_time\n",
        "\n",
        "# Convert to minutes and seconds (optional)\n",
        "minutes, seconds = divmod(elapsed_time, 60)\n",
        "\n",
        "print(f\"Training completed in {int(minutes)} minutes and {int(seconds)} seconds.\")\n"
      ],
      "metadata": {
        "trusted": true,
        "execution": {
          "iopub.status.busy": "2025-01-26T18:25:26.277801Z",
          "iopub.execute_input": "2025-01-26T18:25:26.278064Z",
          "iopub.status.idle": "2025-01-26T18:27:00.681142Z",
          "shell.execute_reply.started": "2025-01-26T18:25:26.278042Z",
          "shell.execute_reply": "2025-01-26T18:27:00.680452Z"
        },
        "id": "lvxQBdgtOrL9",
        "outputId": "f0f5db0a-2883-4ac7-ca2b-e9ae310f9e65",
        "colab": {
          "referenced_widgets": [
            "aee2a800602141fcb28c5b6402a03515"
          ]
        }
      },
      "outputs": [
        {
          "name": "stdout",
          "text": "Number of parameters: 199210\n",
          "output_type": "stream"
        },
        {
          "output_type": "display_data",
          "data": {
            "text/plain": "  0%|          | 0/1000 [00:00<?, ?it/s]",
            "application/vnd.jupyter.widget-view+json": {
              "version_major": 2,
              "version_minor": 0,
              "model_id": "aee2a800602141fcb28c5b6402a03515"
            }
          },
          "metadata": {}
        },
        {
          "name": "stderr",
          "text": "/usr/local/lib/python3.10/dist-packages/torch/autograd/graph.py:825: UserWarning: Using backward() with create_graph=True will create a reference cycle between the parameter and its gradient which can cause a memory leak. We recommend using autograd.grad when creating the graph to avoid this. If you have to use this function, make sure to reset the .grad fields of your parameters to None after use to break the cycle and avoid the leak. (Triggered internally at ../torch/csrc/autograd/engine.cpp:1201.)\n  return Variable._execution_engine.run_backward(  # Calls into the C++ engine to run the backward pass\n",
          "output_type": "stream"
        },
        {
          "name": "stdout",
          "text": "Training completed in 1 minutes and 34 seconds.\n",
          "output_type": "stream"
        }
      ],
      "execution_count": null
    },
    {
      "cell_type": "code",
      "source": [
        "results_pt_dir = \"/kaggle/working/results/pt\"\n",
        "\n",
        "file = \"mnist_experiment_initial_2l.pt\"\n",
        "\n",
        "results_pt_dir = os.path.join(results_pt_dir, file)\n",
        "\n",
        "results = torch.load(results_pt_dir, weights_only=True)\n",
        "\n",
        "# Extract data from results\n",
        "its = results[\"its\"]  # Optimization steps\n",
        "train_acc = results[\"train_acc\"]  # Training accuracy\n",
        "val_acc = results[\"val_acc\"]  # Validation accuracy\n",
        "train_loss = results[\"train_loss\"]  # Training loss\n",
        "val_loss = results[\"val_loss\"]  # Validation loss\n",
        "\n",
        "# Find the exact value at optimization step 1000\n",
        "step_index = its.index(1000) if 1000 in its else -1\n",
        "\n",
        "# Plot Accuracy\n",
        "plt.figure()\n",
        "plt.plot(its, train_acc, label=\"train\")\n",
        "plt.plot(its, val_acc, label=\"val\")\n",
        "plt.legend()\n",
        "plt.title(f\"Accuracy (Training initial dataset - 2 layers)\")\n",
        "plt.xlabel(\"Optimization Steps\")\n",
        "plt.ylabel(\"Accuracy\")\n",
        "plt.xscale(\"log\", base=10)\n",
        "plt.grid()\n",
        "#plt.savefig(f\"{results_dir}/acc/acc_{args_label}_lambda_{lamb}_alpha_{alpha}.png\", dpi=150)\n",
        "#plt.close()\n",
        "\n",
        "# Plot Loss\n",
        "plt.figure()\n",
        "plt.plot(its, train_loss, label=\"train\")\n",
        "plt.plot(its, val_loss, label=\"val\")\n",
        "plt.legend()\n",
        "plt.title(f\"Loss  (Training initial dataset - 2 layers)\")\n",
        "plt.xlabel(\"Optimization Steps\")\n",
        "plt.ylabel(\"Loss\")\n",
        "plt.xscale(\"log\", base=10)\n",
        "plt.grid()\n",
        "#plt.savefig(f\"{results_dir}/loss/loss_{args_label}_lambda_{lamb}_alpha_{alpha}.png\", dpi=150)\n",
        "#plt.close()\n",
        "plt.tight_layout()\n",
        "plt.show()\n"
      ],
      "metadata": {
        "trusted": true,
        "execution": {
          "iopub.status.busy": "2025-01-27T11:26:39.979933Z",
          "iopub.execute_input": "2025-01-27T11:26:39.980216Z",
          "iopub.status.idle": "2025-01-27T11:26:40.928339Z",
          "shell.execute_reply.started": "2025-01-27T11:26:39.980193Z",
          "shell.execute_reply": "2025-01-27T11:26:40.927419Z"
        },
        "id": "gRKYy4EeOrL9",
        "outputId": "71c49eb7-9ed5-47e6-fc25-21250fbf5fc2"
      },
      "outputs": [
        {
          "output_type": "display_data",
          "data": {
            "text/plain": "<Figure size 640x480 with 1 Axes>",
            "image/png": "[encoded data removed]"
          },
          "metadata": {}
        },
        {
          "output_type": "display_data",
          "data": {
            "text/plain": "<Figure size 640x480 with 1 Axes>",
            "image/png": "[encoded data removed]"
          },
          "metadata": {}
        }
      ],
      "execution_count": null
    },
    {
      "cell_type": "code",
      "source": [
        "\n",
        "results_pt_dir = \"/kaggle/working/results/pt\"\n",
        "\n",
        "file = \"mnist_experiment_initial_2l.pt\"\n",
        "\n",
        "results_pt_dir = os.path.join(results_pt_dir, file)\n",
        "\n",
        "checkpoint = torch.load(results_pt_dir, weights_only=True)  # change filename if necessary\n",
        "\n",
        "# Extract the logged steps and validation accuracies\n",
        "log_steps = checkpoint['its']      # e.g. [1, 2, 3, ...]\n",
        "val_accs  = checkpoint['val_acc']  # e.g. [0.80, 0.85, 0.91, ...]\n",
        "\n",
        "# Find and print the first step at which val_acc >= 90%\n",
        "for step, acc in zip(log_steps, val_accs):\n",
        "    if acc >= 0.90:\n",
        "        print(f\"Reached 90% validation accuracy at step: {step}\")\n",
        "        break\n",
        "# Find the step and value of the peak validation accuracy\n",
        "peak_val_acc = max(val_accs)  # Maximum validation accuracy\n",
        "peak_step = log_steps[val_accs.index(peak_val_acc)]  # Corresponding step\n",
        "\n",
        "print(f\"Peak validation accuracy: {peak_val_acc:.2%} at step {peak_step}\")"
      ],
      "metadata": {
        "trusted": true,
        "execution": {
          "iopub.status.busy": "2025-01-27T11:50:02.280495Z",
          "iopub.execute_input": "2025-01-27T11:50:02.280767Z",
          "iopub.status.idle": "2025-01-27T11:50:02.289795Z",
          "shell.execute_reply.started": "2025-01-27T11:50:02.280747Z",
          "shell.execute_reply": "2025-01-27T11:50:02.289067Z"
        },
        "id": "ZS90ZI8V_--D",
        "outputId": "0366ce77-2278-4767-97ee-e47ab938dafb"
      },
      "outputs": [
        {
          "name": "stdout",
          "text": "Reached 90% validation accuracy at step: 2680\nPeak validation accuracy: 94.20% at step 9179\n",
          "output_type": "stream"
        }
      ],
      "execution_count": null
    },
    {
      "cell_type": "code",
      "source": [
        "parent_dataset = upd_train_dataset.dataset  # Parent dataset\n",
        "subset_indices = upd_train_dataset.indices  # Indices of the subset\n",
        "\n",
        "# Accessing subset data from parent dataset\n",
        "for idx, subset_idx in enumerate(subset_indices[:10]):\n",
        "    print(f\"Sample {idx} (Subset Index {subset_idx}): {upd_train_dataset.dataset.extra_fields[subset_idx]}\")\n"
      ],
      "metadata": {
        "trusted": true,
        "execution": {
          "iopub.status.busy": "2025-01-27T11:26:47.600889Z",
          "iopub.execute_input": "2025-01-27T11:26:47.601242Z",
          "iopub.status.idle": "2025-01-27T11:26:47.786378Z",
          "shell.execute_reply.started": "2025-01-27T11:26:47.601211Z",
          "shell.execute_reply": "2025-01-27T11:26:47.785339Z"
        },
        "id": "Wzy3y-HnOrL9",
        "outputId": "a59fcca5-9fc1-4983-ca7e-fd7ba62eaa37"
      },
      "outputs": [
        {
          "name": "stdout",
          "text": "Sample 0 (Subset Index 54683): {'ema_grad': tensor(35.3093, device='cuda:0', grad_fn=<AddBackward0>), 'num_updates': 404, 'deviation_metric': tensor(135.3201, device='cuda:0', grad_fn=<DivBackward0>)}\nSample 1 (Subset Index 20549): {'ema_grad': tensor(-1073.9399, device='cuda:0', grad_fn=<AddBackward0>), 'num_updates': 404, 'deviation_metric': tensor(137.2150, device='cuda:0', grad_fn=<DivBackward0>)}\nSample 2 (Subset Index 49590): {'ema_grad': tensor(-5275.8853, device='cuda:0', grad_fn=<AddBackward0>), 'num_updates': 404, 'deviation_metric': tensor(119.2587, device='cuda:0', grad_fn=<DivBackward0>)}\nSample 3 (Subset Index 56029): {'ema_grad': tensor(8315.3721, device='cuda:0', grad_fn=<AddBackward0>), 'num_updates': 404, 'deviation_metric': tensor(185.2497, device='cuda:0', grad_fn=<DivBackward0>)}\nSample 4 (Subset Index 29594): {'ema_grad': tensor(-1753.0667, device='cuda:0', grad_fn=<AddBackward0>), 'num_updates': 404, 'deviation_metric': tensor(49.7067, device='cuda:0', grad_fn=<DivBackward0>)}\nSample 5 (Subset Index 42949): {'ema_grad': tensor(-1276.8192, device='cuda:0', grad_fn=<AddBackward0>), 'num_updates': 404, 'deviation_metric': tensor(99.9850, device='cuda:0', grad_fn=<DivBackward0>)}\nSample 6 (Subset Index 19415): {'ema_grad': tensor(2830.7795, device='cuda:0', grad_fn=<AddBackward0>), 'num_updates': 404, 'deviation_metric': tensor(64.1837, device='cuda:0', grad_fn=<DivBackward0>)}\nSample 7 (Subset Index 55165): {'ema_grad': tensor(-4407.8252, device='cuda:0', grad_fn=<AddBackward0>), 'num_updates': 404, 'deviation_metric': tensor(124.3244, device='cuda:0', grad_fn=<DivBackward0>)}\nSample 8 (Subset Index 10864): {'ema_grad': tensor(-42.0789, device='cuda:0', grad_fn=<AddBackward0>), 'num_updates': 404, 'deviation_metric': tensor(93.6087, device='cuda:0', grad_fn=<DivBackward0>)}\nSample 9 (Subset Index 39542): {'ema_grad': tensor(1401.8668, device='cuda:0', grad_fn=<AddBackward0>), 'num_updates': 404, 'deviation_metric': tensor(31.2304, device='cuda:0', grad_fn=<DivBackward0>)}\n",
          "output_type": "stream"
        }
      ],
      "execution_count": null
    },
    {
      "cell_type": "code",
      "source": [
        "import random\n",
        "from torch.utils.data import Subset\n",
        "\n",
        "def classify_samples_1(subset, retain_top_pct=60, random_retain_pct=5, seed=None):\n",
        "\n",
        "    if seed is not None:\n",
        "        random.seed(seed)\n",
        "\n",
        "    # Access the parent dataset and subset indices\n",
        "    parent_dataset = subset.dataset\n",
        "    subset_indices = subset.indices\n",
        "\n",
        "    # Collect indices and deviation values within the subset\n",
        "    subset_samples = [\n",
        "    (idx, parent_dataset.extra_fields[idx][\"deviation_metric\"]) for idx in subset_indices\n",
        "    ]\n",
        "\n",
        "    # Sort by deviation in descending order\n",
        "    sorted_samples = sorted(subset_samples, key=lambda x: x[1], reverse=True)\n",
        "    #sorted_samples = sorted(subset_samples, key=lambda x: x[1])\n",
        "\n",
        "    # Calculate the number of samples to retain\n",
        "    total_samples = len(sorted_samples)\n",
        "    top_k_count = int(total_samples * (retain_top_pct / 100))\n",
        "    random_count = int(total_samples * (random_retain_pct / 100))\n",
        "\n",
        "    # Select top-k samples\n",
        "    top_k_indices = [idx for idx, _ in sorted_samples[:top_k_count]]\n",
        "\n",
        "    # Select the remaining samples (excluding top-k)\n",
        "    remaining_samples = sorted_samples[top_k_count:]\n",
        "    remaining_indices = [idx for idx, _ in remaining_samples]\n",
        "\n",
        "    # Randomly select a percentage of the remaining samples\n",
        "    random_selected_indices = random.sample(remaining_indices, min(random_count, len(remaining_indices)))\n",
        "\n",
        "    # Combine selected indices\n",
        "    selected_indices = top_k_indices + random_selected_indices\n",
        "\n",
        "    # Return the new dataset as a subset\n",
        "    new_dataset = Subset(parent_dataset, selected_indices)\n",
        "    return new_dataset\n",
        "\n"
      ],
      "metadata": {
        "trusted": true,
        "execution": {
          "iopub.status.busy": "2025-01-27T11:27:08.875757Z",
          "iopub.execute_input": "2025-01-27T11:27:08.876033Z",
          "iopub.status.idle": "2025-01-27T11:27:08.882351Z",
          "shell.execute_reply.started": "2025-01-27T11:27:08.876012Z",
          "shell.execute_reply": "2025-01-27T11:27:08.881481Z"
        },
        "id": "t7DsiGzPOrL9"
      },
      "outputs": [],
      "execution_count": null
    },
    {
      "cell_type": "code",
      "source": [
        "def classify_samples_2(subset, top_pct=20, bottom_pct=20, seed=None):\n",
        "    \"\"\"\n",
        "    Select the top and bottom percentage of samples based on deviation_metric.\n",
        "\n",
        "    Parameters:\n",
        "    - subset: A Subset of the original dataset.\n",
        "    - top_pct: Percentage of samples with the highest deviation to retain.\n",
        "    - bottom_pct: Percentage of samples with the lowest deviation to retain.\n",
        "    - seed: Random seed for reproducibility (optional).\n",
        "\n",
        "    Returns:\n",
        "    - new_dataset: Subset of the original dataset based on the selected samples.\n",
        "    \"\"\"\n",
        "    if seed is not None:\n",
        "        random.seed(seed)\n",
        "\n",
        "    # Access the parent dataset and subset indices\n",
        "    parent_dataset = subset.dataset\n",
        "    subset_indices = subset.indices\n",
        "\n",
        "    # Collect indices and deviation values within the subset\n",
        "    subset_samples = [\n",
        "        (idx, parent_dataset.extra_fields[idx][\"deviation_metric\"]) for idx in subset_indices\n",
        "    ]\n",
        "\n",
        "    # Sort by deviation in ascending order (lowest deviations first)\n",
        "    sorted_samples = sorted(subset_samples, key=lambda x: x[1])\n",
        "\n",
        "    # Calculate the number of samples to retain\n",
        "    total_samples = len(sorted_samples)\n",
        "    top_k_count = int(total_samples * (top_pct / 100))\n",
        "    bottom_k_count = int(total_samples * (bottom_pct / 100))\n",
        "\n",
        "    # Select the bottom-k samples\n",
        "    bottom_k_indices = [idx for idx, _ in sorted_samples[:bottom_k_count]]\n",
        "\n",
        "    # Select the top-k samples\n",
        "    top_k_indices = [idx for idx, _ in sorted_samples[-top_k_count:]]\n",
        "\n",
        "    # Combine selected indices\n",
        "    selected_indices = bottom_k_indices + top_k_indices\n",
        "\n",
        "    # Return the new dataset as a subset\n",
        "    new_dataset = Subset(parent_dataset, selected_indices)\n",
        "    return new_dataset\n"
      ],
      "metadata": {
        "trusted": true,
        "execution": {
          "iopub.status.busy": "2025-01-27T11:27:11.750771Z",
          "iopub.execute_input": "2025-01-27T11:27:11.751044Z",
          "iopub.status.idle": "2025-01-27T11:27:11.756688Z",
          "shell.execute_reply.started": "2025-01-27T11:27:11.751022Z",
          "shell.execute_reply": "2025-01-27T11:27:11.755901Z"
        },
        "id": "b3D0atN0OrL-"
      },
      "outputs": [],
      "execution_count": null
    },
    {
      "cell_type": "code",
      "source": [
        "new_train_dataset = classify_samples_1(upd_train_dataset, retain_top_pct=60, random_retain_pct=20, seed=42)"
      ],
      "metadata": {
        "trusted": true,
        "execution": {
          "iopub.status.busy": "2025-01-27T11:39:29.211565Z",
          "iopub.execute_input": "2025-01-27T11:39:29.211872Z",
          "iopub.status.idle": "2025-01-27T11:39:30.587321Z",
          "shell.execute_reply.started": "2025-01-27T11:39:29.211846Z",
          "shell.execute_reply": "2025-01-27T11:39:30.586613Z"
        },
        "id": "2q-zh2BI_--E"
      },
      "outputs": [],
      "execution_count": null
    },
    {
      "cell_type": "code",
      "source": [
        "new_train_dataset = classify_samples_1(upd_train_dataset, retain_top_pct=20, random_retain_pct=20, seed=42)"
      ],
      "metadata": {
        "trusted": true,
        "execution": {
          "iopub.status.busy": "2025-01-26T18:30:20.933756Z",
          "iopub.execute_input": "2025-01-26T18:30:20.934082Z",
          "iopub.status.idle": "2025-01-26T18:30:23.419268Z",
          "shell.execute_reply.started": "2025-01-26T18:30:20.934044Z",
          "shell.execute_reply": "2025-01-26T18:30:23.418618Z"
        },
        "id": "3OmERrEJ_--F"
      },
      "outputs": [],
      "execution_count": null
    },
    {
      "cell_type": "code",
      "source": [
        "print(f\"Dataset size: {len(new_train_dataset)}\")"
      ],
      "metadata": {
        "trusted": true,
        "execution": {
          "iopub.status.busy": "2025-01-27T11:27:36.230509Z",
          "iopub.execute_input": "2025-01-27T11:27:36.230813Z",
          "iopub.status.idle": "2025-01-27T11:27:36.235143Z",
          "shell.execute_reply.started": "2025-01-27T11:27:36.230788Z",
          "shell.execute_reply": "2025-01-27T11:27:36.234219Z"
        },
        "id": "p6dcgSFgOrL-",
        "outputId": "b4d88aa6-7bb0-4382-c016-3844bfd61c4d"
      },
      "outputs": [
        {
          "name": "stdout",
          "text": "Dataset size: 4000\n",
          "output_type": "stream"
        }
      ],
      "execution_count": null
    },
    {
      "cell_type": "code",
      "source": [
        "print(f\"Subset indices: {new_train_dataset.indices[:10]} ... (total {len(new_train_dataset.indices)})\")\n"
      ],
      "metadata": {
        "trusted": true,
        "execution": {
          "iopub.status.busy": "2025-01-27T11:27:42.477252Z",
          "iopub.execute_input": "2025-01-27T11:27:42.477578Z",
          "iopub.status.idle": "2025-01-27T11:27:42.482025Z",
          "shell.execute_reply.started": "2025-01-27T11:27:42.477553Z",
          "shell.execute_reply": "2025-01-27T11:27:42.481386Z"
        },
        "id": "vPJHHNEn_--F",
        "outputId": "87c3c606-e76b-4897-daeb-f8477e63079d"
      },
      "outputs": [
        {
          "name": "stdout",
          "text": "Subset indices: [25289, 40034, 5972, 27299, 12617, 26143, 1047, 55649, 12073, 48129] ... (total 4000)\n",
          "output_type": "stream"
        }
      ],
      "execution_count": null
    },
    {
      "cell_type": "code",
      "source": [
        "new_train_loader = DataLoader(new_train_dataset, batch_size=args.batch_size, shuffle=True,collate_fn=custom_collate_fn)"
      ],
      "metadata": {
        "trusted": true,
        "execution": {
          "iopub.status.busy": "2025-01-27T11:27:45.749338Z",
          "iopub.execute_input": "2025-01-27T11:27:45.749632Z",
          "iopub.status.idle": "2025-01-27T11:27:45.753713Z",
          "shell.execute_reply.started": "2025-01-27T11:27:45.74961Z",
          "shell.execute_reply": "2025-01-27T11:27:45.752818Z"
        },
        "id": "WugLK9GDOrL-"
      },
      "outputs": [],
      "execution_count": null
    },
    {
      "cell_type": "code",
      "source": [
        "# Debug: Check the first few samples in the new dataset\n",
        "for idx in new_train_dataset.indices[:10]:  # Access the first 10 indices of the subset\n",
        "    print(f\"Sample {idx}: {upd_train_dataset.dataset.extra_fields[idx]}\")\n"
      ],
      "metadata": {
        "trusted": true,
        "execution": {
          "iopub.status.busy": "2025-01-27T11:27:47.962409Z",
          "iopub.execute_input": "2025-01-27T11:27:47.962756Z",
          "iopub.status.idle": "2025-01-27T11:27:47.985528Z",
          "shell.execute_reply.started": "2025-01-27T11:27:47.96273Z",
          "shell.execute_reply": "2025-01-27T11:27:47.98477Z"
        },
        "id": "_cvLKNSfOrL-",
        "outputId": "fb784c4e-3cdf-4269-da90-7442f07a6920"
      },
      "outputs": [
        {
          "name": "stdout",
          "text": "Sample 25289: {'ema_grad': tensor(1818.3473, device='cuda:0', grad_fn=<AddBackward0>), 'num_updates': 405, 'deviation_metric': tensor(845.4138, device='cuda:0', grad_fn=<DivBackward0>)}\nSample 40034: {'ema_grad': tensor(-875.8192, device='cuda:0', grad_fn=<AddBackward0>), 'num_updates': 404, 'deviation_metric': tensor(597.3281, device='cuda:0', grad_fn=<DivBackward0>)}\nSample 5972: {'ema_grad': tensor(-1261.2919, device='cuda:0', grad_fn=<AddBackward0>), 'num_updates': 404, 'deviation_metric': tensor(578.6356, device='cuda:0', grad_fn=<DivBackward0>)}\nSample 27299: {'ema_grad': tensor(-3485.7156, device='cuda:0', grad_fn=<AddBackward0>), 'num_updates': 404, 'deviation_metric': tensor(563.5667, device='cuda:0', grad_fn=<DivBackward0>)}\nSample 12617: {'ema_grad': tensor(2952.1860, device='cuda:0', grad_fn=<AddBackward0>), 'num_updates': 404, 'deviation_metric': tensor(542.4849, device='cuda:0', grad_fn=<DivBackward0>)}\nSample 26143: {'ema_grad': tensor(1163.7760, device='cuda:0', grad_fn=<AddBackward0>), 'num_updates': 404, 'deviation_metric': tensor(519.0385, device='cuda:0', grad_fn=<DivBackward0>)}\nSample 1047: {'ema_grad': tensor(-2856.0237, device='cuda:0', grad_fn=<AddBackward0>), 'num_updates': 404, 'deviation_metric': tensor(515.2540, device='cuda:0', grad_fn=<DivBackward0>)}\nSample 55649: {'ema_grad': tensor(3637.7886, device='cuda:0', grad_fn=<AddBackward0>), 'num_updates': 404, 'deviation_metric': tensor(503.6904, device='cuda:0', grad_fn=<DivBackward0>)}\nSample 12073: {'ema_grad': tensor(-8311.8203, device='cuda:0', grad_fn=<AddBackward0>), 'num_updates': 404, 'deviation_metric': tensor(496.9531, device='cuda:0', grad_fn=<DivBackward0>)}\nSample 48129: {'ema_grad': tensor(-4554.3721, device='cuda:0', grad_fn=<AddBackward0>), 'num_updates': 405, 'deviation_metric': tensor(494.2186, device='cuda:0', grad_fn=<DivBackward0>)}\n",
          "output_type": "stream"
        }
      ],
      "execution_count": null
    },
    {
      "cell_type": "code",
      "source": [
        "def reset_metrics(dataset):\n",
        "    \"\"\"\n",
        "    Reset all metrics in the dataset's `extra_fields` to their initial values.\n",
        "    \"\"\"\n",
        "    for field in dataset.extra_fields:\n",
        "        field[\"ema_grad\"] = 0.0\n",
        "        field[\"num_updates\"] = 0\n",
        "        field[\"deviation_metric\"] = 0.0"
      ],
      "metadata": {
        "trusted": true,
        "id": "R-LPxUs_OrL_",
        "execution": {
          "iopub.status.busy": "2025-01-27T11:34:06.100509Z",
          "iopub.execute_input": "2025-01-27T11:34:06.100809Z",
          "iopub.status.idle": "2025-01-27T11:34:06.104758Z",
          "shell.execute_reply.started": "2025-01-27T11:34:06.100788Z",
          "shell.execute_reply": "2025-01-27T11:34:06.103936Z"
        }
      },
      "outputs": [],
      "execution_count": null
    },
    {
      "cell_type": "code",
      "source": [
        "copy_train_dataset=new_train_dataset"
      ],
      "metadata": {
        "trusted": true,
        "execution": {
          "iopub.status.busy": "2025-01-27T11:39:32.007863Z",
          "iopub.execute_input": "2025-01-27T11:39:32.008139Z",
          "iopub.status.idle": "2025-01-27T11:39:32.011758Z",
          "shell.execute_reply.started": "2025-01-27T11:39:32.008117Z",
          "shell.execute_reply": "2025-01-27T11:39:32.011Z"
        },
        "id": "-pyec_Bp_--G"
      },
      "outputs": [],
      "execution_count": null
    },
    {
      "cell_type": "code",
      "source": [
        "# Reset metrics in the parent dataset\n",
        "reset_metrics(new_train_dataset.dataset)\n",
        "\n",
        "# Debug: Check the first few samples in the dataset after resetting\n",
        "for idx in train_dataset.indices[:10]:  # Access the first 10 indices of the subset\n",
        "    print(f\"Sample {idx}: {train_dataset.dataset.extra_fields[idx]}\")"
      ],
      "metadata": {
        "trusted": true,
        "id": "wK0HK2O5OrL_",
        "outputId": "e7c98ebb-bbe2-4966-c4f4-9b2f5ba973aa",
        "execution": {
          "iopub.status.busy": "2025-01-27T11:39:33.637375Z",
          "iopub.execute_input": "2025-01-27T11:39:33.637685Z",
          "iopub.status.idle": "2025-01-27T11:39:40.561649Z",
          "shell.execute_reply.started": "2025-01-27T11:39:33.637664Z",
          "shell.execute_reply": "2025-01-27T11:39:40.560865Z"
        }
      },
      "outputs": [
        {
          "name": "stdout",
          "text": "Sample 54683: {'ema_grad': 0.0, 'num_updates': 0, 'deviation_metric': 0.0}\nSample 20549: {'ema_grad': 0.0, 'num_updates': 0, 'deviation_metric': 0.0}\nSample 49590: {'ema_grad': 0.0, 'num_updates': 0, 'deviation_metric': 0.0}\nSample 56029: {'ema_grad': 0.0, 'num_updates': 0, 'deviation_metric': 0.0}\nSample 29594: {'ema_grad': 0.0, 'num_updates': 0, 'deviation_metric': 0.0}\nSample 42949: {'ema_grad': 0.0, 'num_updates': 0, 'deviation_metric': 0.0}\nSample 19415: {'ema_grad': 0.0, 'num_updates': 0, 'deviation_metric': 0.0}\nSample 55165: {'ema_grad': 0.0, 'num_updates': 0, 'deviation_metric': 0.0}\nSample 10864: {'ema_grad': 0.0, 'num_updates': 0, 'deviation_metric': 0.0}\nSample 39542: {'ema_grad': 0.0, 'num_updates': 0, 'deviation_metric': 0.0}\n",
          "output_type": "stream"
        }
      ],
      "execution_count": null
    },
    {
      "cell_type": "code",
      "source": [
        "new_train_loader = DataLoader(new_train_dataset, batch_size=args.batch_size, shuffle=True,collate_fn=custom_collate_fn)"
      ],
      "metadata": {
        "trusted": true,
        "execution": {
          "iopub.status.busy": "2025-01-27T11:39:44.642834Z",
          "iopub.execute_input": "2025-01-27T11:39:44.64315Z",
          "iopub.status.idle": "2025-01-27T11:39:44.720543Z",
          "shell.execute_reply.started": "2025-01-27T11:39:44.643126Z",
          "shell.execute_reply": "2025-01-27T11:39:44.719643Z"
        },
        "id": "kmkWLmJf_--H"
      },
      "outputs": [],
      "execution_count": null
    },
    {
      "cell_type": "code",
      "source": [
        "test_dataset = MyMNIST(test_images, test_labels, transform=transform)\n",
        "test=test_dataset\n",
        "args = argparse.Namespace(\n",
        "    #train_points=10000,\n",
        "    optimization_steps=10000,\n",
        "    batch_size=200,\n",
        "    loss_function=\"CrossEntropy\",#changed\n",
        "    optimizer=\"AdamW\",\n",
        "    weight_decay=0.01,\n",
        "    lr=1e-3,\n",
        "    initialization_scale=8.0,\n",
        "    download_directory=\".\",\n",
        "    depth=3,#changed\n",
        "    width=200,#changed\n",
        "    activation=\"ReLU\",\n",
        "    seed=42,\n",
        "    label=\"experiment_with_faster_2layers\"\n",
        ")\n"
      ],
      "metadata": {
        "trusted": true,
        "id": "Q-8O3bIEOrL_",
        "execution": {
          "iopub.status.busy": "2025-01-27T11:39:46.625022Z",
          "iopub.execute_input": "2025-01-27T11:39:46.625305Z",
          "iopub.status.idle": "2025-01-27T11:39:46.637901Z",
          "shell.execute_reply.started": "2025-01-27T11:39:46.625257Z",
          "shell.execute_reply": "2025-01-27T11:39:46.637216Z"
        }
      },
      "outputs": [],
      "execution_count": null
    },
    {
      "cell_type": "code",
      "source": [
        "device = torch.device(\"cuda\" if torch.cuda.is_available() else \"cpu\")\n",
        "\n",
        "activation_fn = activation_dict[args.activation]\n",
        "layers = [nn.Flatten()]\n",
        "for i in range(args.depth):\n",
        "    if i == 0:\n",
        "        layers.append(nn.Linear(784, args.width))\n",
        "        layers.append(activation_fn())\n",
        "    elif i == args.depth - 1:\n",
        "        layers.append(nn.Linear(args.width, 10))\n",
        "    else:\n",
        "        layers.append(nn.Linear(args.width, args.width))\n",
        "        layers.append(activation_fn())\n",
        "mlp2 = nn.Sequential(*layers).to(device)\n",
        "with torch.no_grad():\n",
        "    for p in mlp2.parameters():\n",
        "        p.data = args.initialization_scale * p.data\n",
        "nparams = sum([p.numel() for p in mlp2.parameters() if p.requires_grad])\n",
        "print(f'Number of parameters: {nparams}')"
      ],
      "metadata": {
        "trusted": true,
        "execution": {
          "iopub.status.busy": "2025-01-27T11:39:49.033923Z",
          "iopub.execute_input": "2025-01-27T11:39:49.034228Z",
          "iopub.status.idle": "2025-01-27T11:39:49.045662Z",
          "shell.execute_reply.started": "2025-01-27T11:39:49.034194Z",
          "shell.execute_reply": "2025-01-27T11:39:49.044805Z"
        },
        "id": "F94I6aL__--N",
        "outputId": "e06b7a6a-3f44-41a1-a19b-59dae7b22cb8"
      },
      "outputs": [
        {
          "name": "stdout",
          "text": "Number of parameters: 199210\n",
          "output_type": "stream"
        }
      ],
      "execution_count": null
    },
    {
      "cell_type": "code",
      "source": [
        "import time\n",
        "\n",
        "# Start the timer\n",
        "start_time = time.time()\n",
        "\n",
        "# Call your training function\n",
        "upd2_train_dataset, steps_to_reach_val_acc = main(args, new_train_dataset, new_train_loader, mlp2, test)\n",
        "\n",
        "# End the timer\n",
        "end_time = time.time()\n",
        "\n",
        "# Calculate elapsed time\n",
        "elapsed_time = end_time - start_time\n",
        "\n",
        "# Convert to minutes and seconds (optional)\n",
        "minutes, seconds = divmod(elapsed_time, 60)\n",
        "\n",
        "print(f\"Training completed in {int(minutes)} minutes and {int(seconds)} seconds.\")\n"
      ],
      "metadata": {
        "trusted": true,
        "execution": {
          "iopub.status.busy": "2025-01-27T11:39:51.349586Z",
          "iopub.execute_input": "2025-01-27T11:39:51.349857Z",
          "iopub.status.idle": "2025-01-27T11:46:21.039179Z",
          "shell.execute_reply.started": "2025-01-27T11:39:51.349837Z",
          "shell.execute_reply": "2025-01-27T11:46:21.038355Z"
        },
        "id": "JUqi2l_L_--N",
        "outputId": "72fb0233-63c4-4fc3-be7a-0cf347cdf9de",
        "colab": {
          "referenced_widgets": [
            "0da117aa218e44e18c896eecd35c74e5"
          ]
        }
      },
      "outputs": [
        {
          "output_type": "display_data",
          "data": {
            "text/plain": "  0%|          | 0/10000 [00:00<?, ?it/s]",
            "application/vnd.jupyter.widget-view+json": {
              "version_major": 2,
              "version_minor": 0,
              "model_id": "0da117aa218e44e18c896eecd35c74e5"
            }
          },
          "metadata": {}
        },
        {
          "name": "stderr",
          "text": "<ipython-input-18-ffa363b40aad>:86: FutureWarning: We've integrated functorch into PyTorch. As the final step of the integration, `functorch.vmap` is deprecated as of PyTorch 2.0 and will be deleted in a future version of PyTorch >= 2.3. Please use `torch.vmap` instead; see the PyTorch 2.0 release notes and/or the `torch.func` migration guide for more details https://pytorch.org/docs/main/func.migrating.html\n  per_sample_grads = vmap(gradient_fn, in_dims=(None, None, None, 0, 0))(\n<ipython-input-17-8c83813e2afa>:11: FutureWarning: `torch.nn.utils.stateless.functional_call` is deprecated as of PyTorch 2.0 and will be removed in a future version of PyTorch. Please use `torch.func.functional_call` instead which is a drop-in replacement.\n  logits = functional_call(model, {**params, **buffers}, x.unsqueeze(0))  # Single input\n",
          "output_type": "stream"
        },
        {
          "name": "stdout",
          "text": "Training completed in 6 minutes and 29 seconds.\n",
          "output_type": "stream"
        }
      ],
      "execution_count": null
    },
    {
      "cell_type": "code",
      "source": [
        "\n",
        "results_pt_dir = \"/kaggle/working/results/pt\"\n",
        "\n",
        "file=\"mnist_experiment_with_faster_2layers.pt\"\n",
        "\n",
        "results_pt_dir = os.path.join(results_pt_dir, file)\n",
        "\n",
        "results = torch.load(results_pt_dir,weights_only=True)\n",
        "\n",
        "\n",
        "# Extract data from results\n",
        "its = results[\"its\"]  # Optimization steps\n",
        "train_acc = results[\"train_acc\"]  # Training accuracy\n",
        "val_acc = results[\"val_acc\"]  # Validation accuracy\n",
        "train_loss = results[\"train_loss\"]  # Training loss\n",
        "val_loss = results[\"val_loss\"]  # Validation loss\n",
        "\n",
        "# Plot Accuracy\n",
        "plt.figure()\n",
        "plt.plot(its, train_acc, label=\"train\")\n",
        "plt.plot(its, val_acc, label=\"val\")\n",
        "plt.legend()\n",
        "plt.title(f\"Accuracy (Training on selected fast samples from dataset)\")\n",
        "plt.xlabel(\"Optimization Steps\")\n",
        "plt.ylabel(\"Accuracy\")\n",
        "plt.xscale(\"log\", base=10)\n",
        "plt.grid()\n",
        "#plt.savefig(f\"{results_dir}/acc/acc_{args_label}_lambda_{lamb}_alpha_{alpha}.png\", dpi=150)\n",
        "#plt.close()\n",
        "\n",
        "# Plot Loss\n",
        "plt.figure()\n",
        "plt.plot(its, train_loss, label=\"train\")\n",
        "plt.plot(its, val_loss, label=\"val\")\n",
        "plt.legend()\n",
        "plt.title(f\"Loss (Training on selected fast samples from dataset)\")\n",
        "plt.xlabel(\"Optimization Steps\")\n",
        "plt.ylabel(\"Loss\")\n",
        "plt.xscale(\"log\", base=10)\n",
        "plt.grid()\n",
        "#plt.savefig(f\"{results_dir}/loss/loss_{args_label}_lambda_{lamb}_alpha_{alpha}.png\", dpi=150)\n",
        "#plt.close()\n",
        "\n",
        "print(\"Plots saved successfully.\")"
      ],
      "metadata": {
        "trusted": true,
        "id": "a-wYeLOpOrL_",
        "outputId": "4d61e345-48de-4b51-b792-414f2652cc83",
        "execution": {
          "iopub.status.busy": "2025-01-27T11:46:41.521659Z",
          "iopub.execute_input": "2025-01-27T11:46:41.521942Z",
          "iopub.status.idle": "2025-01-27T11:46:42.384206Z",
          "shell.execute_reply.started": "2025-01-27T11:46:41.521921Z",
          "shell.execute_reply": "2025-01-27T11:46:42.383435Z"
        }
      },
      "outputs": [
        {
          "name": "stdout",
          "text": "Plots saved successfully.\n",
          "output_type": "stream"
        },
        {
          "output_type": "display_data",
          "data": {
            "text/plain": "<Figure size 640x480 with 1 Axes>",
            "image/png": "[encoded data removed]"
          },
          "metadata": {}
        },
        {
          "output_type": "display_data",
          "data": {
            "text/plain": "<Figure size 640x480 with 1 Axes>",
            "image/png": "[encoded data removed]"
          },
          "metadata": {}
        }
      ],
      "execution_count": null
    },
    {
      "cell_type": "code",
      "source": [
        "\n",
        "results_pt_dir = \"/kaggle/working/results/pt\"\n",
        "\n",
        "file=\"mnist_experiment_with_faster_2layers.pt\"\n",
        "\n",
        "results_pt_dir = os.path.join(results_pt_dir, file)\n",
        "\n",
        "checkpoint = torch.load(results_pt_dir, weights_only=True)  # change filename if necessary\n",
        "\n",
        "# Extract the logged steps and validation accuracies\n",
        "log_steps = checkpoint['its']      # e.g. [1, 2, 3, ...]\n",
        "val_accs  = checkpoint['val_acc']  # e.g. [0.80, 0.85, 0.91, ...]\n",
        "\n",
        "# Find and print the first step at which val_acc >= 90%\n",
        "for step, acc in zip(log_steps, val_accs):\n",
        "    if acc >= 0.90:\n",
        "        print(f\"Reached 90% validation accuracy at step: {step}\")\n",
        "        break\n",
        "\n",
        "# Find the step and value of the peak validation accuracy\n",
        "peak_val_acc = max(val_accs)  # Maximum validation accuracy\n",
        "peak_step = log_steps[val_accs.index(peak_val_acc)]  # Corresponding step\n",
        "\n",
        "print(f\"Peak validation accuracy: {peak_val_acc:.2%} at step {peak_step}\")"
      ],
      "metadata": {
        "trusted": true,
        "execution": {
          "iopub.status.busy": "2025-01-27T11:49:51.916572Z",
          "iopub.execute_input": "2025-01-27T11:49:51.916885Z",
          "iopub.status.idle": "2025-01-27T11:49:51.925591Z",
          "shell.execute_reply.started": "2025-01-27T11:49:51.916863Z",
          "shell.execute_reply": "2025-01-27T11:49:51.924922Z"
        },
        "id": "cRcLzpWE_--O",
        "outputId": "5177d5b5-1613-4e65-80f6-4533d436c9f1"
      },
      "outputs": [
        {
          "name": "stdout",
          "text": "Reached 90% validation accuracy at step: 2479\nPeak validation accuracy: 90.65% at step 3082\n",
          "output_type": "stream"
        }
      ],
      "execution_count": null
    }
  ]
}