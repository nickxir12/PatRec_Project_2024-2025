{
  "metadata": {
    "kernelspec": {
      "name": "python3",
      "display_name": "Python 3",
      "language": "python"
    },
    "language_info": {
      "name": "python",
      "version": "3.10.12",
      "mimetype": "text/x-python",
      "codemirror_mode": {
        "name": "ipython",
        "version": 3
      },
      "pygments_lexer": "ipython3",
      "nbconvert_exporter": "python",
      "file_extension": ".py"
    },
    "kaggle": {
      "accelerator": "gpu",
      "dataSources": [
        {
          "sourceId": 10611406,
          "sourceType": "datasetVersion",
          "datasetId": 6569340
        }
      ],
      "dockerImageVersionId": 30839,
      "isInternetEnabled": true,
      "language": "python",
      "sourceType": "notebook",
      "isGpuEnabled": true
    },
    "colab": {
      "gpuType": "T4",
      "provenance": [],
      "name": "sample_complexity_dataset",
      "include_colab_link": true
    },
    "accelerator": "GPU",
    "widgets": {
      "application/vnd.jupyter.widget-state+json": {}
    }
  },
  "nbformat_minor": 0,
  "nbformat": 4,
  "cells": [
    {
      "cell_type": "markdown",
      "metadata": {
        "id": "view-in-github",
        "colab_type": "text"
      },
      "source": [
        "<a href=\"https://colab.research.google.com/github/nickxir12/PatRec_Project_2024-2025/blob/main/MNIST_code/mnist-sample-complexity-online.ipynb\" target=\"_parent\"><img src=\"https://colab.research.google.com/assets/colab-badge.svg\" alt=\"Open In Colab\"/></a>"
      ]
    },
    {
      "source": [
        "# IMPORTANT: RUN THIS CELL IN ORDER TO IMPORT YOUR KAGGLE DATA SOURCES,\n",
        "# THEN FEEL FREE TO DELETE THIS CELL.\n",
        "# NOTE: THIS NOTEBOOK ENVIRONMENT DIFFERS FROM KAGGLE'S PYTHON\n",
        "# ENVIRONMENT SO THERE MAY BE MISSING LIBRARIES USED BY YOUR\n",
        "# NOTEBOOK.\n",
        "import kagglehub\n",
        "konstantinosbarkas_mnist_dataset_processed_from_local_path = kagglehub.dataset_download('konstantinosbarkas/mnist-dataset-processed-from-local')\n",
        "\n",
        "print('Data source import complete.')\n"
      ],
      "metadata": {
        "id": "DF_YkooEo4lW"
      },
      "cell_type": "code",
      "outputs": [],
      "execution_count": null
    },
    {
      "cell_type": "markdown",
      "source": [
        "# Idea 4: Samples fitering - online\n",
        "\n",
        "## Περιγραφή του αλγορίθμου\n",
        "- Γίνεται εκπαίδευση με grokfast - EMA. Όταν **appl_sampl_filter** is False έχω μόνο αυτό, ενώ για True εφαρμόζω επιπλέον και την ιδέα 4 για πιο έξυπνη επιλογή δειγμάτων.\n",
        "- Ο Dataloader έχει έναν custom sampler (WeightedRandomSampler) ο οποίος κάθε φορά διαλέγει ένα δείγμα με βάση κάποιο βάρος/πιθανότητα.\n",
        "- Στην αρχή τα βάρη είναι όλα ίδια (ομοιόμορφη κατανομή) οπότε ο Dataloader λειτουργεί όπως συνήθως διαλέγοντας τυχαία ένα sample.\n",
        "- Σε κάθε επανάληψη φτιάχνεται ένα ranking των δειγμάτων (με βάση του πόσο high frequency περιέχει το καθένα) το οποίο χρησιμοποιείται για να αποφασιστεί τι βάρος/πιθανότητα θα δοθεί σε κάθε δείγμα να επιλεγεί για εκπαίδευση. Το διάνυσμα βαρών/πιθανοτήτων ανανεώνεται κάθε **sampling_distr_upd_freq** επαναλήψεις.\n",
        "- Στην κατασκευή του διανύσματος βαρών από την συνολική πιθανότητα 1 δίνουμε στα **top_k** δείγματα συνολικά **top_k_sampling_prob** (και στα υπόλοιπα length(dataset) - **top_k** δείγματα δίνουμε συνολικά το υπόλοιπο 1 - **top_k_sampling_prob**).\n",
        "- Με **high_freq_better** is True ακολουθούμε την αρχική μας υπόθεση ότι τα δείγματα με high frequency είναι αυτά που θα πρέπει να ταΐσουμε το δίκτυο περισσότερο για να μάθει γρηγορότερα, για False γίνεται το αντίθετο.\n",
        "\n",
        "## Οδηγίες χρήσης για τρέξιμο\n",
        "Πήγαινε στον τίτλο **Execute training (by running main funciton)**. Πήγαινε στο parser.parse_args και όρισε τις τιμές που θες να δοκιμάσεις για grid search. Οι υπερπαράμετροι που σχετίζονται με την ιδέα 4 online είναι:\n",
        "\n",
        "- **top_k**\n",
        "- **top_k_sampling_prob**\n",
        "- **high_freq_better**\n",
        "- **sampling_distr_upd_freq**: Μάλλον είναι οκ στο 1 γιατί ακόμα και έτσι η εκπαίδευση δεν είναι αργή οπότε δεν έχω λόγο να το αυξήσω.\n",
        "\n",
        "Αν κάποιος θέλει να τρέξει κάποιες τιμές για το grid search, έχω βάλει στον φάκελο και ένα αρχείο για να σημειώνουμε τις τιμές των υπερπαραμέτρων που δοκίμασε ο καθένας για να μην τρέχουμε όλοι τα ίδια. Βάλτε GPU P100 (νομίζω είναι ελαφρώς καλύτερη), εμένα για τα 100.000 βήματα που έχω βάλει να είναι το default ένα τρέξιμο που κάνω μόνο με grokfast (δηλαδή **appl_sampl_filter** is False) παίρνει περίπου **7 λεπτά** οπότε καλά είμαστε από χρόνο.\n",
        "\n"
      ],
      "metadata": {
        "id": "f2_PALp4o4lc"
      }
    },
    {
      "cell_type": "code",
      "source": [
        "import kagglehub\n",
        "\n",
        "# Maybe this is needed if you want to import private datasets\n",
        "# kagglehub.login()\n"
      ],
      "metadata": {
        "id": "f4s6HWPGPSBJ",
        "trusted": true,
        "execution": {
          "iopub.status.busy": "2025-02-05T14:48:01.611341Z",
          "iopub.execute_input": "2025-02-05T14:48:01.611626Z",
          "iopub.status.idle": "2025-02-05T14:48:01.941782Z",
          "shell.execute_reply.started": "2025-02-05T14:48:01.611606Z",
          "shell.execute_reply": "2025-02-05T14:48:01.941076Z"
        }
      },
      "outputs": [],
      "execution_count": null
    },
    {
      "cell_type": "code",
      "source": [
        "# IMPORTANT: RUN THIS CELL IN ORDER TO IMPORT YOUR KAGGLE DATA SOURCES,\n",
        "# THEN FEEL FREE TO DELETE THIS CELL.\n",
        "# NOTE: THIS NOTEBOOK ENVIRONMENT DIFFERS FROM KAGGLE'S PYTHON\n",
        "# ENVIRONMENT SO THERE MAY BE MISSING LIBRARIES USED BY YOUR\n",
        "# NOTEBOOK.\n",
        "\n",
        "# hojjatk_mnist_dataset_path = kagglehub.dataset_download(\"hojjatk/mnist-dataset\")\n",
        "\n",
        "# The dataset was uploaded from me but I made it public so you too can probably load it with this line\n",
        "_ = kagglehub.dataset_download(\"konstantinosbarkas/mnist-dataset-processed-from-local\")\n",
        "\n",
        "print(\"Data source import complete.\")\n"
      ],
      "metadata": {
        "trusted": true,
        "execution": {
          "iopub.status.busy": "2025-02-05T14:48:01.94268Z",
          "iopub.execute_input": "2025-02-05T14:48:01.942913Z",
          "iopub.status.idle": "2025-02-05T14:48:02.33556Z",
          "shell.execute_reply.started": "2025-02-05T14:48:01.942893Z",
          "shell.execute_reply": "2025-02-05T14:48:02.334881Z"
        },
        "id": "MCS_5EF6o4lg",
        "outputId": "22d42a0d-4807-4f19-f213-1d7b86b84f74"
      },
      "outputs": [
        {
          "name": "stdout",
          "text": "Data source import complete.\n",
          "output_type": "stream"
        }
      ],
      "execution_count": null
    },
    {
      "cell_type": "code",
      "source": [
        "# This Python 3 environment comes with many helpful analytics libraries installed\n",
        "# It is defined by the kaggle/python Docker image: https://github.com/kaggle/docker-python\n",
        "\n",
        "\n",
        "# Input data files are available in the read-only \"../input/\" directory\n",
        "# For example, running this (by clicking run or pressing Shift+Enter) will list all files under the input directory\n",
        "\n",
        "import os\n",
        "import sys\n",
        "\n",
        "for dirname, _, filenames in os.walk(\"/kaggle/input\"):\n",
        "    for filename in filenames:\n",
        "        print(os.path.join(dirname, filename))\n",
        "\n",
        "# You can write up to 20GB to the current directory (/kaggle/working/) that gets preserved as output when you create a version using \"Save & Run All\"\n",
        "# You can also write temporary files to /kaggle/temp/, but they won't be saved outside of the current session\n"
      ],
      "metadata": {
        "trusted": true,
        "execution": {
          "iopub.status.busy": "2025-02-05T14:48:02.336917Z",
          "iopub.execute_input": "2025-02-05T14:48:02.33715Z",
          "iopub.status.idle": "2025-02-05T14:48:02.346324Z",
          "shell.execute_reply.started": "2025-02-05T14:48:02.33712Z",
          "shell.execute_reply": "2025-02-05T14:48:02.345563Z"
        },
        "id": "LJr8Iqnao4li",
        "outputId": "b6c5ef26-de81-4b1e-dc66-7001b0542335"
      },
      "outputs": [
        {
          "name": "stdout",
          "text": "/kaggle/input/MNIST_data_processed_from_local/train.pt\n/kaggle/input/MNIST_data_processed_from_local/test.pt\n",
          "output_type": "stream"
        }
      ],
      "execution_count": null
    },
    {
      "cell_type": "code",
      "source": [
        "# !pip install -r /kaggle/input/enter-data-dn-req/requirements.txt\n"
      ],
      "metadata": {
        "trusted": true,
        "execution": {
          "iopub.status.busy": "2025-02-05T14:48:02.347561Z",
          "iopub.execute_input": "2025-02-05T14:48:02.347881Z",
          "iopub.status.idle": "2025-02-05T14:48:02.356968Z",
          "shell.execute_reply.started": "2025-02-05T14:48:02.347852Z",
          "shell.execute_reply": "2025-02-05T14:48:02.356116Z"
        },
        "id": "IIhh60G4o4li"
      },
      "outputs": [],
      "execution_count": null
    },
    {
      "cell_type": "code",
      "source": [
        "# Install the Grokfast library\n",
        "!wget https://raw.githubusercontent.com/ironjr/grokfast/main/grokfast.py\n",
        "\n",
        "sys.path.append(\"/kaggle/working\")\n"
      ],
      "metadata": {
        "trusted": true,
        "execution": {
          "iopub.status.busy": "2025-02-05T14:48:02.357804Z",
          "iopub.execute_input": "2025-02-05T14:48:02.358117Z",
          "iopub.status.idle": "2025-02-05T14:48:02.817995Z",
          "shell.execute_reply.started": "2025-02-05T14:48:02.358065Z",
          "shell.execute_reply": "2025-02-05T14:48:02.817107Z"
        },
        "id": "TrviaFcbo4lj",
        "outputId": "dcf7ebb5-a09e-4c16-83b7-453236cb3a05"
      },
      "outputs": [
        {
          "name": "stdout",
          "text": "--2025-02-05 14:48:02--  https://raw.githubusercontent.com/ironjr/grokfast/main/grokfast.py\nResolving raw.githubusercontent.com (raw.githubusercontent.com)... 185.199.109.133, 185.199.110.133, 185.199.111.133, ...\nConnecting to raw.githubusercontent.com (raw.githubusercontent.com)|185.199.109.133|:443... connected.\nHTTP request sent, awaiting response... 200 OK\nLength: 1703 (1.7K) [text/plain]\nSaving to: ‘grokfast.py’\n\ngrokfast.py         100%[===================>]   1.66K  --.-KB/s    in 0s      \n\n2025-02-05 14:48:02 (29.2 MB/s) - ‘grokfast.py’ saved [1703/1703]\n\n",
          "output_type": "stream"
        }
      ],
      "execution_count": null
    },
    {
      "cell_type": "code",
      "source": [
        "# import argparse\n",
        "# import gzip\n",
        "import math\n",
        "import random\n",
        "# import struct\n",
        "import time\n",
        "from argparse import ArgumentParser\n",
        "# from collections import Counter, defaultdict, deque\n",
        "from itertools import islice\n",
        "# from pathlib import Path\n",
        "# from typing import Dict, List, Literal, Optional\n",
        "\n",
        "import matplotlib.pyplot as plt\n",
        "import numpy as np\n",
        "import torch\n",
        "import torch.nn as nn\n",
        "import torchvision\n",
        "# import torchvision.transforms as transforms\n",
        "from functorch import grad, vmap\n",
        "from sklearn.model_selection import train_test_split\n",
        "from torch.autograd import grad\n",
        "\n",
        "# from torch.nn.utils.stateless import functional_call, # This is deprecated, use the next one instead\n",
        "from torch.func import functional_call\n",
        "from torch.utils.data import DataLoader, Subset, WeightedRandomSampler, Dataset\n",
        "from tqdm.auto import tqdm\n",
        "\n",
        "from grokfast import gradfilter_ema\n"
      ],
      "metadata": {
        "id": "QLUi9XZMRpId",
        "trusted": true,
        "execution": {
          "iopub.status.busy": "2025-02-05T14:48:02.818915Z",
          "iopub.execute_input": "2025-02-05T14:48:02.819134Z",
          "iopub.status.idle": "2025-02-05T14:48:08.827473Z",
          "shell.execute_reply.started": "2025-02-05T14:48:02.819112Z",
          "shell.execute_reply": "2025-02-05T14:48:08.826826Z"
        }
      },
      "outputs": [],
      "execution_count": null
    },
    {
      "cell_type": "code",
      "source": [
        "results_dir = \"/kaggle/working/results/mnist_online\"\n",
        "os.makedirs(results_dir, exist_ok=True)\n",
        "dataset_path = \"/kaggle/input/MNIST_data_processed_from_local/\"\n"
      ],
      "metadata": {
        "trusted": true,
        "execution": {
          "iopub.status.busy": "2025-02-05T14:48:08.828076Z",
          "iopub.execute_input": "2025-02-05T14:48:08.828408Z",
          "iopub.status.idle": "2025-02-05T14:48:08.832622Z",
          "shell.execute_reply.started": "2025-02-05T14:48:08.828388Z",
          "shell.execute_reply": "2025-02-05T14:48:08.831733Z"
        },
        "id": "8xA_3PADo4ll"
      },
      "outputs": [],
      "execution_count": null
    },
    {
      "cell_type": "code",
      "source": [
        "optimizer_dict = {\"AdamW\": torch.optim.AdamW, \"Adam\": torch.optim.Adam, \"SGD\": torch.optim.SGD}\n",
        "\n",
        "activation_dict = {\"ReLU\": nn.ReLU, \"Tanh\": nn.Tanh, \"Sigmoid\": nn.Sigmoid, \"GELU\": nn.GELU}\n",
        "\n",
        "loss_function_dict = {\"MSE\": nn.MSELoss, \"CrossEntropy\": nn.CrossEntropyLoss}\n"
      ],
      "metadata": {
        "id": "8hhZpMIuSC4q",
        "trusted": true,
        "execution": {
          "iopub.status.busy": "2025-02-05T14:48:08.834904Z",
          "iopub.execute_input": "2025-02-05T14:48:08.835102Z",
          "iopub.status.idle": "2025-02-05T14:48:08.854215Z",
          "shell.execute_reply.started": "2025-02-05T14:48:08.835085Z",
          "shell.execute_reply": "2025-02-05T14:48:08.853447Z"
        }
      },
      "outputs": [],
      "execution_count": null
    },
    {
      "cell_type": "code",
      "source": [
        "def cycle(iterable):\n",
        "    while True:\n",
        "        for x in iterable:\n",
        "            yield x\n"
      ],
      "metadata": {
        "id": "RIifrNowR89e",
        "trusted": true,
        "execution": {
          "iopub.status.busy": "2025-02-05T14:48:08.855291Z",
          "iopub.execute_input": "2025-02-05T14:48:08.855541Z",
          "iopub.status.idle": "2025-02-05T14:48:08.871601Z",
          "shell.execute_reply.started": "2025-02-05T14:48:08.855521Z",
          "shell.execute_reply": "2025-02-05T14:48:08.870965Z"
        }
      },
      "outputs": [],
      "execution_count": null
    },
    {
      "cell_type": "code",
      "source": [
        "def custom_collate_fn_2(batch):\n",
        "    \"\"\"Custom collate function to handle extra fields in the dataset.\"\"\"\n",
        "    images, labels, _, _ = zip(*batch)  # Ignore the indices and extra_fields for loss computation\n",
        "    images = torch.stack(images)  # Stack images into a single tensor\n",
        "    labels = torch.tensor(labels)  # Convert labels to a tensor\n",
        "    return images, labels\n",
        "\n",
        "\n",
        "def compute_accuracy(model, dataset, device, N=None):\n",
        "    \"\"\"Utility to compute accuracy on a given dataset.\"\"\"\n",
        "    correct = 0\n",
        "    total = 0\n",
        "\n",
        "    loader = DataLoader(dataset, batch_size=256, shuffle=False, collate_fn=custom_collate_fn_2)\n",
        "\n",
        "    for x, y in loader:  # Unpack index and extra_fields as well\n",
        "        x, y = x.to(device), y.to(device)\n",
        "        with torch.no_grad():\n",
        "            outputs = model(x)\n",
        "            predictions = outputs.argmax(dim=1)\n",
        "        correct += (predictions == y).sum().item()\n",
        "        total += y.size(0)\n",
        "        if N is not None and total >= N:\n",
        "            break\n",
        "    return correct / total\n",
        "\n",
        "\n",
        "def compute_loss(model, dataset, loss_function_name, device, N=None):\n",
        "    \"\"\"Utility to compute the average loss on a given dataset.\"\"\"\n",
        "    loss_fn = loss_function_dict[loss_function_name]()\n",
        "\n",
        "    loader = DataLoader(dataset, batch_size=256, shuffle=False, collate_fn=custom_collate_fn_2)\n",
        "    total_loss = 0.0\n",
        "    count = 0\n",
        "    one_hots = torch.eye(10, device=device)\n",
        "    for x, y in loader:\n",
        "        x, y = x.to(device), y.to(device)\n",
        "        with torch.no_grad():\n",
        "            outputs = model(x)\n",
        "            if loss_function_name == \"CrossEntropy\":\n",
        "                loss = loss_fn(outputs, y)\n",
        "            elif loss_function_name == \"MSE\":\n",
        "                loss = loss_fn(outputs, one_hots[y])\n",
        "        batch_size = x.size(0)\n",
        "        total_loss += loss.item() * batch_size\n",
        "        count += batch_size\n",
        "        if N is not None and count >= N:\n",
        "            break\n",
        "    return total_loss / count\n"
      ],
      "metadata": {
        "id": "zlciE-2nKkLg",
        "trusted": true,
        "execution": {
          "iopub.status.busy": "2025-02-05T14:48:08.872434Z",
          "iopub.execute_input": "2025-02-05T14:48:08.872633Z",
          "iopub.status.idle": "2025-02-05T14:48:08.889143Z",
          "shell.execute_reply.started": "2025-02-05T14:48:08.872616Z",
          "shell.execute_reply": "2025-02-05T14:48:08.888322Z"
        }
      },
      "outputs": [],
      "execution_count": null
    },
    {
      "cell_type": "code",
      "source": [
        "# Added extra fields to keep ema_gra and history\n",
        "# In this implementation I use variance metric --> I don't also store deviation metric for memory efficiency\n",
        "class MyMNIST(torchvision.datasets.MNIST):\n",
        "    def __init__(self, data, targets, transform=None):\n",
        "        \"\"\"\n",
        "        Custom dataset to simulate MyMNIST behavior with extra fields.\n",
        "        Args:\n",
        "            data: Tensor of shape [N, 28, 28].\n",
        "            targets: Tensor of shape [N].\n",
        "            transform: Transformations to apply to the images.\n",
        "        \"\"\"\n",
        "        self.data = data.to(torch.float32)\n",
        "        self.targets = targets\n",
        "        self.transform = transform\n",
        "\n",
        "        # Initialize extra fields\n",
        "        self.extra_fields = [\n",
        "            {\n",
        "                \"ema_grad\": 0.0,  # EMA of gradient\n",
        "                \"num_updates\": 0,\n",
        "                # \"deviation_metric\": 0.0, # Deviation metric\n",
        "                \"variance_metric\": 0.0,  # Variance metric\n",
        "            }\n",
        "            for _ in range(len(self.data))\n",
        "        ]\n",
        "\n",
        "    def __getitem__(self, index):\n",
        "        \"\"\"\n",
        "        Returns a single data sample and its associated extra fields.\n",
        "        \"\"\"\n",
        "        img, target = self.data[index], self.targets[index]\n",
        "        if self.transform:\n",
        "            img = self.transform(img)\n",
        "        extra_field = self.extra_fields[index]\n",
        "        return img, target, index, extra_field\n",
        "\n",
        "    def update_fields(self, indices, grad_stats, ema_alpha=0.9):\n",
        "        \"\"\"\n",
        "        Update the extra fields for specified dataset indices.\n",
        "        \"\"\"\n",
        "\n",
        "        for idx, grad in zip(indices, grad_stats):\n",
        "            # Update EMA\n",
        "            sample_field = self.extra_fields[idx]\n",
        "\n",
        "            current_ema = sample_field[\"ema_grad\"]\n",
        "            updated_ema = ema_alpha * current_ema + (1 - ema_alpha) * grad\n",
        "            sample_field[\"ema_grad\"] = updated_ema\n",
        "\n",
        "            deviation = abs(grad - updated_ema)\n",
        "\n",
        "            num_updates = sample_field[\"num_updates\"] + 1  # Increment the update count\n",
        "            # current_avg_deviation = sample_field[\"deviation_metric\"]\n",
        "            current_avg_deviation = sample_field[\"variance_metric\"] ** 0.5\n",
        "            new_avg_deviation = ((current_avg_deviation * (num_updates - 1)) + deviation) / num_updates\n",
        "\n",
        "            # Update the deviation metric and number of updates\n",
        "            #sample_field[\"deviation_metric\"] = new_avg_deviation\n",
        "            sample_field[\"num_updates\"] = num_updates\n",
        "\n",
        "            # sample_field[\"deviation_metric\"] += deviation\n",
        "\n",
        "            # Optionally update variance-like metric\n",
        "            # Variance estimate (for higher sensitivity to fast changes)\n",
        "            sample_field[\"variance_metric\"] = new_avg_deviation**2\n"
      ],
      "metadata": {
        "trusted": true,
        "execution": {
          "iopub.status.busy": "2025-02-05T14:48:08.889899Z",
          "iopub.execute_input": "2025-02-05T14:48:08.89012Z",
          "iopub.status.idle": "2025-02-05T14:48:08.905032Z",
          "shell.execute_reply.started": "2025-02-05T14:48:08.890101Z",
          "shell.execute_reply": "2025-02-05T14:48:08.904182Z"
        },
        "id": "apEg3y1Zo4ln"
      },
      "outputs": [],
      "execution_count": null
    },
    {
      "cell_type": "code",
      "source": [
        "def custom_collate_fn(batch):\n",
        "    images, labels, indices, extra_fields = zip(*batch)\n",
        "    images = torch.stack(images)  # Stack images into a single tensor\n",
        "    labels = torch.tensor(labels)  # Convert labels to a tensor\n",
        "    return images, labels, indices, extra_fields\n"
      ],
      "metadata": {
        "id": "zif6Q-IEjFJ7",
        "trusted": true,
        "execution": {
          "iopub.status.busy": "2025-02-05T14:48:08.905978Z",
          "iopub.execute_input": "2025-02-05T14:48:08.906317Z",
          "iopub.status.idle": "2025-02-05T14:48:08.923073Z",
          "shell.execute_reply.started": "2025-02-05T14:48:08.906285Z",
          "shell.execute_reply": "2025-02-05T14:48:08.922315Z"
        }
      },
      "outputs": [],
      "execution_count": null
    },
    {
      "cell_type": "code",
      "source": [
        "# Needed for per sample gradient computations\n",
        "def select_random_subset(tensor, percentage, seed=42):\n",
        "    \"\"\"\n",
        "    Flatten the parameter dimensions for each batch sample, select a percentage of elements,\n",
        "    and return a tensor with shape [batch_size, selected_elements].\n",
        "\n",
        "    Args:\n",
        "        tensor (torch.Tensor): The gradient tensor of shape [batch_size, *parameter_dims].\n",
        "        percentage (float): The percentage of elements to select.\n",
        "        seed (int): Random seed for reproducibility.\n",
        "\n",
        "    Returns:\n",
        "        torch.Tensor: A tensor of shape [batch_size, selected_elements].\n",
        "    \"\"\"\n",
        "    batch_size, *param_dims = tensor.shape  # Extract batch and parameter dimensions\n",
        "    total_params = torch.prod(torch.tensor(param_dims))  # Total parameters per sample\n",
        "    subset_size = int(total_params * percentage)  # 20% of parameters\n",
        "\n",
        "    # Set seed for reproducibility\n",
        "    random.seed(seed)\n",
        "    indices = random.sample(range(total_params), subset_size)  # Random indices for selection\n",
        "\n",
        "    # Flatten parameter dimensions and select elements for each batch\n",
        "    flat_tensor = tensor.view(batch_size, -1)  # Flatten parameter dimensions for each sample\n",
        "    selected_subset = flat_tensor[:, indices]  # Select the same random indices across the batch\n",
        "\n",
        "    return selected_subset\n"
      ],
      "metadata": {
        "trusted": true,
        "execution": {
          "iopub.status.busy": "2025-02-05T14:48:08.923786Z",
          "iopub.execute_input": "2025-02-05T14:48:08.924016Z",
          "iopub.status.idle": "2025-02-05T14:48:08.937251Z",
          "shell.execute_reply.started": "2025-02-05T14:48:08.923985Z",
          "shell.execute_reply": "2025-02-05T14:48:08.936539Z"
        },
        "id": "RsaO4-Pao4ln"
      },
      "outputs": [],
      "execution_count": null
    },
    {
      "cell_type": "code",
      "source": [
        "# Needed for online sample filtering\n",
        "def rank_to_sampling_weights(my_dataset, top_k, top_k_sampling_prob, high_freq_better):\n",
        "    \"\"\"\n",
        "    Rank samples by variance_metric and assign sampling weights.\n",
        "\n",
        "    Parameters:\n",
        "    - my_dataset: MyMNIST object.\n",
        "    - top_k: Fraction of top samples to assign higher sampling probability.\n",
        "    - top_k_sampling_prob: Probability assigned to the top_k fraction of samples.\n",
        "\n",
        "    Returns:\n",
        "    - new_weights: List of sampling weights for each sample.\n",
        "    \"\"\"\n",
        "    # Calculate the number of top_k samples\n",
        "    num_samples = len(my_dataset)\n",
        "    top_k_count = int(top_k * num_samples)\n",
        "\n",
        "    # Sort indices by variance_metric in descending order\n",
        "    sorted_indices = sorted(\n",
        "        range(num_samples),\n",
        "        key=lambda idx: my_dataset.dataset.extra_fields[idx][\"variance_metric\"],\n",
        "        reverse=high_freq_better,\n",
        "    )\n",
        "\n",
        "    # Initialize new_weights with zeros\n",
        "    new_weights = [0.0] * num_samples\n",
        "\n",
        "    # Assign weights to the top_k samples\n",
        "    for idx in sorted_indices[:top_k_count]:\n",
        "        new_weights[idx] = top_k_sampling_prob / top_k_count\n",
        "\n",
        "    # Assign weights to the rest of the samples\n",
        "    for idx in sorted_indices[top_k_count:]:\n",
        "        new_weights[idx] = (1 - top_k_sampling_prob) / (num_samples - top_k_count)\n",
        "\n",
        "    return new_weights\n"
      ],
      "metadata": {
        "trusted": true,
        "execution": {
          "iopub.status.busy": "2025-02-05T14:48:08.938017Z",
          "iopub.execute_input": "2025-02-05T14:48:08.938293Z",
          "iopub.status.idle": "2025-02-05T14:48:08.956461Z",
          "shell.execute_reply.started": "2025-02-05T14:48:08.938264Z",
          "shell.execute_reply": "2025-02-05T14:48:08.955707Z"
        },
        "id": "-PhvBn6Qo4lo"
      },
      "outputs": [],
      "execution_count": null
    },
    {
      "cell_type": "markdown",
      "source": [
        "## def main"
      ],
      "metadata": {
        "id": "mgFgUoPXo4lo"
      }
    },
    {
      "cell_type": "code",
      "source": [
        "import random\n",
        "from functorch import vmap, grad\n",
        "from torch.nn.utils.stateless import functional_call\n",
        "\n",
        "def main(args):\n",
        "    log_freq = math.ceil(args.optimization_steps / 150)\n",
        "\n",
        "    device = torch.device(\"cuda\" if torch.cuda.is_available() else \"cpu\")\n",
        "    dtype = torch.float32\n",
        "    one_hots = torch.eye(10, 10).to(device)\n",
        "\n",
        "    torch.set_default_dtype(dtype)\n",
        "    torch.manual_seed(args.seed)\n",
        "    torch.cuda.manual_seed_all(args.seed)\n",
        "    random.seed(args.seed)\n",
        "    np.random.seed(args.seed)\n",
        "\n",
        "    #                                 Load dataset\n",
        "    #   -------------------------------------------------------------------------------   #\n",
        "    train_data = torch.load(f\"{dataset_path}/train.pt\", weights_only=True)\n",
        "    test_data = torch.load(f\"{dataset_path}/test.pt\", weights_only=True)\n",
        "\n",
        "    transform = None\n",
        "\n",
        "    train_images, train_labels = train_data\n",
        "    test_images, test_labels = test_data\n",
        "\n",
        "    # Create MyMNIST datasets\n",
        "    train_dataset = MyMNIST(train_images, train_labels, transform=transform)\n",
        "    test_dataset = MyMNIST(test_images, test_labels, transform=transform)\n",
        "    test = test_dataset  # For compatibility with our older code\n",
        "\n",
        "    # Create indices & stratify\n",
        "    train_indices = list(range(len(train_dataset)))\n",
        "    train_labels = [train_dataset.targets[i].item() for i in train_indices]\n",
        "\n",
        "    # Use train_test_split with stratification to randomly select a specified number of samples (args.train_points)\n",
        "    stratified_indices, _ = train_test_split(\n",
        "        train_indices,\n",
        "        train_size=args.train_points,\n",
        "        stratify=train_labels,\n",
        "        random_state=args.seed,\n",
        "    )\n",
        "\n",
        "    train_subset = Subset(train_dataset, stratified_indices)\n",
        "\n",
        "    # Create initial weights for uniform sampling\n",
        "    weights = [1.0] * len(train_subset)\n",
        "    sampler = WeightedRandomSampler(weights, len(weights))\n",
        "\n",
        "    train_loader = DataLoader(train_subset, batch_size=args.batch_size, sampler=sampler, collate_fn=custom_collate_fn)\n",
        "\n",
        "    activation_fn = activation_dict[args.activation]\n",
        "\n",
        "    #                                   Create model\n",
        "    #   -------------------------------------------------------------------------------   #\n",
        "\n",
        "    layers = [nn.Flatten()]\n",
        "    for i in range(args.depth):\n",
        "        if i == 0:\n",
        "            layers.append(nn.Linear(784, args.width))\n",
        "            layers.append(activation_fn())\n",
        "        elif i == args.depth - 1:\n",
        "            layers.append(nn.Linear(args.width, 10))\n",
        "        else:\n",
        "            layers.append(nn.Linear(args.width, args.width))\n",
        "            layers.append(activation_fn())\n",
        "    mlp = nn.Sequential(*layers).to(device)\n",
        "    with torch.no_grad():\n",
        "        for p in mlp.parameters():\n",
        "            p.data = args.initialization_scale * p.data\n",
        "    nparams = sum([p.numel() for p in mlp.parameters() if p.requires_grad])\n",
        "    print(f\"Number of parameters: {nparams}\")\n",
        "\n",
        "    # create optimizer\n",
        "    assert args.optimizer in optimizer_dict, f\"Unsupported optimizer choice: {args.optimizer}\"\n",
        "    optimizer = optimizer_dict[args.optimizer](mlp.parameters(), lr=args.lr, weight_decay=args.weight_decay)\n",
        "\n",
        "    # define loss function\n",
        "    assert args.loss_function in loss_function_dict\n",
        "    loss_fn = loss_function_dict[args.loss_function]()\n",
        "\n",
        "    # Needed for per sample gradient computations\n",
        "    if args.appl_sampl_filter:\n",
        "        # Define a function for forward + loss computation\n",
        "        def compute_loss_vmap(params, buffers, model, x, y):\n",
        "            # Use functional_call to pass parameters and buffers explicitly\n",
        "            logits = functional_call(model, {**params, **buffers}, x.unsqueeze(0))  # Single input\n",
        "            loss = loss_fn(logits, y.unsqueeze(0))  # Single output\n",
        "            return loss.mean()\n",
        "\n",
        "        # Prepare model parameters and buffers\n",
        "        params_and_buffers = {**dict(mlp.named_parameters()), **dict(mlp.named_buffers())}\n",
        "\n",
        "        params = {k: v for k, v in params_and_buffers.items() if v.requires_grad}\n",
        "        buffers = {k: v for k, v in params_and_buffers.items() if not v.requires_grad}\n",
        "\n",
        "\n",
        "        # Create the gradient function\n",
        "        gradient_fn = grad(compute_loss_vmap)\n",
        "\n",
        "        # Initialize EMA and metric history for each sample\n",
        "        gradient_ema = [0.0 for _ in range(len(train_subset))]\n",
        "        # gradient_metric_history = [[] for _ in range(len(train_subset))] # Probably unused\n",
        "\n",
        "    #                           Start Training below\n",
        "    #   -------------------------------------------------------------------------------   #\n",
        "    log_steps, train_losses, train_accuracies, test_losses, test_accuracies = [], [], [], [], []\n",
        "    one_hots = torch.eye(10, 10).to(device)\n",
        "\n",
        "    grads = None\n",
        "\n",
        "    with tqdm(total=args.optimization_steps, dynamic_ncols=True) as pbar:\n",
        "\n",
        "        reached_early_stop = False  # Flag to indicate early stopping\n",
        "        steps_to_reach_val_acc = None  # Variable to store steps for 0.95 validation accuracy\n",
        "\n",
        "        stable_threshold = 100  # Number of steps the validation accuracy must remain > 0.9\n",
        "        stable_steps = 0  # Counter for steps validation accuracy remains above 0.9\n",
        "\n",
        "        for step in range(args.optimization_steps):\n",
        "            if reached_early_stop: break\n",
        "            # Update the sampling distribution (according to the latest ranking of the samples)\n",
        "            if args.appl_sampl_filter:\n",
        "                if step % args.sampling_distr_upd_freq == 0 and step != 0:\n",
        "                    # Update the weights of the sampling based on the latest gradient metrics\n",
        "                    weights = rank_to_sampling_weights(train_subset, args.top_k, args.top_k_sampling_prob, args.high_freq_better)\n",
        "                    sampler = WeightedRandomSampler(weights, num_samples=len(weights))\n",
        "                    train_loader = DataLoader(\n",
        "                        train_subset,\n",
        "                        batch_size=args.batch_size,\n",
        "                        sampler=sampler,\n",
        "                        collate_fn=custom_collate_fn,\n",
        "                    )\n",
        "\n",
        "            for batch in islice(cycle(train_loader),1):\n",
        "                x, labels, indices, _ = batch\n",
        "                do_log = (step < 30) or (step < 150 and step % 10 == 0) or step % log_freq == 0\n",
        "                if do_log:\n",
        "                    with torch.no_grad():\n",
        "                        train_losses.append(compute_loss(mlp, train_subset, args.loss_function, device, N=len(train_subset)))\n",
        "                        train_accuracies.append(compute_accuracy(mlp, train_subset, device, N=len(train_subset)))\n",
        "                        test_losses.append(compute_loss(mlp, test, args.loss_function, device, N=len(test)))\n",
        "                        test_accuracies.append(compute_accuracy(mlp, test, device, N=len(test)))\n",
        "                        log_steps.append(step)\n",
        "                        pbar.set_description(\n",
        "                            \"Loss: {0:1.1e}|{1:1.1e}. Acc: {2:2.1f}%|{3:2.1f}%\".format(\n",
        "                                train_losses[-1],\n",
        "                                test_losses[-1],\n",
        "                                train_accuracies[-1] * 100,\n",
        "                                test_accuracies[-1] * 100,\n",
        "                            )\n",
        "                        )\n",
        "\n",
        "                optimizer.zero_grad()\n",
        "\n",
        "                x, labels = x.to(device), labels.to(device)\n",
        "                y = mlp(x.to(device))\n",
        "                if args.loss_function == \"CrossEntropy\":\n",
        "                    # Use integer labels for CrossEntropyLoss\n",
        "                    loss = loss_fn(y, labels)\n",
        "                elif args.loss_function == \"MSE\":\n",
        "                    loss = loss_fn(y, one_hots[labels])\n",
        "\n",
        "                loss.backward() # Do I need create_graph?\n",
        "                #loss.backward(create_graph=True)\n",
        "\n",
        "                if args.appl_sampl_filter:  # Unnecessary if we are not applying sample filtering\n",
        "                    # -----------------------------------------------------------------\n",
        "                    #   Gradient Stats: Capture grads for each sample\n",
        "                    # -----------------------------------------------------------------\n",
        "                    # Identify the last two Linear layers dynamically\n",
        "                    batch_gradients = []\n",
        "\n",
        "                    # Use vmap for batch gradient computation\n",
        "                    per_sample_grads = vmap(gradient_fn, in_dims=(None, None, None, 0, 0))(params, buffers, mlp, x, labels)\n",
        "\n",
        "                    last_layer_grad = per_sample_grads[\"3.weight\"]  # Replace with your actual parameter name\n",
        "                    second_last_layer_grad = per_sample_grads[\"5.weight\"]\n",
        "\n",
        "                    percentage_s_l = 0.2  # Adjust percentage as needed\n",
        "                    percentage_l = 0.5\n",
        "                    selected_last = select_random_subset(last_layer_grad, percentage_l, seed=42)\n",
        "                    selected_second_last = select_random_subset(second_last_layer_grad, percentage_s_l, seed=42)\n",
        "\n",
        "                    selected_last_avg = selected_last.mean(dim=-1)\n",
        "                    selected_second_last_avg = selected_second_last.mean(dim=-1)\n",
        "                    total_avg = (selected_last_avg + selected_second_last_avg) / 2\n",
        "\n",
        "                    train_subset.dataset.update_fields(indices, total_avg, args.ema_alpha_sampl_rank)\n",
        "\n",
        "                    # -----------------------------------------------------------------\n",
        "                    # -----------------------------------------------------------------\n",
        "\n",
        "                # Grokfast (EMA)\n",
        "                # Add required code for applying grokfast\n",
        "\n",
        "                if args.filter == \"none\":\n",
        "                    pass\n",
        "                elif args.filter == \"ma\":\n",
        "                    grads = gradfilter_ma(mlp, grads=grads, window_size=args.window_size, lamb=args.lamb, trigger=trigger)\n",
        "                elif args.filter == \"ema\":\n",
        "                    grads = gradfilter_ema(mlp, grads=grads, alpha=args.alpha, lamb=args.lamb)\n",
        "                else:\n",
        "                    raise ValueError(f\"Invalid gradient filter type `{args.filter}`\")\n",
        "\n",
        "                optimizer.step()\n",
        "\n",
        "                # Check for early stopping conditions\n",
        "                test_acc = test_accuracies[-1] if len(test_accuracies) > 0 else 0\n",
        "\n",
        "                # # For early stopping at some val accuracy\n",
        "                # if test_acc >= 0.9 and steps_to_reach_val_acc is None:\n",
        "                #     steps_to_reach_val_acc = step  # Record the first step reaching 0.9 validation accuracy\n",
        "\n",
        "                # if test_acc > 0.85:\n",
        "                #     stable_steps += 1\n",
        "                # else:\n",
        "                #     stable_steps = 0  # Reset counter if accuracy drops below 0.85\n",
        "\n",
        "                # if stable_steps >= stable_threshold and test_acc >= 0.9:\n",
        "                #     reached_early_stop = True\n",
        "                #     print(f\"Validation accuracy of 0.9 reached and remained > 0.85 for {stable_threshold} step at step {step}\")\n",
        "\n",
        "                pbar.update(1)\n",
        "\n",
        "\n",
        "    # Save results\n",
        "    specific_result_dir = f\"mnist_{args.label}.pt\"\n",
        "    results_filename = os.path.join(results_dir, specific_result_dir)\n",
        "    torch.save(\n",
        "        {\n",
        "            \"its\": log_steps,\n",
        "            \"train_acc\": train_accuracies,\n",
        "            \"train_loss\": train_losses,\n",
        "            \"val_acc\": test_accuracies,\n",
        "            \"val_loss\": test_losses,\n",
        "            \"steps_to_reach\": steps_to_reach_val_acc,\n",
        "            \"model_state_dict\": mlp.state_dict(),  # Save the model's state dictionary, maybe unnecessary\n",
        "        },\n",
        "        results_filename,\n",
        "    )\n",
        "\n",
        "    print(f\"\\nSteps needed to reach 0.9 validation accuracy: {steps_to_reach_val_acc}\")\n"
      ],
      "metadata": {
        "id": "LWPwaBWpSF52",
        "trusted": true,
        "execution": {
          "iopub.status.busy": "2025-02-05T14:48:08.957322Z",
          "iopub.execute_input": "2025-02-05T14:48:08.957578Z",
          "iopub.status.idle": "2025-02-05T14:48:08.980045Z",
          "shell.execute_reply.started": "2025-02-05T14:48:08.957547Z",
          "shell.execute_reply": "2025-02-05T14:48:08.979393Z"
        }
      },
      "outputs": [],
      "execution_count": null
    },
    {
      "cell_type": "code",
      "source": [
        "# Remove the extra arguments passed by the Jupyter Notebook kernel\n",
        "sys.argv = [\"\"]\n"
      ],
      "metadata": {
        "trusted": true,
        "execution": {
          "iopub.status.busy": "2025-02-05T14:48:08.980865Z",
          "iopub.execute_input": "2025-02-05T14:48:08.981088Z",
          "iopub.status.idle": "2025-02-05T14:48:09.000391Z",
          "shell.execute_reply.started": "2025-02-05T14:48:08.98107Z",
          "shell.execute_reply": "2025-02-05T14:48:08.999795Z"
        },
        "id": "zKXCDLLGo4lp"
      },
      "outputs": [],
      "execution_count": null
    },
    {
      "cell_type": "markdown",
      "source": [
        "## Execute training (by running main function)"
      ],
      "metadata": {
        "id": "rlyAaJ0_o4lp"
      }
    },
    {
      "cell_type": "markdown",
      "source": [
        "From now on i just train networks with different configurations every timeand then I print their results after."
      ],
      "metadata": {
        "id": "mYFuQ4hCo4lq"
      }
    },
    {
      "cell_type": "markdown",
      "source": [
        "Below is:\n",
        "\n",
        "    * no grokfast applied\n",
        "    * no filtering\n",
        "            "
      ],
      "metadata": {
        "id": "fUrP9TDlo4lq"
      }
    },
    {
      "cell_type": "code",
      "source": [
        "if __name__ == \"__main__\":\n",
        "    # Same as used in paper of Grokfast\n",
        "    parser = ArgumentParser(description=\"Train a model on MNIST without custom sampling\")\n",
        "\n",
        "    parser.add_argument(\"--label\", type=str, default=\"\")\n",
        "    parser.add_argument(\"--seed\", type=int, default=0)\n",
        "\n",
        "    parser.add_argument(\"--train_points\", type=int, default=1000)\n",
        "    parser.add_argument(\"--optimization_steps\", type=int, default=10000)\n",
        "    parser.add_argument(\"--batch_size\", type=int, default=200)\n",
        "    parser.add_argument(\"--loss_function\", type=str, default=\"CrossEntropy\") #MSE or CrossEntropy\n",
        "    parser.add_argument(\"--optimizer\", type=str, default=\"AdamW\")\n",
        "    parser.add_argument(\"--weight_decay\", type=float, default=2.00)\n",
        "    parser.add_argument(\"--lr\", type=float, default=1e-3)\n",
        "    parser.add_argument(\"--initialization_scale\", type=float, default=8.0)\n",
        "    parser.add_argument(\"--download_directory\", type=str, default=\".\")\n",
        "    parser.add_argument(\"--depth\", type=int, default=3)\n",
        "    parser.add_argument(\"--width\", type=int, default=200)\n",
        "    parser.add_argument(\"--activation\", type=str, default=\"ReLU\")\n",
        "\n",
        "    # Grokfast\n",
        "    parser.add_argument(\"--filter\", type=str, choices=[\"none\", \"ma\", \"ema\", \"fir\"], default=\"none\")\n",
        "    parser.add_argument(\"--alpha\", type=float, default=0.8)\n",
        "    parser.add_argument(\"--lamb\", type=float, default=0.1)\n",
        "\n",
        "    # Samples ranking\n",
        "    parser.add_argument(\"--ema_alpha_sampl_rank\", type=float, default=0.9)\n",
        "\n",
        "    # Boolean arguements need this due to bad behavior of parser.parse_args\n",
        "    def boolean_string(s):\n",
        "        if s not in {\"False\", \"True\"}:\n",
        "            raise ValueError(\"Not a valid boolean string\")\n",
        "        return s == \"True\"\n",
        "\n",
        "    # These are the hyperparameters related to our online sampling filtering algorithm\n",
        "    parser.add_argument(\"--appl_sampl_filter\", type=boolean_string, default=True)  # If False, perform regular training\n",
        "    parser.add_argument(\"--sampling_distr_upd_freq\", type=int, default=1)  # How often to update the sampling distribution\n",
        "    parser.add_argument(\"--top_k\", type=float, default=0.1)  # Fraction of samples to select more frequently\n",
        "    parser.add_argument(\"--top_k_sampling_prob\", type=float, default=0.9)  # Probability of selecting a sample from the top-k\n",
        "    parser.add_argument(\"--high_freq_better\", type=boolean_string, default=True)  # If True, samples with higher frequency gradient content are considered better for training\n",
        "\n",
        "    # -----------------------------------------------------------------\n",
        "    # Try different hyperparameter values for your grid search here\n",
        "    # -----------------------------------------------------------------\n",
        "    args = parser.parse_args(\n",
        "        [\n",
        "            \"--appl_sampl_filter\", \"False\", # booleans as non strings in order to work\n",
        "            \"--sampling_distr_upd_freq\", \"1\", # the rest as strings for some reason\n",
        "            \"--top_k\", \"0.1\",\n",
        "            \"--top_k_sampling_prob\", \"0.9\",\n",
        "            \"--high_freq_better\", \"True\",\n",
        "        ]\n",
        "    )\n",
        "    # -----------------------------------------------------------------\n",
        "    # -----------------------------------------------------------------\n",
        "\n",
        "    # Create arg.label for the filename of the saved results\n",
        "    if not args.appl_sampl_filter:\n",
        "        args.label = f\"filter{args.filter}_sampling_{args.appl_sampl_filter}\"\n",
        "    else:\n",
        "        args.label = f\"high_freq_{args.high_freq_better}_top_k_{args.top_k}_top_k_prob_{args.top_k_sampling_prob}_upd_freq_{args.sampling_distr_upd_freq}\"\n",
        "\n",
        "    # Training with time recording\n",
        "\n",
        "    # Start the timer\n",
        "    start_time = time.time()\n",
        "\n",
        "    # Call your training function\n",
        "    main(args)\n",
        "\n",
        "    # End the timer\n",
        "    end_time = time.time()\n",
        "\n",
        "    # Calculate elapsed time\n",
        "    elapsed_time = end_time - start_time\n",
        "\n",
        "    # Convert to minutes and seconds (optional)\n",
        "    minutes, seconds = divmod(elapsed_time, 60)\n",
        "\n",
        "    print(f\"Training completed in {int(minutes)} minutes and {int(seconds)} seconds.\")\n",
        "    print(f\"label:{args.label}\")"
      ],
      "metadata": {
        "id": "MawvRmI9yt3T",
        "trusted": true,
        "execution": {
          "iopub.status.busy": "2025-02-05T14:55:22.550128Z",
          "iopub.execute_input": "2025-02-05T14:55:22.550487Z",
          "iopub.status.idle": "2025-02-05T14:56:34.669337Z",
          "shell.execute_reply.started": "2025-02-05T14:55:22.550457Z",
          "shell.execute_reply": "2025-02-05T14:56:34.668618Z"
        },
        "outputId": "f4fa5a98-3262-4364-cf24-553f9399cf44",
        "colab": {
          "referenced_widgets": [
            "51653457a1c541ce99db9daca061a7dd"
          ]
        }
      },
      "outputs": [
        {
          "name": "stdout",
          "text": "Number of parameters: 199210\n",
          "output_type": "stream"
        },
        {
          "output_type": "display_data",
          "data": {
            "text/plain": "  0%|          | 0/10000 [00:00<?, ?it/s]",
            "application/vnd.jupyter.widget-view+json": {
              "version_major": 2,
              "version_minor": 0,
              "model_id": "51653457a1c541ce99db9daca061a7dd"
            }
          },
          "metadata": {}
        },
        {
          "name": "stdout",
          "text": "\nSteps needed to reach 0.9 validation accuracy: None\nTraining completed in 1 minutes and 12 seconds.\nlabel:filternone_sampling_False\n",
          "output_type": "stream"
        }
      ],
      "execution_count": null
    },
    {
      "cell_type": "code",
      "source": [
        "# Load the saved results for plotting/printing\n",
        "\n",
        "args.label=\"filternone_sampling_False\"\n",
        "\n",
        "\n",
        "results_dir = \"/kaggle/working/results/mnist_online\"\n",
        "filename = f\"mnist_{args.label}.pt\"\n",
        "results_filename = os.path.join(results_dir, filename)\n",
        "\n",
        "filename_plot_acc = f\"mnist_{args.label}_acc.png\"\n",
        "results_filename_plot_acc = os.path.join(results_dir, filename_plot_acc)\n",
        "\n",
        "filename_plot_loss = f\"mnist_{args.label}_loss.png\"\n",
        "results_filename_plot_loss = os.path.join(results_dir, filename_plot_loss)\n",
        "\n",
        "\n",
        "\n",
        "results = torch.load(results_filename, weights_only=True)\n",
        "\n",
        "\n",
        "# Extract data from results\n",
        "its = results[\"its\"]  # Optimization steps\n",
        "train_acc = results[\"train_acc\"]  # Training accuracy\n",
        "val_acc = results[\"val_acc\"]  # Validation accuracy\n",
        "train_loss = results[\"train_loss\"]  # Training loss\n",
        "val_loss = results[\"val_loss\"]  # Validation loss\n",
        "steps_to_reach = results[\"steps_to_reach\"]  # Steps to reach 90% validation accuracy\n",
        "\n",
        "print(f\"Steps needed to reach 0.9 validation accuracy: {steps_to_reach}\")\n",
        "\n",
        "# Plot Accuracy\n",
        "plt.figure()\n",
        "plt.plot(its, train_acc, label=\"train\")\n",
        "plt.plot(its, val_acc, label=\"val\")\n",
        "\n",
        "# Find and annotate the maximum validation accuracy\n",
        "max_val_acc = max(val_acc)\n",
        "max_val_idx = val_acc.index(max_val_acc)\n",
        "plt.annotate(f\"Max Val Acc: {max_val_acc:.4f}\",\n",
        "             (its[max_val_idx], max_val_acc),\n",
        "             textcoords=\"offset points\",\n",
        "             xytext=(0,10),\n",
        "             ha='center',\n",
        "             fontsize=10,\n",
        "             color='red')\n",
        "\n",
        "plt.legend()\n",
        "plt.title(\"Accuracy - Grokfast:no Filtering:no\")\n",
        "plt.xlabel(\"Optimization Steps\")\n",
        "plt.ylabel(\"Accuracy\")\n",
        "plt.xscale(\"log\", base=10)\n",
        "plt.grid()\n",
        "plt.savefig(results_filename_plot_acc, dpi=150)\n",
        "\n",
        "print(\"Plots loaded successfully.\")"
      ],
      "metadata": {
        "trusted": true,
        "execution": {
          "iopub.status.busy": "2025-02-05T14:56:46.737018Z",
          "iopub.execute_input": "2025-02-05T14:56:46.737468Z",
          "iopub.status.idle": "2025-02-05T14:56:47.40879Z",
          "shell.execute_reply.started": "2025-02-05T14:56:46.737422Z",
          "shell.execute_reply": "2025-02-05T14:56:47.407915Z"
        },
        "id": "dLGUidiPo4lr",
        "outputId": "1243544a-bedd-4884-89fb-68ad8564665d"
      },
      "outputs": [
        {
          "name": "stdout",
          "text": "Steps needed to reach 0.9 validation accuracy: None\nPlots loaded successfully.\n",
          "output_type": "stream"
        },
        {
          "output_type": "display_data",
          "data": {
            "text/plain": "<Figure size 640x480 with 1 Axes>",
            "image/png": "[encoded data removed]"
          },
          "metadata": {}
        }
      ],
      "execution_count": null
    },
    {
      "cell_type": "code",
      "source": [
        "Below is:\n",
        "\n",
        "    * grokfast applied\n",
        "    * no filtering"
      ],
      "metadata": {
        "trusted": true,
        "id": "focQYYnfo4lr"
      },
      "outputs": [],
      "execution_count": null
    },
    {
      "cell_type": "code",
      "source": [
        "if __name__ == \"__main__\":\n",
        "    # Same as used in paper of Grokfast\n",
        "    parser = ArgumentParser(description=\"Train a model on MNIST with custom sampling\")\n",
        "\n",
        "    parser.add_argument(\"--label\", type=str, default=\"\")\n",
        "    parser.add_argument(\"--seed\", type=int, default=0)\n",
        "\n",
        "    parser.add_argument(\"--train_points\", type=int, default=1000)\n",
        "    parser.add_argument(\"--optimization_steps\", type=int, default=10000)\n",
        "    parser.add_argument(\"--batch_size\", type=int, default=200)\n",
        "    parser.add_argument(\"--loss_function\", type=str, default=\"CrossEntropy\")\n",
        "    parser.add_argument(\"--optimizer\", type=str, default=\"AdamW\")\n",
        "    parser.add_argument(\"--weight_decay\", type=float, default=2.0)\n",
        "    parser.add_argument(\"--lr\", type=float, default=1e-3)\n",
        "    parser.add_argument(\"--initialization_scale\", type=float, default=8.0)\n",
        "    parser.add_argument(\"--download_directory\", type=str, default=\".\")\n",
        "    parser.add_argument(\"--depth\", type=int, default=3)\n",
        "    parser.add_argument(\"--width\", type=int, default=200)\n",
        "    parser.add_argument(\"--activation\", type=str, default=\"ReLU\")\n",
        "\n",
        "    # Grokfast\n",
        "    parser.add_argument(\"--filter\", type=str, choices=[\"none\", \"ma\", \"ema\", \"fir\"], default=\"ema\")\n",
        "    parser.add_argument(\"--alpha\", type=float, default=0.8)\n",
        "    parser.add_argument(\"--lamb\", type=float, default=0.1)\n",
        "\n",
        "    # Samples ranking\n",
        "    parser.add_argument(\"--ema_alpha_sampl_rank\", type=float, default=0.9)\n",
        "\n",
        "    # Boolean arguements need this due to bad behavior of parser.parse_args\n",
        "    def boolean_string(s):\n",
        "        if s not in {\"False\", \"True\"}:\n",
        "            raise ValueError(\"Not a valid boolean string\")\n",
        "        return s == \"True\"\n",
        "\n",
        "    # These are the hyperparameters related to our online sampling filtering algorithm\n",
        "    parser.add_argument(\"--appl_sampl_filter\", type=boolean_string, default=True)  # If False, perform regular training\n",
        "    parser.add_argument(\"--sampling_distr_upd_freq\", type=int, default=1)  # How often to update the sampling distribution\n",
        "    parser.add_argument(\"--top_k\", type=float, default=0.1)  # Fraction of samples to select more frequently\n",
        "    parser.add_argument(\"--top_k_sampling_prob\", type=float, default=0.9)  # Probability of selecting a sample from the top-k\n",
        "    parser.add_argument(\"--high_freq_better\", type=boolean_string, default=True)  # If True, samples with higher frequency gradient content are considered better for training\n",
        "\n",
        "    # -----------------------------------------------------------------\n",
        "    # Try different hyperparameter values for your grid search here\n",
        "    # -----------------------------------------------------------------\n",
        "    args = parser.parse_args(\n",
        "        [\n",
        "            \"--appl_sampl_filter\", \"False\", # booleans as non strings in order to work\n",
        "            \"--sampling_distr_upd_freq\", \"1\", # the rest as strings for some reason\n",
        "            \"--top_k\", \"0.1\",\n",
        "            \"--top_k_sampling_prob\", \"0.9\",\n",
        "            \"--high_freq_better\", \"True\",\n",
        "        ]\n",
        "    )\n",
        "    # -----------------------------------------------------------------\n",
        "    # -----------------------------------------------------------------\n",
        "\n",
        "    # Create arg.label for the filename of the saved results\n",
        "    if not args.appl_sampl_filter:\n",
        "        args.label = f\"filter{args.filter}_sampling_{args.appl_sampl_filter}\"\n",
        "    else:\n",
        "        args.label = f\"high_freq_{args.high_freq_better}_top_k_{args.top_k}_top_k_prob_{args.top_k_sampling_prob}_upd_freq_{args.sampling_distr_upd_freq}\"\n",
        "\n",
        "    # Training with time recording\n",
        "\n",
        "    # Start the timer\n",
        "    start_time = time.time()\n",
        "\n",
        "    # Call your training function\n",
        "    main(args)\n",
        "\n",
        "    # End the timer\n",
        "    end_time = time.time()\n",
        "\n",
        "    # Calculate elapsed time\n",
        "    elapsed_time = end_time - start_time\n",
        "\n",
        "    # Convert to minutes and seconds (optional)\n",
        "    minutes, seconds = divmod(elapsed_time, 60)\n",
        "\n",
        "    print(f\"Training completed in {int(minutes)} minutes and {int(seconds)} seconds.\")\n",
        "    print(f\"label:{args.label}\")\n"
      ],
      "metadata": {
        "trusted": true,
        "execution": {
          "iopub.status.busy": "2025-02-05T14:59:18.282732Z",
          "iopub.execute_input": "2025-02-05T14:59:18.283075Z",
          "iopub.status.idle": "2025-02-05T15:01:08.577366Z",
          "shell.execute_reply.started": "2025-02-05T14:59:18.283051Z",
          "shell.execute_reply": "2025-02-05T15:01:08.576712Z"
        },
        "id": "-mDqmDJlo4lr",
        "outputId": "127ccb77-b4f4-45af-b543-643119d8d331",
        "colab": {
          "referenced_widgets": [
            "f540392b1c4b41f09599c3e0d5b96371"
          ]
        }
      },
      "outputs": [
        {
          "name": "stdout",
          "text": "Number of parameters: 199210\n",
          "output_type": "stream"
        },
        {
          "output_type": "display_data",
          "data": {
            "text/plain": "  0%|          | 0/10000 [00:00<?, ?it/s]",
            "application/vnd.jupyter.widget-view+json": {
              "version_major": 2,
              "version_minor": 0,
              "model_id": "f540392b1c4b41f09599c3e0d5b96371"
            }
          },
          "metadata": {}
        },
        {
          "name": "stdout",
          "text": "\nSteps needed to reach 0.9 validation accuracy: None\nTraining completed in 1 minutes and 50 seconds.\nlabel:filterema_sampling_False\n",
          "output_type": "stream"
        }
      ],
      "execution_count": null
    },
    {
      "cell_type": "code",
      "source": [
        "# Load the saved results for plotting/printing\n",
        "\n",
        "args.label=\"filterema_sampling_False\"\n",
        "\n",
        "results_dir = \"/kaggle/working/results/mnist_online\"\n",
        "filename = f\"mnist_{args.label}.pt\"\n",
        "results_filename = os.path.join(results_dir, filename)\n",
        "\n",
        "filename_plot_acc = f\"mnist_{args.label}_acc.png\"\n",
        "results_filename_plot_acc = os.path.join(results_dir, filename_plot_acc)\n",
        "\n",
        "filename_plot_loss = f\"mnist_{args.label}_loss.png\"\n",
        "results_filename_plot_loss = os.path.join(results_dir, filename_plot_loss)\n",
        "\n",
        "\n",
        "\n",
        "results = torch.load(results_filename, weights_only=True)\n",
        "\n",
        "\n",
        "# Extract data from results\n",
        "its = results[\"its\"]  # Optimization steps\n",
        "train_acc = results[\"train_acc\"]  # Training accuracy\n",
        "val_acc = results[\"val_acc\"]  # Validation accuracy\n",
        "train_loss = results[\"train_loss\"]  # Training loss\n",
        "val_loss = results[\"val_loss\"]  # Validation loss\n",
        "steps_to_reach = results[\"steps_to_reach\"]  # Steps to reach 90% validation accuracy\n",
        "\n",
        "print(f\"Steps needed to reach 0.9 validation accuracy: {steps_to_reach}\")\n",
        "\n",
        "# Plot Accuracy\n",
        "plt.figure()\n",
        "plt.plot(its, train_acc, label=\"train\")\n",
        "plt.plot(its, val_acc, label=\"val\")\n",
        "\n",
        "# Find and annotate the maximum validation accuracy\n",
        "max_val_acc = max(val_acc)\n",
        "max_val_idx = val_acc.index(max_val_acc)\n",
        "plt.annotate(f\"Max Val Acc: {max_val_acc:.4f}\",\n",
        "             (its[max_val_idx], max_val_acc),\n",
        "             textcoords=\"offset points\",\n",
        "             xytext=(0,10),\n",
        "             ha='center',\n",
        "             fontsize=10,\n",
        "             color='red')\n",
        "\n",
        "plt.legend()\n",
        "plt.title(\"Accuracy - Grokfast:yes Filtering:no\")\n",
        "plt.xlabel(\"Optimization Steps\")\n",
        "plt.ylabel(\"Accuracy\")\n",
        "plt.xscale(\"log\", base=10)\n",
        "plt.grid()\n",
        "plt.savefig(results_filename_plot_acc, dpi=150)\n",
        "\n",
        "print(\"Plots loaded successfully.\")\n"
      ],
      "metadata": {
        "trusted": true,
        "execution": {
          "iopub.status.busy": "2025-02-05T15:02:30.218213Z",
          "iopub.execute_input": "2025-02-05T15:02:30.218542Z",
          "iopub.status.idle": "2025-02-05T15:02:30.778055Z",
          "shell.execute_reply.started": "2025-02-05T15:02:30.218521Z",
          "shell.execute_reply": "2025-02-05T15:02:30.777119Z"
        },
        "id": "rlzO23oSo4lr",
        "outputId": "bcd7de7a-e324-4c2d-8538-ab46c09b2560"
      },
      "outputs": [
        {
          "name": "stdout",
          "text": "Steps needed to reach 0.9 validation accuracy: None\nPlots loaded successfully.\n",
          "output_type": "stream"
        },
        {
          "output_type": "display_data",
          "data": {
            "text/plain": "<Figure size 640x480 with 1 Axes>",
            "image/png": "[encoded data removed]"
          },
          "metadata": {}
        }
      ],
      "execution_count": null
    },
    {
      "cell_type": "markdown",
      "source": [
        "Below is:\n",
        "\n",
        "    * no grokfast applied\n",
        "    * filtering"
      ],
      "metadata": {
        "id": "afohGp-6o4ls"
      }
    },
    {
      "cell_type": "code",
      "source": [
        "if __name__ == \"__main__\":\n",
        "    # Same as used in paper of Grokfast\n",
        "    parser = ArgumentParser(description=\"Train a model on MNIST with custom sampling\")\n",
        "\n",
        "    parser.add_argument(\"--label\", type=str, default=\"\")\n",
        "    parser.add_argument(\"--seed\", type=int, default=0)\n",
        "\n",
        "    parser.add_argument(\"--train_points\", type=int, default=1000)\n",
        "    parser.add_argument(\"--optimization_steps\", type=int, default=10000)\n",
        "    parser.add_argument(\"--batch_size\", type=int, default=200)\n",
        "    parser.add_argument(\"--loss_function\", type=str, default=\"CrossEntropy\")\n",
        "    parser.add_argument(\"--optimizer\", type=str, default=\"AdamW\")\n",
        "    parser.add_argument(\"--weight_decay\", type=float, default=2.0)\n",
        "    parser.add_argument(\"--lr\", type=float, default=1e-3)\n",
        "    parser.add_argument(\"--initialization_scale\", type=float, default=8.0)\n",
        "    parser.add_argument(\"--download_directory\", type=str, default=\".\")\n",
        "    parser.add_argument(\"--depth\", type=int, default=3)\n",
        "    parser.add_argument(\"--width\", type=int, default=200)\n",
        "    parser.add_argument(\"--activation\", type=str, default=\"ReLU\")\n",
        "\n",
        "    # Grokfast\n",
        "    parser.add_argument(\"--filter\", type=str, choices=[\"none\", \"ma\", \"ema\", \"fir\"], default=\"none\")\n",
        "    parser.add_argument(\"--alpha\", type=float, default=0.8)\n",
        "    parser.add_argument(\"--lamb\", type=float, default=0.1)\n",
        "\n",
        "    # Samples ranking\n",
        "    parser.add_argument(\"--ema_alpha_sampl_rank\", type=float, default=0.9)\n",
        "\n",
        "    # Boolean arguements need this due to bad behavior of parser.parse_args\n",
        "    def boolean_string(s):\n",
        "        if s not in {\"False\", \"True\"}:\n",
        "            raise ValueError(\"Not a valid boolean string\")\n",
        "        return s == \"True\"\n",
        "\n",
        "    # These are the hyperparameters related to our online sampling filtering algorithm\n",
        "    parser.add_argument(\"--appl_sampl_filter\", type=boolean_string, default=True)  # If False, perform regular training\n",
        "    parser.add_argument(\"--sampling_distr_upd_freq\", type=int, default=1)  # How often to update the sampling distribution\n",
        "    parser.add_argument(\"--top_k\", type=float, default=0.1)  # Fraction of samples to select more frequently\n",
        "    parser.add_argument(\"--top_k_sampling_prob\", type=float, default=0.9)  # Probability of selecting a sample from the top-k\n",
        "    parser.add_argument(\"--high_freq_better\", type=boolean_string, default=True)  # If True, samples with higher frequency gradient content are considered better for training\n",
        "\n",
        "    # -----------------------------------------------------------------\n",
        "    # Try different hyperparameter values for your grid search here\n",
        "    # -----------------------------------------------------------------\n",
        "    args = parser.parse_args(\n",
        "        [\n",
        "            \"--appl_sampl_filter\", \"False\", # booleans as non strings in order to work\n",
        "            \"--sampling_distr_upd_freq\", \"1\", # the rest as strings for some reason\n",
        "            \"--top_k\", \"0.1\",\n",
        "            \"--top_k_sampling_prob\", \"0.9\",\n",
        "            \"--high_freq_better\", \"True\",\n",
        "        ]\n",
        "    )\n",
        "    # -----------------------------------------------------------------\n",
        "    # -----------------------------------------------------------------\n",
        "\n",
        "    # Create arg.label for the filename of the saved results\n",
        "    if not args.appl_sampl_filter:\n",
        "        args.label = f\"filter{args.filter}_sampling_{args.appl_sampl_filter}\"\n",
        "    else:\n",
        "        args.label = f\"high_freq_{args.high_freq_better}_top_k_{args.top_k}_top_k_prob_{args.top_k_sampling_prob}_upd_freq_{args.sampling_distr_upd_freq}\"\n",
        "\n",
        "    # Training with time recording\n",
        "\n",
        "    # Start the timer\n",
        "    start_time = time.time()\n",
        "\n",
        "    # Call your training function\n",
        "    main(args)\n",
        "\n",
        "    # End the timer\n",
        "    end_time = time.time()\n",
        "\n",
        "    # Calculate elapsed time\n",
        "    elapsed_time = end_time - start_time\n",
        "\n",
        "    # Convert to minutes and seconds (optional)\n",
        "    minutes, seconds = divmod(elapsed_time, 60)\n",
        "\n",
        "    print(f\"Training completed in {int(minutes)} minutes and {int(seconds)} seconds.\")\n",
        "    print(f\"label:{args.label}\")\n"
      ],
      "metadata": {
        "trusted": true,
        "execution": {
          "iopub.status.busy": "2025-02-05T14:53:37.115278Z",
          "iopub.execute_input": "2025-02-05T14:53:37.115586Z",
          "iopub.status.idle": "2025-02-05T14:54:50.052909Z",
          "shell.execute_reply.started": "2025-02-05T14:53:37.115562Z",
          "shell.execute_reply": "2025-02-05T14:54:50.052145Z"
        },
        "id": "X_RnZoyko4ls",
        "outputId": "4fd5fbeb-340f-4748-e8ca-ebfa68570138",
        "colab": {
          "referenced_widgets": [
            "b1373b2166b24889bbe89ecc62fc7510"
          ]
        }
      },
      "outputs": [
        {
          "name": "stdout",
          "text": "Number of parameters: 199210\n",
          "output_type": "stream"
        },
        {
          "output_type": "display_data",
          "data": {
            "text/plain": "  0%|          | 0/10000 [00:00<?, ?it/s]",
            "application/vnd.jupyter.widget-view+json": {
              "version_major": 2,
              "version_minor": 0,
              "model_id": "b1373b2166b24889bbe89ecc62fc7510"
            }
          },
          "metadata": {}
        },
        {
          "name": "stdout",
          "text": "\nSteps needed to reach 0.9 validation accuracy: None\nTraining completed in 1 minutes and 12 seconds.\nlabel:filternone_sampling_False\n",
          "output_type": "stream"
        }
      ],
      "execution_count": null
    },
    {
      "cell_type": "code",
      "source": [
        "# Load the saved results for plotting/printing\n",
        "\n",
        "args.label=\"high_freq_True_top_k_0.1_top_k_prob_0.9_upd_freq_1\"\n",
        "\n",
        "results_dir = \"/kaggle/working/results/mnist_online\"\n",
        "filename = f\"mnist_{args.label}.pt\"\n",
        "results_filename = os.path.join(results_dir, filename)\n",
        "\n",
        "filename_plot_acc = f\"mnist_{args.label}_acc.png\"\n",
        "results_filename_plot_acc = os.path.join(results_dir, filename_plot_acc)\n",
        "\n",
        "filename_plot_loss = f\"mnist_{args.label}_loss.png\"\n",
        "results_filename_plot_loss = os.path.join(results_dir, filename_plot_loss)\n",
        "\n",
        "\n",
        "\n",
        "results = torch.load(results_filename, weights_only=True)\n",
        "\n",
        "\n",
        "# Extract data from results\n",
        "its = results[\"its\"]  # Optimization steps\n",
        "train_acc = results[\"train_acc\"]  # Training accuracy\n",
        "val_acc = results[\"val_acc\"]  # Validation accuracy\n",
        "train_loss = results[\"train_loss\"]  # Training loss\n",
        "val_loss = results[\"val_loss\"]  # Validation loss\n",
        "steps_to_reach = results[\"steps_to_reach\"]  # Steps to reach 90% validation accuracy\n",
        "\n",
        "print(f\"Steps needed to reach 0.9 validation accuracy: {steps_to_reach}\")\n",
        "\n",
        "# Plot Accuracy\n",
        "plt.figure()\n",
        "plt.plot(its, train_acc, label=\"train\")\n",
        "plt.plot(its, val_acc, label=\"val\")\n",
        "\n",
        "# Find and annotate the maximum validation accuracy\n",
        "max_val_acc = max(val_acc)\n",
        "max_val_idx = val_acc.index(max_val_acc)\n",
        "plt.annotate(f\"Max Val Acc: {max_val_acc:.4f}\",\n",
        "             (its[max_val_idx], max_val_acc),\n",
        "             textcoords=\"offset points\",\n",
        "             xytext=(0,10),\n",
        "             ha='center',\n",
        "             fontsize=10,\n",
        "             color='red')\n",
        "\n",
        "plt.legend()\n",
        "plt.title(\"Accuracy - Grokfast:no Filtering:yes\")\n",
        "plt.xlabel(\"Optimization Steps\")\n",
        "plt.ylabel(\"Accuracy\")\n",
        "plt.xscale(\"log\", base=10)\n",
        "plt.grid()\n",
        "plt.savefig(results_filename_plot_acc, dpi=150)\n",
        "\n",
        "print(\"Plots loaded successfully.\")\n"
      ],
      "metadata": {
        "trusted": true,
        "execution": {
          "iopub.status.busy": "2025-02-05T10:27:46.853672Z",
          "iopub.execute_input": "2025-02-05T10:27:46.853985Z",
          "iopub.status.idle": "2025-02-05T10:27:47.432491Z",
          "shell.execute_reply.started": "2025-02-05T10:27:46.853961Z",
          "shell.execute_reply": "2025-02-05T10:27:47.431631Z"
        },
        "id": "UIZMS7Kjo4lt",
        "outputId": "1df94f2c-f69d-4170-89b7-afb8687dd4c2"
      },
      "outputs": [
        {
          "name": "stdout",
          "text": "Steps needed to reach 0.9 validation accuracy: 8978\nPlots loaded successfully.\n",
          "output_type": "stream"
        },
        {
          "output_type": "display_data",
          "data": {
            "text/plain": "<Figure size 640x480 with 1 Axes>",
            "image/png": "[encoded data removed]"
          },
          "metadata": {}
        }
      ],
      "execution_count": null
    },
    {
      "cell_type": "markdown",
      "source": [
        "Below is:\n",
        "\n",
        "    * grokfast applied\n",
        "    * sample filtering"
      ],
      "metadata": {
        "id": "EqVxR5r8o4lt"
      }
    },
    {
      "cell_type": "code",
      "source": [
        "if __name__ == \"__main__\":\n",
        "    # Same as used in paper of Grokfast\n",
        "    parser = ArgumentParser(description=\"Train a model on MNIST with custom sampling\")\n",
        "\n",
        "    parser.add_argument(\"--label\", type=str, default=\"\")\n",
        "    parser.add_argument(\"--seed\", type=int, default=0)\n",
        "\n",
        "    parser.add_argument(\"--train_points\", type=int, default=1000)\n",
        "    parser.add_argument(\"--optimization_steps\", type=int, default=10000)\n",
        "    parser.add_argument(\"--batch_size\", type=int, default=200)\n",
        "    parser.add_argument(\"--loss_function\", type=str, default=\"CrossEntropy\")\n",
        "    parser.add_argument(\"--optimizer\", type=str, default=\"AdamW\")\n",
        "    parser.add_argument(\"--weight_decay\", type=float, default=2.0)\n",
        "    parser.add_argument(\"--lr\", type=float, default=1e-3)\n",
        "    parser.add_argument(\"--initialization_scale\", type=float, default=8.0)\n",
        "    parser.add_argument(\"--download_directory\", type=str, default=\".\")\n",
        "    parser.add_argument(\"--depth\", type=int, default=3)\n",
        "    parser.add_argument(\"--width\", type=int, default=200)\n",
        "    parser.add_argument(\"--activation\", type=str, default=\"ReLU\")\n",
        "\n",
        "    # Grokfast\n",
        "    parser.add_argument(\"--filter\", type=str, choices=[\"none\", \"ma\", \"ema\", \"fir\"], default=\"ema\")\n",
        "    parser.add_argument(\"--alpha\", type=float, default=0.8)\n",
        "    parser.add_argument(\"--lamb\", type=float, default=0.1)\n",
        "\n",
        "    # Samples ranking\n",
        "    parser.add_argument(\"--ema_alpha_sampl_rank\", type=float, default=0.9)\n",
        "\n",
        "    # Boolean arguements need this due to bad behavior of parser.parse_args\n",
        "    def boolean_string(s):\n",
        "        if s not in {\"False\", \"True\"}:\n",
        "            raise ValueError(\"Not a valid boolean string\")\n",
        "        return s == \"True\"\n",
        "\n",
        "    # These are the hyperparameters related to our online sampling filtering algorithm\n",
        "    parser.add_argument(\"--appl_sampl_filter\", type=boolean_string, default=True)  # If False, perform regular training\n",
        "    parser.add_argument(\"--sampling_distr_upd_freq\", type=int, default=1)  # How often to update the sampling distribution\n",
        "    parser.add_argument(\"--top_k\", type=float, default=0.1)  # Fraction of samples to select more frequently\n",
        "    parser.add_argument(\"--top_k_sampling_prob\", type=float, default=0.9)  # Probability of selecting a sample from the top-k\n",
        "    parser.add_argument(\"--high_freq_better\", type=boolean_string, default=True)  # If True, samples with higher frequency gradient content are considered better for training\n",
        "\n",
        "    # -----------------------------------------------------------------\n",
        "    # Try different hyperparameter values for your grid search here\n",
        "    # -----------------------------------------------------------------\n",
        "    args = parser.parse_args(\n",
        "        [\n",
        "            \"--appl_sampl_filter\", \"True\", # booleans as non strings in order to work\n",
        "            \"--sampling_distr_upd_freq\", \"1\", # the rest as strings for some reason\n",
        "            \"--top_k\", \"0.1\",\n",
        "            \"--top_k_sampling_prob\", \"0.9\",\n",
        "            \"--high_freq_better\", \"True\",\n",
        "        ]\n",
        "    )\n",
        "    # -----------------------------------------------------------------\n",
        "    # -----------------------------------------------------------------\n",
        "\n",
        "    # Create arg.label for the filename of the saved results\n",
        "    if not args.appl_sampl_filter:\n",
        "        args.label = f\"filter{args.filter}_sampling_{args.appl_sampl_filter}\"\n",
        "    else:\n",
        "        args.label = f\"high_freq_{args.high_freq_better}_top_k_{args.top_k}_top_k_prob_{args.top_k_sampling_prob}_upd_freq_{args.sampling_distr_upd_freq}\"\n",
        "\n",
        "    # Training with time recording\n",
        "\n",
        "    # Start the timer\n",
        "    start_time = time.time()\n",
        "\n",
        "    # Call your training function\n",
        "    main(args)\n",
        "\n",
        "    # End the timer\n",
        "    end_time = time.time()\n",
        "\n",
        "    # Calculate elapsed time\n",
        "    elapsed_time = end_time - start_time\n",
        "\n",
        "    # Convert to minutes and seconds (optional)\n",
        "    minutes, seconds = divmod(elapsed_time, 60)\n",
        "\n",
        "    print(f\"Training completed in {int(minutes)} minutes and {int(seconds)} seconds.\")\n",
        "    print(f\"label:{args.label}\")\n"
      ],
      "metadata": {
        "trusted": true,
        "execution": {
          "iopub.status.busy": "2025-02-05T11:49:12.027239Z",
          "iopub.execute_input": "2025-02-05T11:49:12.027607Z",
          "iopub.status.idle": "2025-02-05T11:49:14.812146Z",
          "shell.execute_reply.started": "2025-02-05T11:49:12.027579Z",
          "shell.execute_reply": "2025-02-05T11:49:14.811Z"
        },
        "id": "3WtHLJJwo4lt",
        "outputId": "8c4294e9-c02f-42c2-873e-3e2e1645d0d7",
        "colab": {
          "referenced_widgets": [
            "487dfc4053e44843a5945027f61500b7"
          ]
        }
      },
      "outputs": [
        {
          "name": "stdout",
          "text": "Number of parameters: 199210\n",
          "output_type": "stream"
        },
        {
          "name": "stderr",
          "text": "<ipython-input-30-eb100731b8bb>:100: FutureWarning: We've integrated functorch into PyTorch. As the final step of the integration, `functorch.grad` is deprecated as of PyTorch 2.0 and will be deleted in a future version of PyTorch >= 2.3. Please use `torch.func.grad` instead; see the PyTorch 2.0 release notes and/or the `torch.func` migration guide for more details https://pytorch.org/docs/main/func.migrating.html\n  gradient_fn = grad(compute_loss_vmap)\n",
          "output_type": "stream"
        },
        {
          "output_type": "display_data",
          "data": {
            "text/plain": "  0%|          | 0/10000 [00:00<?, ?it/s]",
            "application/vnd.jupyter.widget-view+json": {
              "version_major": 2,
              "version_minor": 0,
              "model_id": "487dfc4053e44843a5945027f61500b7"
            }
          },
          "metadata": {}
        },
        {
          "name": "stderr",
          "text": "<ipython-input-30-eb100731b8bb>:174: FutureWarning: We've integrated functorch into PyTorch. As the final step of the integration, `functorch.vmap` is deprecated as of PyTorch 2.0 and will be deleted in a future version of PyTorch >= 2.3. Please use `torch.vmap` instead; see the PyTorch 2.0 release notes and/or the `torch.func` migration guide for more details https://pytorch.org/docs/main/func.migrating.html\n  per_sample_grads = vmap(gradient_fn, in_dims=(None, None, None, 0, 0))(params, buffers, mlp, x, labels)\n<ipython-input-30-eb100731b8bb>:88: FutureWarning: `torch.nn.utils.stateless.functional_call` is deprecated as of PyTorch 2.0 and will be removed in a future version of PyTorch. Please use `torch.func.functional_call` instead which is a drop-in replacement.\n  logits = functional_call(model, {**params, **buffers}, x.unsqueeze(0))  # Single input\n",
          "output_type": "stream"
        },
        {
          "traceback": [
            "\u001b[0;31m---------------------------------------------------------------------------\u001b[0m",
            "\u001b[0;31mKeyboardInterrupt\u001b[0m                         Traceback (most recent call last)",
            "\u001b[0;32m<ipython-input-32-e3433ee723ce>\u001b[0m in \u001b[0;36m<cell line: 1>\u001b[0;34m()\u001b[0m\n\u001b[1;32m     67\u001b[0m \u001b[0;34m\u001b[0m\u001b[0m\n\u001b[1;32m     68\u001b[0m     \u001b[0;31m# Call your training function\u001b[0m\u001b[0;34m\u001b[0m\u001b[0;34m\u001b[0m\u001b[0m\n\u001b[0;32m---> 69\u001b[0;31m     \u001b[0mmain\u001b[0m\u001b[0;34m(\u001b[0m\u001b[0margs\u001b[0m\u001b[0;34m)\u001b[0m\u001b[0;34m\u001b[0m\u001b[0;34m\u001b[0m\u001b[0m\n\u001b[0m\u001b[1;32m     70\u001b[0m \u001b[0;34m\u001b[0m\u001b[0m\n\u001b[1;32m     71\u001b[0m     \u001b[0;31m# End the timer\u001b[0m\u001b[0;34m\u001b[0m\u001b[0;34m\u001b[0m\u001b[0m\n",
            "\u001b[0;32m<ipython-input-30-eb100731b8bb>\u001b[0m in \u001b[0;36mmain\u001b[0;34m(args)\u001b[0m\n\u001b[1;32m    141\u001b[0m                     \u001b[0mtrain_accuracies\u001b[0m\u001b[0;34m.\u001b[0m\u001b[0mappend\u001b[0m\u001b[0;34m(\u001b[0m\u001b[0mcompute_accuracy\u001b[0m\u001b[0;34m(\u001b[0m\u001b[0mmlp\u001b[0m\u001b[0;34m,\u001b[0m \u001b[0mtrain_subset\u001b[0m\u001b[0;34m,\u001b[0m \u001b[0mdevice\u001b[0m\u001b[0;34m,\u001b[0m \u001b[0mN\u001b[0m\u001b[0;34m=\u001b[0m\u001b[0mlen\u001b[0m\u001b[0;34m(\u001b[0m\u001b[0mtrain_subset\u001b[0m\u001b[0;34m)\u001b[0m\u001b[0;34m)\u001b[0m\u001b[0;34m)\u001b[0m\u001b[0;34m\u001b[0m\u001b[0;34m\u001b[0m\u001b[0m\n\u001b[1;32m    142\u001b[0m                     \u001b[0mtest_losses\u001b[0m\u001b[0;34m.\u001b[0m\u001b[0mappend\u001b[0m\u001b[0;34m(\u001b[0m\u001b[0mcompute_loss\u001b[0m\u001b[0;34m(\u001b[0m\u001b[0mmlp\u001b[0m\u001b[0;34m,\u001b[0m \u001b[0mtest\u001b[0m\u001b[0;34m,\u001b[0m \u001b[0margs\u001b[0m\u001b[0;34m.\u001b[0m\u001b[0mloss_function\u001b[0m\u001b[0;34m,\u001b[0m \u001b[0mdevice\u001b[0m\u001b[0;34m,\u001b[0m \u001b[0mN\u001b[0m\u001b[0;34m=\u001b[0m\u001b[0mlen\u001b[0m\u001b[0;34m(\u001b[0m\u001b[0mtest\u001b[0m\u001b[0;34m)\u001b[0m\u001b[0;34m)\u001b[0m\u001b[0;34m)\u001b[0m\u001b[0;34m\u001b[0m\u001b[0;34m\u001b[0m\u001b[0m\n\u001b[0;32m--> 143\u001b[0;31m                     \u001b[0mtest_accuracies\u001b[0m\u001b[0;34m.\u001b[0m\u001b[0mappend\u001b[0m\u001b[0;34m(\u001b[0m\u001b[0mcompute_accuracy\u001b[0m\u001b[0;34m(\u001b[0m\u001b[0mmlp\u001b[0m\u001b[0;34m,\u001b[0m \u001b[0mtest\u001b[0m\u001b[0;34m,\u001b[0m \u001b[0mdevice\u001b[0m\u001b[0;34m,\u001b[0m \u001b[0mN\u001b[0m\u001b[0;34m=\u001b[0m\u001b[0mlen\u001b[0m\u001b[0;34m(\u001b[0m\u001b[0mtest\u001b[0m\u001b[0;34m)\u001b[0m\u001b[0;34m)\u001b[0m\u001b[0;34m)\u001b[0m\u001b[0;34m\u001b[0m\u001b[0;34m\u001b[0m\u001b[0m\n\u001b[0m\u001b[1;32m    144\u001b[0m                     \u001b[0mlog_steps\u001b[0m\u001b[0;34m.\u001b[0m\u001b[0mappend\u001b[0m\u001b[0;34m(\u001b[0m\u001b[0mstep\u001b[0m\u001b[0;34m)\u001b[0m\u001b[0;34m\u001b[0m\u001b[0;34m\u001b[0m\u001b[0m\n\u001b[1;32m    145\u001b[0m                     pbar.set_description(\n",
            "\u001b[0;32m<ipython-input-25-794d91126460>\u001b[0m in \u001b[0;36mcompute_accuracy\u001b[0;34m(model, dataset, device, N)\u001b[0m\n\u001b[1;32m     17\u001b[0m         \u001b[0mx\u001b[0m\u001b[0;34m,\u001b[0m \u001b[0my\u001b[0m \u001b[0;34m=\u001b[0m \u001b[0mx\u001b[0m\u001b[0;34m.\u001b[0m\u001b[0mto\u001b[0m\u001b[0;34m(\u001b[0m\u001b[0mdevice\u001b[0m\u001b[0;34m)\u001b[0m\u001b[0;34m,\u001b[0m \u001b[0my\u001b[0m\u001b[0;34m.\u001b[0m\u001b[0mto\u001b[0m\u001b[0;34m(\u001b[0m\u001b[0mdevice\u001b[0m\u001b[0;34m)\u001b[0m\u001b[0;34m\u001b[0m\u001b[0;34m\u001b[0m\u001b[0m\n\u001b[1;32m     18\u001b[0m         \u001b[0;32mwith\u001b[0m \u001b[0mtorch\u001b[0m\u001b[0;34m.\u001b[0m\u001b[0mno_grad\u001b[0m\u001b[0;34m(\u001b[0m\u001b[0;34m)\u001b[0m\u001b[0;34m:\u001b[0m\u001b[0;34m\u001b[0m\u001b[0;34m\u001b[0m\u001b[0m\n\u001b[0;32m---> 19\u001b[0;31m             \u001b[0moutputs\u001b[0m \u001b[0;34m=\u001b[0m \u001b[0mmodel\u001b[0m\u001b[0;34m(\u001b[0m\u001b[0mx\u001b[0m\u001b[0;34m)\u001b[0m\u001b[0;34m\u001b[0m\u001b[0;34m\u001b[0m\u001b[0m\n\u001b[0m\u001b[1;32m     20\u001b[0m             \u001b[0mpredictions\u001b[0m \u001b[0;34m=\u001b[0m \u001b[0moutputs\u001b[0m\u001b[0;34m.\u001b[0m\u001b[0margmax\u001b[0m\u001b[0;34m(\u001b[0m\u001b[0mdim\u001b[0m\u001b[0;34m=\u001b[0m\u001b[0;36m1\u001b[0m\u001b[0;34m)\u001b[0m\u001b[0;34m\u001b[0m\u001b[0;34m\u001b[0m\u001b[0m\n\u001b[1;32m     21\u001b[0m         \u001b[0mcorrect\u001b[0m \u001b[0;34m+=\u001b[0m \u001b[0;34m(\u001b[0m\u001b[0mpredictions\u001b[0m \u001b[0;34m==\u001b[0m \u001b[0my\u001b[0m\u001b[0;34m)\u001b[0m\u001b[0;34m.\u001b[0m\u001b[0msum\u001b[0m\u001b[0;34m(\u001b[0m\u001b[0;34m)\u001b[0m\u001b[0;34m.\u001b[0m\u001b[0mitem\u001b[0m\u001b[0;34m(\u001b[0m\u001b[0;34m)\u001b[0m\u001b[0;34m\u001b[0m\u001b[0;34m\u001b[0m\u001b[0m\n",
            "\u001b[0;32m/usr/local/lib/python3.10/dist-packages/torch/nn/modules/module.py\u001b[0m in \u001b[0;36m_wrapped_call_impl\u001b[0;34m(self, *args, **kwargs)\u001b[0m\n\u001b[1;32m   1734\u001b[0m             \u001b[0;32mreturn\u001b[0m \u001b[0mself\u001b[0m\u001b[0;34m.\u001b[0m\u001b[0m_compiled_call_impl\u001b[0m\u001b[0;34m(\u001b[0m\u001b[0;34m*\u001b[0m\u001b[0margs\u001b[0m\u001b[0;34m,\u001b[0m \u001b[0;34m**\u001b[0m\u001b[0mkwargs\u001b[0m\u001b[0;34m)\u001b[0m  \u001b[0;31m# type: ignore[misc]\u001b[0m\u001b[0;34m\u001b[0m\u001b[0;34m\u001b[0m\u001b[0m\n\u001b[1;32m   1735\u001b[0m         \u001b[0;32melse\u001b[0m\u001b[0;34m:\u001b[0m\u001b[0;34m\u001b[0m\u001b[0;34m\u001b[0m\u001b[0m\n\u001b[0;32m-> 1736\u001b[0;31m             \u001b[0;32mreturn\u001b[0m \u001b[0mself\u001b[0m\u001b[0;34m.\u001b[0m\u001b[0m_call_impl\u001b[0m\u001b[0;34m(\u001b[0m\u001b[0;34m*\u001b[0m\u001b[0margs\u001b[0m\u001b[0;34m,\u001b[0m \u001b[0;34m**\u001b[0m\u001b[0mkwargs\u001b[0m\u001b[0;34m)\u001b[0m\u001b[0;34m\u001b[0m\u001b[0;34m\u001b[0m\u001b[0m\n\u001b[0m\u001b[1;32m   1737\u001b[0m \u001b[0;34m\u001b[0m\u001b[0m\n\u001b[1;32m   1738\u001b[0m     \u001b[0;31m# torchrec tests the code consistency with the following code\u001b[0m\u001b[0;34m\u001b[0m\u001b[0;34m\u001b[0m\u001b[0m\n",
            "\u001b[0;32m/usr/local/lib/python3.10/dist-packages/torch/nn/modules/module.py\u001b[0m in \u001b[0;36m_call_impl\u001b[0;34m(self, *args, **kwargs)\u001b[0m\n\u001b[1;32m   1745\u001b[0m                 \u001b[0;32mor\u001b[0m \u001b[0m_global_backward_pre_hooks\u001b[0m \u001b[0;32mor\u001b[0m \u001b[0m_global_backward_hooks\u001b[0m\u001b[0;34m\u001b[0m\u001b[0;34m\u001b[0m\u001b[0m\n\u001b[1;32m   1746\u001b[0m                 or _global_forward_hooks or _global_forward_pre_hooks):\n\u001b[0;32m-> 1747\u001b[0;31m             \u001b[0;32mreturn\u001b[0m \u001b[0mforward_call\u001b[0m\u001b[0;34m(\u001b[0m\u001b[0;34m*\u001b[0m\u001b[0margs\u001b[0m\u001b[0;34m,\u001b[0m \u001b[0;34m**\u001b[0m\u001b[0mkwargs\u001b[0m\u001b[0;34m)\u001b[0m\u001b[0;34m\u001b[0m\u001b[0;34m\u001b[0m\u001b[0m\n\u001b[0m\u001b[1;32m   1748\u001b[0m \u001b[0;34m\u001b[0m\u001b[0m\n\u001b[1;32m   1749\u001b[0m         \u001b[0mresult\u001b[0m \u001b[0;34m=\u001b[0m \u001b[0;32mNone\u001b[0m\u001b[0;34m\u001b[0m\u001b[0;34m\u001b[0m\u001b[0m\n",
            "\u001b[0;32m/usr/local/lib/python3.10/dist-packages/torch/nn/modules/container.py\u001b[0m in \u001b[0;36mforward\u001b[0;34m(self, input)\u001b[0m\n\u001b[1;32m    248\u001b[0m     \u001b[0;32mdef\u001b[0m \u001b[0mforward\u001b[0m\u001b[0;34m(\u001b[0m\u001b[0mself\u001b[0m\u001b[0;34m,\u001b[0m \u001b[0minput\u001b[0m\u001b[0;34m)\u001b[0m\u001b[0;34m:\u001b[0m\u001b[0;34m\u001b[0m\u001b[0;34m\u001b[0m\u001b[0m\n\u001b[1;32m    249\u001b[0m         \u001b[0;32mfor\u001b[0m \u001b[0mmodule\u001b[0m \u001b[0;32min\u001b[0m \u001b[0mself\u001b[0m\u001b[0;34m:\u001b[0m\u001b[0;34m\u001b[0m\u001b[0;34m\u001b[0m\u001b[0m\n\u001b[0;32m--> 250\u001b[0;31m             \u001b[0minput\u001b[0m \u001b[0;34m=\u001b[0m \u001b[0mmodule\u001b[0m\u001b[0;34m(\u001b[0m\u001b[0minput\u001b[0m\u001b[0;34m)\u001b[0m\u001b[0;34m\u001b[0m\u001b[0;34m\u001b[0m\u001b[0m\n\u001b[0m\u001b[1;32m    251\u001b[0m         \u001b[0;32mreturn\u001b[0m \u001b[0minput\u001b[0m\u001b[0;34m\u001b[0m\u001b[0;34m\u001b[0m\u001b[0m\n\u001b[1;32m    252\u001b[0m \u001b[0;34m\u001b[0m\u001b[0m\n",
            "\u001b[0;32m/usr/local/lib/python3.10/dist-packages/torch/nn/modules/module.py\u001b[0m in \u001b[0;36m_wrapped_call_impl\u001b[0;34m(self, *args, **kwargs)\u001b[0m\n\u001b[1;32m   1734\u001b[0m             \u001b[0;32mreturn\u001b[0m \u001b[0mself\u001b[0m\u001b[0;34m.\u001b[0m\u001b[0m_compiled_call_impl\u001b[0m\u001b[0;34m(\u001b[0m\u001b[0;34m*\u001b[0m\u001b[0margs\u001b[0m\u001b[0;34m,\u001b[0m \u001b[0;34m**\u001b[0m\u001b[0mkwargs\u001b[0m\u001b[0;34m)\u001b[0m  \u001b[0;31m# type: ignore[misc]\u001b[0m\u001b[0;34m\u001b[0m\u001b[0;34m\u001b[0m\u001b[0m\n\u001b[1;32m   1735\u001b[0m         \u001b[0;32melse\u001b[0m\u001b[0;34m:\u001b[0m\u001b[0;34m\u001b[0m\u001b[0;34m\u001b[0m\u001b[0m\n\u001b[0;32m-> 1736\u001b[0;31m             \u001b[0;32mreturn\u001b[0m \u001b[0mself\u001b[0m\u001b[0;34m.\u001b[0m\u001b[0m_call_impl\u001b[0m\u001b[0;34m(\u001b[0m\u001b[0;34m*\u001b[0m\u001b[0margs\u001b[0m\u001b[0;34m,\u001b[0m \u001b[0;34m**\u001b[0m\u001b[0mkwargs\u001b[0m\u001b[0;34m)\u001b[0m\u001b[0;34m\u001b[0m\u001b[0;34m\u001b[0m\u001b[0m\n\u001b[0m\u001b[1;32m   1737\u001b[0m \u001b[0;34m\u001b[0m\u001b[0m\n\u001b[1;32m   1738\u001b[0m     \u001b[0;31m# torchrec tests the code consistency with the following code\u001b[0m\u001b[0;34m\u001b[0m\u001b[0;34m\u001b[0m\u001b[0m\n",
            "\u001b[0;32m/usr/local/lib/python3.10/dist-packages/torch/nn/modules/module.py\u001b[0m in \u001b[0;36m_call_impl\u001b[0;34m(self, *args, **kwargs)\u001b[0m\n\u001b[1;32m   1745\u001b[0m                 \u001b[0;32mor\u001b[0m \u001b[0m_global_backward_pre_hooks\u001b[0m \u001b[0;32mor\u001b[0m \u001b[0m_global_backward_hooks\u001b[0m\u001b[0;34m\u001b[0m\u001b[0;34m\u001b[0m\u001b[0m\n\u001b[1;32m   1746\u001b[0m                 or _global_forward_hooks or _global_forward_pre_hooks):\n\u001b[0;32m-> 1747\u001b[0;31m             \u001b[0;32mreturn\u001b[0m \u001b[0mforward_call\u001b[0m\u001b[0;34m(\u001b[0m\u001b[0;34m*\u001b[0m\u001b[0margs\u001b[0m\u001b[0;34m,\u001b[0m \u001b[0;34m**\u001b[0m\u001b[0mkwargs\u001b[0m\u001b[0;34m)\u001b[0m\u001b[0;34m\u001b[0m\u001b[0;34m\u001b[0m\u001b[0m\n\u001b[0m\u001b[1;32m   1748\u001b[0m \u001b[0;34m\u001b[0m\u001b[0m\n\u001b[1;32m   1749\u001b[0m         \u001b[0mresult\u001b[0m \u001b[0;34m=\u001b[0m \u001b[0;32mNone\u001b[0m\u001b[0;34m\u001b[0m\u001b[0;34m\u001b[0m\u001b[0m\n",
            "\u001b[0;32m/usr/local/lib/python3.10/dist-packages/torch/nn/modules/linear.py\u001b[0m in \u001b[0;36mforward\u001b[0;34m(self, input)\u001b[0m\n\u001b[1;32m    123\u001b[0m \u001b[0;34m\u001b[0m\u001b[0m\n\u001b[1;32m    124\u001b[0m     \u001b[0;32mdef\u001b[0m \u001b[0mforward\u001b[0m\u001b[0;34m(\u001b[0m\u001b[0mself\u001b[0m\u001b[0;34m,\u001b[0m \u001b[0minput\u001b[0m\u001b[0;34m:\u001b[0m \u001b[0mTensor\u001b[0m\u001b[0;34m)\u001b[0m \u001b[0;34m->\u001b[0m \u001b[0mTensor\u001b[0m\u001b[0;34m:\u001b[0m\u001b[0;34m\u001b[0m\u001b[0;34m\u001b[0m\u001b[0m\n\u001b[0;32m--> 125\u001b[0;31m         \u001b[0;32mreturn\u001b[0m \u001b[0mF\u001b[0m\u001b[0;34m.\u001b[0m\u001b[0mlinear\u001b[0m\u001b[0;34m(\u001b[0m\u001b[0minput\u001b[0m\u001b[0;34m,\u001b[0m \u001b[0mself\u001b[0m\u001b[0;34m.\u001b[0m\u001b[0mweight\u001b[0m\u001b[0;34m,\u001b[0m \u001b[0mself\u001b[0m\u001b[0;34m.\u001b[0m\u001b[0mbias\u001b[0m\u001b[0;34m)\u001b[0m\u001b[0;34m\u001b[0m\u001b[0;34m\u001b[0m\u001b[0m\n\u001b[0m\u001b[1;32m    126\u001b[0m \u001b[0;34m\u001b[0m\u001b[0m\n\u001b[1;32m    127\u001b[0m     \u001b[0;32mdef\u001b[0m \u001b[0mextra_repr\u001b[0m\u001b[0;34m(\u001b[0m\u001b[0mself\u001b[0m\u001b[0;34m)\u001b[0m \u001b[0;34m->\u001b[0m \u001b[0mstr\u001b[0m\u001b[0;34m:\u001b[0m\u001b[0;34m\u001b[0m\u001b[0;34m\u001b[0m\u001b[0m\n",
            "\u001b[0;31mKeyboardInterrupt\u001b[0m: "
          ],
          "ename": "KeyboardInterrupt",
          "evalue": "",
          "output_type": "error"
        }
      ],
      "execution_count": null
    },
    {
      "cell_type": "code",
      "source": [
        "# Load the saved results for plotting/printing\n",
        "\n",
        "args.label=\"high_freq_True_top_k_0.1_top_k_prob_0.9_upd_freq_1\"\n",
        "\n",
        "results_dir = \"/kaggle/working/results/mnist_online\"\n",
        "filename = f\"mnist_{args.label}.pt\"\n",
        "results_filename = os.path.join(results_dir, filename)\n",
        "\n",
        "filename_plot_acc = f\"mnist_{args.label}_acc.png\"\n",
        "results_filename_plot_acc = os.path.join(results_dir, filename_plot_acc)\n",
        "\n",
        "filename_plot_loss = f\"mnist_{args.label}_loss.png\"\n",
        "results_filename_plot_loss = os.path.join(results_dir, filename_plot_loss)\n",
        "\n",
        "\n",
        "\n",
        "results = torch.load(results_filename, weights_only=True)\n",
        "\n",
        "\n",
        "# Extract data from results\n",
        "its = results[\"its\"]  # Optimization steps\n",
        "train_acc = results[\"train_acc\"]  # Training accuracy\n",
        "val_acc = results[\"val_acc\"]  # Validation accuracy\n",
        "train_loss = results[\"train_loss\"]  # Training loss\n",
        "val_loss = results[\"val_loss\"]  # Validation loss\n",
        "steps_to_reach = results[\"steps_to_reach\"]  # Steps to reach 90% validation accuracy\n",
        "\n",
        "print(f\"Steps needed to reach 0.9 validation accuracy: {steps_to_reach}\")\n",
        "\n",
        "# Plot Accuracy\n",
        "plt.figure()\n",
        "plt.plot(its, train_acc, label=\"train\")\n",
        "plt.plot(its, val_acc, label=\"val\")\n",
        "\n",
        "# Find and annotate the maximum validation accuracy\n",
        "max_val_acc = max(val_acc)\n",
        "max_val_idx = val_acc.index(max_val_acc)\n",
        "plt.annotate(f\"Max Val Acc: {max_val_acc:.4f}\",\n",
        "             (its[max_val_idx], max_val_acc),\n",
        "             textcoords=\"offset points\",\n",
        "             xytext=(0,10),\n",
        "             ha='center',\n",
        "             fontsize=10,\n",
        "             color='red')\n",
        "\n",
        "plt.legend()\n",
        "plt.title(\"Accuracy - Grokfast:no Filtering:yes\")\n",
        "plt.xlabel(\"Optimization Steps\")\n",
        "plt.ylabel(\"Accuracy\")\n",
        "plt.xscale(\"log\", base=10)\n",
        "plt.grid()\n",
        "plt.savefig(results_filename_plot_acc, dpi=150)\n",
        "\n",
        "print(\"Plots loaded successfully.\")\n",
        "print(f\"Label: {args.label}\")"
      ],
      "metadata": {
        "trusted": true,
        "execution": {
          "iopub.status.busy": "2025-02-05T11:16:14.437976Z",
          "iopub.execute_input": "2025-02-05T11:16:14.438333Z",
          "iopub.status.idle": "2025-02-05T11:16:15.061199Z",
          "shell.execute_reply.started": "2025-02-05T11:16:14.438304Z",
          "shell.execute_reply": "2025-02-05T11:16:15.060433Z"
        },
        "id": "mcHGDsZ4o4lu",
        "outputId": "04729b90-8118-4285-cc97-13b443a72eb6"
      },
      "outputs": [
        {
          "name": "stdout",
          "text": "Steps needed to reach 0.9 validation accuracy: 8911\nPlots loaded successfully.\nLabel: high_freq_True_top_k_0.1_top_k_prob_0.9_upd_freq_1\n",
          "output_type": "stream"
        },
        {
          "output_type": "display_data",
          "data": {
            "text/plain": "<Figure size 640x480 with 1 Axes>",
            "image/png": "[encoded data removed]"
          },
          "metadata": {}
        }
      ],
      "execution_count": null
    },
    {
      "cell_type": "code",
      "source": [
        "Below is:\n",
        "\n",
        "    * grokfast applied\n",
        "    * no filtering\n",
        "\n",
        "Diiferent parameters from before\n"
      ],
      "metadata": {
        "trusted": true,
        "id": "cozHvLSmo4lu"
      },
      "outputs": [],
      "execution_count": null
    },
    {
      "cell_type": "code",
      "source": [
        "if __name__ == \"__main__\":\n",
        "    # Same as used in paper of Grokfast\n",
        "    parser = ArgumentParser(description=\"Train a model on MNIST with custom sampling\")\n",
        "\n",
        "    parser.add_argument(\"--label\", type=str, default=\"\")\n",
        "    parser.add_argument(\"--seed\", type=int, default=0)\n",
        "\n",
        "    parser.add_argument(\"--train_points\", type=int, default=1000)\n",
        "    parser.add_argument(\"--optimization_steps\", type=int, default=10000)\n",
        "    parser.add_argument(\"--batch_size\", type=int, default=200)\n",
        "    parser.add_argument(\"--loss_function\", type=str, default=\"CrossEntropy\")\n",
        "    parser.add_argument(\"--optimizer\", type=str, default=\"AdamW\")\n",
        "    parser.add_argument(\"--weight_decay\", type=float, default=2.0)\n",
        "    parser.add_argument(\"--lr\", type=float, default=1e-3)\n",
        "    parser.add_argument(\"--initialization_scale\", type=float, default=8.0)\n",
        "    parser.add_argument(\"--download_directory\", type=str, default=\".\")\n",
        "    parser.add_argument(\"--depth\", type=int, default=3)\n",
        "    parser.add_argument(\"--width\", type=int, default=200)\n",
        "    parser.add_argument(\"--activation\", type=str, default=\"ReLU\")\n",
        "\n",
        "    # Grokfast\n",
        "    parser.add_argument(\"--filter\", type=str, choices=[\"none\", \"ma\", \"ema\", \"fir\"], default=\"ema\")\n",
        "    parser.add_argument(\"--alpha\", type=float, default=0.8)\n",
        "    parser.add_argument(\"--lamb\", type=float, default=0.1)\n",
        "\n",
        "    # Samples ranking\n",
        "    parser.add_argument(\"--ema_alpha_sampl_rank\", type=float, default=0.9)\n",
        "\n",
        "    # Boolean arguements need this due to bad behavior of parser.parse_args\n",
        "    def boolean_string(s):\n",
        "        if s not in {\"False\", \"True\"}:\n",
        "            raise ValueError(\"Not a valid boolean string\")\n",
        "        return s == \"True\"\n",
        "\n",
        "    # These are the hyperparameters related to our online sampling filtering algorithm\n",
        "    parser.add_argument(\"--appl_sampl_filter\", type=boolean_string, default=True)  # If False, perform regular training\n",
        "    parser.add_argument(\"--sampling_distr_upd_freq\", type=int, default=1)  # How often to update the sampling distribution\n",
        "    parser.add_argument(\"--top_k\", type=float, default=0.1)  # Fraction of samples to select more frequently\n",
        "    parser.add_argument(\"--top_k_sampling_prob\", type=float, default=0.9)  # Probability of selecting a sample from the top-k\n",
        "    parser.add_argument(\"--high_freq_better\", type=boolean_string, default=True)  # If True, samples with higher frequency gradient content are considered better for training\n",
        "\n",
        "    # -----------------------------------------------------------------\n",
        "    # Try different hyperparameter values for your grid search here\n",
        "    # -----------------------------------------------------------------\n",
        "    args = parser.parse_args(\n",
        "        [\n",
        "            \"--appl_sampl_filter\", \"True\", # booleans as non strings in order to work\n",
        "            \"--sampling_distr_upd_freq\", \"5\", # the rest as strings for some reason\n",
        "            \"--top_k\", \"0.15\",\n",
        "            \"--top_k_sampling_prob\", \"0.9\",\n",
        "            \"--high_freq_better\", \"True\",\n",
        "        ]\n",
        "    )\n",
        "    # -----------------------------------------------------------------\n",
        "    # -----------------------------------------------------------------\n",
        "\n",
        "    # Create arg.label for the filename of the saved results\n",
        "    if not args.appl_sampl_filter:\n",
        "        args.label = f\"filter{args.filter}_sampling_{args.appl_sampl_filter}\"\n",
        "    else:\n",
        "        args.label = f\"high_freq_{args.high_freq_better}_top_k_{args.top_k}_top_k_prob_{args.top_k_sampling_prob}_upd_freq_{args.sampling_distr_upd_freq}\"\n",
        "\n",
        "    # Training with time recording\n",
        "\n",
        "    # Start the timer\n",
        "    start_time = time.time()\n",
        "\n",
        "    # Call your training function\n",
        "    main(args)\n",
        "\n",
        "    # End the timer\n",
        "    end_time = time.time()\n",
        "\n",
        "    # Calculate elapsed time\n",
        "    elapsed_time = end_time - start_time\n",
        "\n",
        "    # Convert to minutes and seconds (optional)\n",
        "    minutes, seconds = divmod(elapsed_time, 60)\n",
        "\n",
        "    print(f\"Training completed in {int(minutes)} minutes and {int(seconds)} seconds.\")\n",
        "    print(f\"label:{args.label}\")\n"
      ],
      "metadata": {
        "trusted": true,
        "execution": {
          "iopub.status.busy": "2025-02-05T11:50:14.030514Z",
          "iopub.status.idle": "2025-02-05T11:50:14.030782Z",
          "shell.execute_reply": "2025-02-05T11:50:14.030675Z"
        },
        "id": "lDqUzjxZo4lu"
      },
      "outputs": [],
      "execution_count": null
    },
    {
      "cell_type": "code",
      "source": [
        "# Load the saved results for plotting/printing\n",
        "\n",
        "args.label=\"high_freq_True_top_k_0.1_top_k_prob_0.9_upd_freq_1\"\n",
        "\n",
        "results_dir = \"/kaggle/working/results/mnist_online\"\n",
        "filename = f\"mnist_{args.label}.pt\"\n",
        "results_filename = os.path.join(results_dir, filename)\n",
        "\n",
        "filename_plot_acc = f\"mnist_{args.label}_acc.png\"\n",
        "results_filename_plot_acc = os.path.join(results_dir, filename_plot_acc)\n",
        "\n",
        "filename_plot_loss = f\"mnist_{args.label}_loss.png\"\n",
        "results_filename_plot_loss = os.path.join(results_dir, filename_plot_loss)\n",
        "\n",
        "\n",
        "\n",
        "results = torch.load(results_filename, weights_only=True)\n",
        "\n",
        "\n",
        "# Extract data from results\n",
        "its = results[\"its\"]  # Optimization steps\n",
        "train_acc = results[\"train_acc\"]  # Training accuracy\n",
        "val_acc = results[\"val_acc\"]  # Validation accuracy\n",
        "train_loss = results[\"train_loss\"]  # Training loss\n",
        "val_loss = results[\"val_loss\"]  # Validation loss\n",
        "steps_to_reach = results[\"steps_to_reach\"]  # Steps to reach 90% validation accuracy\n",
        "\n",
        "print(f\"Steps needed to reach 0.9 validation accuracy: {steps_to_reach}\")\n",
        "\n",
        "# Plot Accuracy\n",
        "plt.figure()\n",
        "plt.plot(its, train_acc, label=\"train\")\n",
        "plt.plot(its, val_acc, label=\"val\")\n",
        "\n",
        "# Find and annotate the maximum validation accuracy\n",
        "max_val_acc = max(val_acc)\n",
        "max_val_idx = val_acc.index(max_val_acc)\n",
        "plt.annotate(f\"Max Val Acc: {max_val_acc:.4f}\",\n",
        "             (its[max_val_idx], max_val_acc),\n",
        "             textcoords=\"offset points\",\n",
        "             xytext=(0,10),\n",
        "             ha='center',\n",
        "             fontsize=10,\n",
        "             color='red')\n",
        "\n",
        "plt.legend()\n",
        "plt.title(\"Accuracy - Grokfast:no Filtering:yes\")\n",
        "plt.xlabel(\"Optimization Steps\")\n",
        "plt.ylabel(\"Accuracy\")\n",
        "plt.xscale(\"log\", base=10)\n",
        "plt.grid()\n",
        "plt.savefig(results_filename_plot_acc, dpi=150)\n",
        "\n",
        "print(\"Plots loaded successfully.\")\n",
        "print(f\"label:{args.label}\")\n"
      ],
      "metadata": {
        "trusted": true,
        "execution": {
          "iopub.status.busy": "2025-02-05T11:30:13.394802Z",
          "iopub.execute_input": "2025-02-05T11:30:13.395095Z",
          "iopub.status.idle": "2025-02-05T11:30:13.416688Z",
          "shell.execute_reply.started": "2025-02-05T11:30:13.395073Z",
          "shell.execute_reply": "2025-02-05T11:30:13.415489Z"
        },
        "id": "u-7v5AgJo4lv",
        "outputId": "9061a1d3-e8dc-4cf6-c442-c5ff19f4e504"
      },
      "outputs": [
        {
          "traceback": [
            "\u001b[0;31m---------------------------------------------------------------------------\u001b[0m",
            "\u001b[0;31mFileNotFoundError\u001b[0m                         Traceback (most recent call last)",
            "\u001b[0;32m<ipython-input-59-08aed6a4a9ab>\u001b[0m in \u001b[0;36m<cell line: 17>\u001b[0;34m()\u001b[0m\n\u001b[1;32m     15\u001b[0m \u001b[0;34m\u001b[0m\u001b[0m\n\u001b[1;32m     16\u001b[0m \u001b[0;34m\u001b[0m\u001b[0m\n\u001b[0;32m---> 17\u001b[0;31m \u001b[0mresults\u001b[0m \u001b[0;34m=\u001b[0m \u001b[0mtorch\u001b[0m\u001b[0;34m.\u001b[0m\u001b[0mload\u001b[0m\u001b[0;34m(\u001b[0m\u001b[0mresults_filename\u001b[0m\u001b[0;34m,\u001b[0m \u001b[0mweights_only\u001b[0m\u001b[0;34m=\u001b[0m\u001b[0;32mTrue\u001b[0m\u001b[0;34m)\u001b[0m\u001b[0;34m\u001b[0m\u001b[0;34m\u001b[0m\u001b[0m\n\u001b[0m\u001b[1;32m     18\u001b[0m \u001b[0;34m\u001b[0m\u001b[0m\n\u001b[1;32m     19\u001b[0m \u001b[0;34m\u001b[0m\u001b[0m\n",
            "\u001b[0;32m/usr/local/lib/python3.10/dist-packages/torch/serialization.py\u001b[0m in \u001b[0;36mload\u001b[0;34m(f, map_location, pickle_module, weights_only, mmap, **pickle_load_args)\u001b[0m\n\u001b[1;32m   1317\u001b[0m         \u001b[0mpickle_load_args\u001b[0m\u001b[0;34m[\u001b[0m\u001b[0;34m\"encoding\"\u001b[0m\u001b[0;34m]\u001b[0m \u001b[0;34m=\u001b[0m \u001b[0;34m\"utf-8\"\u001b[0m\u001b[0;34m\u001b[0m\u001b[0;34m\u001b[0m\u001b[0m\n\u001b[1;32m   1318\u001b[0m \u001b[0;34m\u001b[0m\u001b[0m\n\u001b[0;32m-> 1319\u001b[0;31m     \u001b[0;32mwith\u001b[0m \u001b[0m_open_file_like\u001b[0m\u001b[0;34m(\u001b[0m\u001b[0mf\u001b[0m\u001b[0;34m,\u001b[0m \u001b[0;34m\"rb\"\u001b[0m\u001b[0;34m)\u001b[0m \u001b[0;32mas\u001b[0m \u001b[0mopened_file\u001b[0m\u001b[0;34m:\u001b[0m\u001b[0;34m\u001b[0m\u001b[0;34m\u001b[0m\u001b[0m\n\u001b[0m\u001b[1;32m   1320\u001b[0m         \u001b[0;32mif\u001b[0m \u001b[0m_is_zipfile\u001b[0m\u001b[0;34m(\u001b[0m\u001b[0mopened_file\u001b[0m\u001b[0;34m)\u001b[0m\u001b[0;34m:\u001b[0m\u001b[0;34m\u001b[0m\u001b[0;34m\u001b[0m\u001b[0m\n\u001b[1;32m   1321\u001b[0m             \u001b[0;31m# The zipfile reader is going to advance the current file position.\u001b[0m\u001b[0;34m\u001b[0m\u001b[0;34m\u001b[0m\u001b[0m\n",
            "\u001b[0;32m/usr/local/lib/python3.10/dist-packages/torch/serialization.py\u001b[0m in \u001b[0;36m_open_file_like\u001b[0;34m(name_or_buffer, mode)\u001b[0m\n\u001b[1;32m    657\u001b[0m \u001b[0;32mdef\u001b[0m \u001b[0m_open_file_like\u001b[0m\u001b[0;34m(\u001b[0m\u001b[0mname_or_buffer\u001b[0m\u001b[0;34m,\u001b[0m \u001b[0mmode\u001b[0m\u001b[0;34m)\u001b[0m\u001b[0;34m:\u001b[0m\u001b[0;34m\u001b[0m\u001b[0;34m\u001b[0m\u001b[0m\n\u001b[1;32m    658\u001b[0m     \u001b[0;32mif\u001b[0m \u001b[0m_is_path\u001b[0m\u001b[0;34m(\u001b[0m\u001b[0mname_or_buffer\u001b[0m\u001b[0;34m)\u001b[0m\u001b[0;34m:\u001b[0m\u001b[0;34m\u001b[0m\u001b[0;34m\u001b[0m\u001b[0m\n\u001b[0;32m--> 659\u001b[0;31m         \u001b[0;32mreturn\u001b[0m \u001b[0m_open_file\u001b[0m\u001b[0;34m(\u001b[0m\u001b[0mname_or_buffer\u001b[0m\u001b[0;34m,\u001b[0m \u001b[0mmode\u001b[0m\u001b[0;34m)\u001b[0m\u001b[0;34m\u001b[0m\u001b[0;34m\u001b[0m\u001b[0m\n\u001b[0m\u001b[1;32m    660\u001b[0m     \u001b[0;32melse\u001b[0m\u001b[0;34m:\u001b[0m\u001b[0;34m\u001b[0m\u001b[0;34m\u001b[0m\u001b[0m\n\u001b[1;32m    661\u001b[0m         \u001b[0;32mif\u001b[0m \u001b[0;34m\"w\"\u001b[0m \u001b[0;32min\u001b[0m \u001b[0mmode\u001b[0m\u001b[0;34m:\u001b[0m\u001b[0;34m\u001b[0m\u001b[0;34m\u001b[0m\u001b[0m\n",
            "\u001b[0;32m/usr/local/lib/python3.10/dist-packages/torch/serialization.py\u001b[0m in \u001b[0;36m__init__\u001b[0;34m(self, name, mode)\u001b[0m\n\u001b[1;32m    638\u001b[0m \u001b[0;32mclass\u001b[0m \u001b[0m_open_file\u001b[0m\u001b[0;34m(\u001b[0m\u001b[0m_opener\u001b[0m\u001b[0;34m)\u001b[0m\u001b[0;34m:\u001b[0m\u001b[0;34m\u001b[0m\u001b[0;34m\u001b[0m\u001b[0m\n\u001b[1;32m    639\u001b[0m     \u001b[0;32mdef\u001b[0m \u001b[0m__init__\u001b[0m\u001b[0;34m(\u001b[0m\u001b[0mself\u001b[0m\u001b[0;34m,\u001b[0m \u001b[0mname\u001b[0m\u001b[0;34m,\u001b[0m \u001b[0mmode\u001b[0m\u001b[0;34m)\u001b[0m\u001b[0;34m:\u001b[0m\u001b[0;34m\u001b[0m\u001b[0;34m\u001b[0m\u001b[0m\n\u001b[0;32m--> 640\u001b[0;31m         \u001b[0msuper\u001b[0m\u001b[0;34m(\u001b[0m\u001b[0;34m)\u001b[0m\u001b[0;34m.\u001b[0m\u001b[0m__init__\u001b[0m\u001b[0;34m(\u001b[0m\u001b[0mopen\u001b[0m\u001b[0;34m(\u001b[0m\u001b[0mname\u001b[0m\u001b[0;34m,\u001b[0m \u001b[0mmode\u001b[0m\u001b[0;34m)\u001b[0m\u001b[0;34m)\u001b[0m\u001b[0;34m\u001b[0m\u001b[0;34m\u001b[0m\u001b[0m\n\u001b[0m\u001b[1;32m    641\u001b[0m \u001b[0;34m\u001b[0m\u001b[0m\n\u001b[1;32m    642\u001b[0m     \u001b[0;32mdef\u001b[0m \u001b[0m__exit__\u001b[0m\u001b[0;34m(\u001b[0m\u001b[0mself\u001b[0m\u001b[0;34m,\u001b[0m \u001b[0;34m*\u001b[0m\u001b[0margs\u001b[0m\u001b[0;34m)\u001b[0m\u001b[0;34m:\u001b[0m\u001b[0;34m\u001b[0m\u001b[0;34m\u001b[0m\u001b[0m\n",
            "\u001b[0;31mFileNotFoundError\u001b[0m: [Errno 2] No such file or directory: '/kaggle/working/results/mnist_online/mnist_high_freq_True_top_k_0.15_top_k_prob_0.9_upd_freq_5.pt'"
          ],
          "ename": "FileNotFoundError",
          "evalue": "[Errno 2] No such file or directory: '/kaggle/working/results/mnist_online/mnist_high_freq_True_top_k_0.15_top_k_prob_0.9_upd_freq_5.pt'",
          "output_type": "error"
        }
      ],
      "execution_count": null
    }
  ]
}