{
  "metadata": {
    "kernelspec": {
      "language": "python",
      "display_name": "Python 3",
      "name": "python3"
    },
    "language_info": {
      "name": "python",
      "version": "3.10.12",
      "mimetype": "text/x-python",
      "codemirror_mode": {
        "name": "ipython",
        "version": 3
      },
      "pygments_lexer": "ipython3",
      "nbconvert_exporter": "python",
      "file_extension": ".py"
    },
    "kaggle": {
      "accelerator": "nvidiaTeslaT4",
      "dataSources": [
        {
          "sourceId": 242592,
          "sourceType": "datasetVersion",
          "datasetId": 102285
        },
        {
          "sourceId": 10525219,
          "sourceType": "datasetVersion",
          "datasetId": 6514111
        }
      ],
      "dockerImageVersionId": 30839,
      "isInternetEnabled": false,
      "language": "python",
      "sourceType": "notebook",
      "isGpuEnabled": true
    },
    "colab": {
      "name": "sample_complexity_dataset",
      "provenance": [],
      "include_colab_link": true
    }
  },
  "nbformat_minor": 0,
  "nbformat": 4,
  "cells": [
    {
      "cell_type": "markdown",
      "metadata": {
        "id": "view-in-github",
        "colab_type": "text"
      },
      "source": [
        "<a href=\"https://colab.research.google.com/github/nickxir12/PatRec_Project_2024-2025/blob/main/MNIST_code/sample_complexity_dataset.ipynb\" target=\"_parent\"><img src=\"https://colab.research.google.com/assets/colab-badge.svg\" alt=\"Open In Colab\"/></a>"
      ]
    },
    {
      "source": [
        "# IMPORTANT: SOME KAGGLE DATA SOURCES ARE PRIVATE\n",
        "# RUN THIS CELL IN ORDER TO IMPORT YOUR KAGGLE DATA SOURCES.\n",
        "import kagglehub\n",
        "kagglehub.login()\n"
      ],
      "metadata": {
        "id": "KP2--Ue9OrL1"
      },
      "cell_type": "code",
      "outputs": [],
      "execution_count": null
    },
    {
      "source": [
        "# IMPORTANT: RUN THIS CELL IN ORDER TO IMPORT YOUR KAGGLE DATA SOURCES,\n",
        "# THEN FEEL FREE TO DELETE THIS CELL.\n",
        "# NOTE: THIS NOTEBOOK ENVIRONMENT DIFFERS FROM KAGGLE'S PYTHON\n",
        "# ENVIRONMENT SO THERE MAY BE MISSING LIBRARIES USED BY YOUR\n",
        "# NOTEBOOK.\n",
        "\n",
        "hojjatk_mnist_dataset_path = kagglehub.dataset_download('hojjatk/mnist-dataset')\n",
        "nikolasxiros_enter_data_dn_req_path = kagglehub.dataset_download('nikolasxiros/enter-data-dn-req')\n",
        "\n",
        "print('Data source import complete.')\n"
      ],
      "metadata": {
        "id": "_pj_I-TUOrL4"
      },
      "cell_type": "code",
      "outputs": [],
      "execution_count": null
    },
    {
      "cell_type": "code",
      "source": [
        "# This Python 3 environment comes with many helpful analytics libraries installed\n",
        "# It is defined by the kaggle/python Docker image: https://github.com/kaggle/docker-python\n",
        "# For example, here's several helpful packages to load\n",
        "\n",
        "import numpy as np # linear algebra\n",
        "import pandas as pd # data processing, CSV file I/O (e.g. pd.read_csv)\n",
        "\n",
        "# Input data files are available in the read-only \"../input/\" directory\n",
        "# For example, running this (by clicking run or pressing Shift+Enter) will list all files under the input directory\n",
        "\n",
        "import os\n",
        "for dirname, _, filenames in os.walk('/kaggle/input'):\n",
        "    for filename in filenames:\n",
        "        print(os.path.join(dirname, filename))\n",
        "\n",
        "# You can write up to 20GB to the current directory (/kaggle/working/) that gets preserved as output when you create a version using \"Save & Run All\"\n",
        "# You can also write temporary files to /kaggle/temp/, but they won't be saved outside of the current session"
      ],
      "metadata": {
        "_uuid": "8f2839f25d086af736a60e9eeb907d3b93b6e0e5",
        "_cell_guid": "b1076dfc-b9ad-4769-8c92-a6c4dae69d19",
        "trusted": true,
        "execution": {
          "iopub.status.busy": "2025-01-20T18:51:59.463276Z",
          "iopub.execute_input": "2025-01-20T18:51:59.463598Z",
          "iopub.status.idle": "2025-01-20T18:51:59.798495Z",
          "shell.execute_reply.started": "2025-01-20T18:51:59.463561Z",
          "shell.execute_reply": "2025-01-20T18:51:59.797784Z"
        },
        "id": "sAqFv4LKOrL4",
        "outputId": "c7a60ad3-f141-4227-9229-2f0c62196788"
      },
      "outputs": [
        {
          "name": "stdout",
          "text": "/kaggle/input/enter-data-dn-req/train.pt\n/kaggle/input/enter-data-dn-req/test.pt\n/kaggle/input/enter-data-dn-req/requirements.txt\n/kaggle/input/mnist-dataset/train-images.idx3-ubyte\n/kaggle/input/mnist-dataset/t10k-labels.idx1-ubyte\n/kaggle/input/mnist-dataset/t10k-images.idx3-ubyte\n/kaggle/input/mnist-dataset/train-labels.idx1-ubyte\n/kaggle/input/mnist-dataset/t10k-labels-idx1-ubyte/t10k-labels-idx1-ubyte\n/kaggle/input/mnist-dataset/t10k-images-idx3-ubyte/t10k-images-idx3-ubyte\n/kaggle/input/mnist-dataset/train-labels-idx1-ubyte/train-labels-idx1-ubyte\n/kaggle/input/mnist-dataset/train-images-idx3-ubyte/train-images-idx3-ubyte\n",
          "output_type": "stream"
        }
      ],
      "execution_count": null
    },
    {
      "cell_type": "code",
      "source": [
        "#!pip install -r /kaggle/input/enter-data-dn-req/requirements.txt\n"
      ],
      "metadata": {
        "trusted": true,
        "execution": {
          "iopub.status.busy": "2025-01-20T18:51:59.799382Z",
          "iopub.execute_input": "2025-01-20T18:51:59.799786Z",
          "iopub.status.idle": "2025-01-20T18:51:59.80306Z",
          "shell.execute_reply.started": "2025-01-20T18:51:59.799759Z",
          "shell.execute_reply": "2025-01-20T18:51:59.802197Z"
        },
        "id": "_P4glIxcOrL5"
      },
      "outputs": [],
      "execution_count": null
    },
    {
      "cell_type": "code",
      "source": [
        "\n",
        "import random\n",
        "import time\n",
        "import math\n",
        "import argparse\n",
        "from argparse import ArgumentParser\n",
        "from collections import defaultdict\n",
        "from itertools import islice\n",
        "from pathlib import Path\n",
        "\n",
        "import numpy as np\n",
        "import matplotlib.pyplot as plt\n",
        "from tqdm.auto import tqdm\n",
        "\n",
        "import torch\n",
        "import torch.nn as nn\n",
        "import torchvision\n",
        "from typing import List, Optional, Dict, Literal\n",
        "from collections import deque\n",
        "from torch.utils.data import Dataset, DataLoader, Subset\n",
        "from sklearn.model_selection import train_test_split\n",
        "import torch\n",
        "import torchvision.transforms as transforms\n",
        "import struct\n",
        "import gzip\n"
      ],
      "metadata": {
        "trusted": true,
        "execution": {
          "iopub.status.busy": "2025-01-20T18:51:59.804466Z",
          "iopub.execute_input": "2025-01-20T18:51:59.804804Z",
          "iopub.status.idle": "2025-01-20T18:52:06.482961Z",
          "shell.execute_reply.started": "2025-01-20T18:51:59.804767Z",
          "shell.execute_reply": "2025-01-20T18:52:06.482257Z"
        },
        "id": "7f3AybGXOrL6"
      },
      "outputs": [],
      "execution_count": null
    },
    {
      "cell_type": "code",
      "source": [
        "def cycle(iterable):\n",
        "    while True:\n",
        "        for x in iterable:\n",
        "            yield x"
      ],
      "metadata": {
        "trusted": true,
        "execution": {
          "iopub.status.busy": "2025-01-20T18:52:06.484042Z",
          "iopub.execute_input": "2025-01-20T18:52:06.484414Z",
          "iopub.status.idle": "2025-01-20T18:52:06.488195Z",
          "shell.execute_reply.started": "2025-01-20T18:52:06.484381Z",
          "shell.execute_reply": "2025-01-20T18:52:06.487261Z"
        },
        "id": "9Kv1-lnGOrL6"
      },
      "outputs": [],
      "execution_count": null
    },
    {
      "cell_type": "code",
      "source": [
        "def custom_collate_fn_2(batch):\n",
        "    \"\"\"Custom collate function to handle extra fields in the dataset.\"\"\"\n",
        "    images, labels, _, _ = zip(*batch)  # Ignore the indices and extra_fields for loss computation\n",
        "    images = torch.stack(images)  # Stack images into a single tensor\n",
        "    labels = torch.tensor(labels)  # Convert labels to a tensor\n",
        "    return images, labels\n",
        "\n",
        "def compute_accuracy(model, dataset, device, N=None):\n",
        "    \"\"\"Utility to compute accuracy on a given dataset.\"\"\"\n",
        "    loader = DataLoader(dataset, batch_size=256, shuffle=False)\n",
        "    correct = 0\n",
        "    total = 0\n",
        "\n",
        "    loader = DataLoader(dataset, batch_size=256, shuffle=False, collate_fn=custom_collate_fn_2)\n",
        "\n",
        "    for x, y in loader:  # Unpack index and extra_fields as well\n",
        "        x, y = x.to(device), y.to(device)\n",
        "        with torch.no_grad():\n",
        "            outputs = model(x)\n",
        "            predictions = outputs.argmax(dim=1)\n",
        "        correct += (predictions == y).sum().item()\n",
        "        total += y.size(0)\n",
        "        if N is not None and total >= N:\n",
        "            break\n",
        "    return correct / total\n",
        "\n",
        "def compute_loss(model, dataset, loss_function_name, device, N=None):\n",
        "    \"\"\"Utility to compute the average loss on a given dataset.\"\"\"\n",
        "    loss_fn = loss_function_dict[loss_function_name]()\n",
        "\n",
        "    loader = DataLoader(dataset, batch_size=256, shuffle=False, collate_fn=custom_collate_fn_2)\n",
        "    total_loss = 0.0\n",
        "    count = 0\n",
        "    one_hots = torch.eye(10, device=device)\n",
        "    for x, y in loader:\n",
        "        x, y = x.to(device), y.to(device)\n",
        "        with torch.no_grad():\n",
        "            outputs = model(x)\n",
        "            if loss_function_name == 'CrossEntropy':\n",
        "                loss = loss_fn(outputs, y)\n",
        "            elif loss_function_name == 'MSE':\n",
        "                loss = loss_fn(outputs, one_hots[y])\n",
        "        batch_size = x.size(0)\n",
        "        total_loss += loss.item() * batch_size\n",
        "        count += batch_size\n",
        "        if N is not None and count >= N:\n",
        "            break\n",
        "    return total_loss / count\n"
      ],
      "metadata": {
        "trusted": true,
        "execution": {
          "iopub.status.busy": "2025-01-20T18:52:06.4891Z",
          "iopub.execute_input": "2025-01-20T18:52:06.489332Z",
          "iopub.status.idle": "2025-01-20T18:52:06.512568Z",
          "shell.execute_reply.started": "2025-01-20T18:52:06.489313Z",
          "shell.execute_reply": "2025-01-20T18:52:06.51177Z"
        },
        "id": "rE3H8Z-wOrL6"
      },
      "outputs": [],
      "execution_count": null
    },
    {
      "cell_type": "code",
      "source": [
        "optimizer_dict = {\n",
        "    'AdamW': torch.optim.AdamW,\n",
        "    'Adam': torch.optim.Adam,\n",
        "    'SGD': torch.optim.SGD\n",
        "}\n",
        "\n",
        "activation_dict = {\n",
        "    'ReLU': nn.ReLU,\n",
        "    'Tanh': nn.Tanh,\n",
        "    'Sigmoid': nn.Sigmoid,\n",
        "    'GELU': nn.GELU\n",
        "}\n",
        "\n",
        "loss_function_dict = {\n",
        "    'MSE': nn.MSELoss,\n",
        "    'CrossEntropy': nn.CrossEntropyLoss\n",
        "}"
      ],
      "metadata": {
        "trusted": true,
        "execution": {
          "iopub.status.busy": "2025-01-20T18:52:06.513359Z",
          "iopub.execute_input": "2025-01-20T18:52:06.513623Z",
          "iopub.status.idle": "2025-01-20T18:52:06.531345Z",
          "shell.execute_reply.started": "2025-01-20T18:52:06.513603Z",
          "shell.execute_reply": "2025-01-20T18:52:06.530568Z"
        },
        "id": "av3M4b5TOrL7"
      },
      "outputs": [],
      "execution_count": null
    },
    {
      "cell_type": "code",
      "source": [
        "\n",
        "import os\n",
        "results_dir = \"/kaggle/working/results/pt\"\n",
        "os.makedirs(results_dir, exist_ok=True)\n",
        "dataset_path = \"/kaggle/input/enter-data-dn-req\"\n",
        "os.makedirs(results_dir, exist_ok=True)\n"
      ],
      "metadata": {
        "trusted": true,
        "execution": {
          "iopub.status.busy": "2025-01-20T18:52:06.532213Z",
          "iopub.execute_input": "2025-01-20T18:52:06.532566Z",
          "iopub.status.idle": "2025-01-20T18:52:06.551095Z",
          "shell.execute_reply.started": "2025-01-20T18:52:06.532535Z",
          "shell.execute_reply": "2025-01-20T18:52:06.550275Z"
        },
        "id": "vCSK-6j2OrL7"
      },
      "outputs": [],
      "execution_count": null
    },
    {
      "cell_type": "code",
      "source": [
        "\n",
        "import torch\n",
        "import torchvision\n",
        "\n",
        "from torch.utils.data import Dataset\n",
        "\n",
        "#         Added extra fields to keep ema_gra and history\n",
        "class MyMNIST(torchvision.datasets.MNIST):\n",
        "    def __init__(self, data, targets, transform=None):\n",
        "        \"\"\"\n",
        "        Custom dataset to simulate MyMNIST behavior with extra fields.\n",
        "        Args:\n",
        "            data: Tensor of shape [N, 28, 28].\n",
        "            targets: Tensor of shape [N].\n",
        "            transform: Transformations to apply to the images.\n",
        "        \"\"\"\n",
        "        self.data = data.to(torch.float32)\n",
        "        self.targets = targets\n",
        "        self.transform = transform\n",
        "\n",
        "        # Initialize extra fields\n",
        "        self.extra_fields = [{\n",
        "            \"ema_grad\": 0.0,         # EMA of gradient\n",
        "             \"num_updates\":0,\n",
        "            \"deviation_metric\": 0.0, # Deviation metric\n",
        "            #\"variance_metric\": 0.0   # Variance metric\n",
        "        } for _ in range(len(self.data))]\n",
        "\n",
        "    def __getitem__(self, index):\n",
        "        \"\"\"\n",
        "        Returns a single data sample and its associated extra fields.\n",
        "        \"\"\"\n",
        "        img, target = self.data[index], self.targets[index]\n",
        "        if self.transform:\n",
        "            img = self.transform(img)\n",
        "        extra_field = self.extra_fields[index]\n",
        "        return img, target, index, extra_field\n",
        "\n",
        "    def update_fields(self, indices, grad_stats,ema_alpha=0.9):\n",
        "        \"\"\"\n",
        "        Update the extra fields for specified dataset indices.\n",
        "        \"\"\"\n",
        "\n",
        "        for idx, grad  in zip(indices, grad_stats):\n",
        "          # Update EMA\n",
        "          sample_field = self.extra_fields[idx]\n",
        "\n",
        "\n",
        "          current_ema = sample_field[\"ema_grad\"]\n",
        "          updated_ema = ema_alpha * current_ema + (1 - ema_alpha) * grad\n",
        "          sample_field[\"ema_grad\"] = updated_ema\n",
        "\n",
        "          deviation = abs(grad - updated_ema)\n",
        "\n",
        "          num_updates = sample_field[\"num_updates\"] + 1  # Increment the update count\n",
        "          current_avg_deviation = sample_field[\"deviation_metric\"]\n",
        "          new_avg_deviation = ((current_avg_deviation * (num_updates - 1)) + deviation) / num_updates\n",
        "\n",
        "          # Update the deviation metric and number of updates\n",
        "          sample_field[\"deviation_metric\"] = new_avg_deviation\n",
        "          sample_field[\"num_updates\"] = num_updates\n",
        "\n",
        "          #sample_field[\"deviation_metric\"] += deviation\n",
        "          # Optionally update variance-like metric\n",
        "          # Variance estimate (for higher sensitivity to fast changes)\n",
        "          #sample_field[\"variance_metric\"] += (deviation ** 2)\n"
      ],
      "metadata": {
        "trusted": true,
        "execution": {
          "iopub.status.busy": "2025-01-20T18:52:06.553285Z",
          "iopub.execute_input": "2025-01-20T18:52:06.553501Z",
          "iopub.status.idle": "2025-01-20T18:52:06.566778Z",
          "shell.execute_reply.started": "2025-01-20T18:52:06.553482Z",
          "shell.execute_reply": "2025-01-20T18:52:06.56601Z"
        },
        "id": "XEvUlwOfOrL7"
      },
      "outputs": [],
      "execution_count": null
    },
    {
      "cell_type": "code",
      "source": [
        "def custom_collate_fn(batch):\n",
        "    images, labels, indices, extra_fields = zip(*batch)\n",
        "    images = torch.stack(images)  # Stack images into a single tensor\n",
        "    labels = torch.tensor(labels)  # Convert labels to a tensor\n",
        "    return images, labels, indices, extra_fields"
      ],
      "metadata": {
        "trusted": true,
        "execution": {
          "iopub.status.busy": "2025-01-20T18:52:06.568019Z",
          "iopub.execute_input": "2025-01-20T18:52:06.568236Z",
          "iopub.status.idle": "2025-01-20T18:52:06.585145Z",
          "shell.execute_reply.started": "2025-01-20T18:52:06.568219Z",
          "shell.execute_reply": "2025-01-20T18:52:06.584402Z"
        },
        "id": "0s56GzAAOrL8"
      },
      "outputs": [],
      "execution_count": null
    },
    {
      "cell_type": "code",
      "source": [
        "\n",
        "\n",
        "from collections import Counter\n",
        "from sklearn.model_selection import train_test_split\n",
        "from torch.utils.data import DataLoader\n",
        "from torch.autograd import grad\n",
        "\n",
        "def main(args,train_dataset,train_loader,test):\n",
        "    log_freq = math.ceil(args.optimization_steps / 150)\n",
        "\n",
        "    device = torch.device(\"cuda\" if torch.cuda.is_available() else \"cpu\")\n",
        "    dtype = torch.float32\n",
        "\n",
        "    one_hots = torch.eye(10, 10).to(device)\n",
        "\n",
        "    torch.set_default_dtype(dtype)\n",
        "    torch.manual_seed(args.seed)\n",
        "    torch.cuda.manual_seed_all(args.seed)\n",
        "    random.seed(args.seed)\n",
        "    np.random.seed(args.seed)\n",
        "\n",
        "    #                                   Create model\n",
        "    #   -------------------------------------------------------------------------------   #\n",
        "    activation_fn = activation_dict[args.activation]\n",
        "    layers = [nn.Flatten()]\n",
        "    for i in range(args.depth):\n",
        "        if i == 0:\n",
        "            layers.append(nn.Linear(784, args.width))\n",
        "            layers.append(activation_fn())\n",
        "        elif i == args.depth - 1:\n",
        "            layers.append(nn.Linear(args.width, 10))\n",
        "        else:\n",
        "            layers.append(nn.Linear(args.width, args.width))\n",
        "            layers.append(activation_fn())\n",
        "    mlp = nn.Sequential(*layers).to(device)\n",
        "    with torch.no_grad():\n",
        "        for p in mlp.parameters():\n",
        "            p.data = args.initialization_scale * p.data\n",
        "    nparams = sum([p.numel() for p in mlp.parameters() if p.requires_grad])\n",
        "    print(f'Number of parameters: {nparams}')\n",
        "\n",
        "    # create optimizer\n",
        "    assert args.optimizer in optimizer_dict, f\"Unsupported optimizer choice: {args.optimizer}\"\n",
        "    optimizer = optimizer_dict[args.optimizer](mlp.parameters(), lr=args.lr, weight_decay=args.weight_decay)\n",
        "\n",
        "    # define loss function\n",
        "    assert args.loss_function in loss_function_dict\n",
        "    loss_fn = loss_function_dict[args.loss_function]()\n",
        "\n",
        "    # Initialize EMA and metric history for each sample\n",
        "    gradient_ema = [0.0 for _ in range(len(train_dataset))]\n",
        "    ema_alpha = 0.9  # Exponential moving average factor\n",
        "\n",
        "\n",
        "    #                           Start Training below\n",
        "    #   -------------------------------------------------------------------------------   #\n",
        "    steps, log_steps, train_losses, train_accuracies, test_losses, test_accuracies = 0, [], [], [], [], []\n",
        "    one_hots = torch.eye(10, 10).to(device)\n",
        "    os.makedirs(results_dir, exist_ok=True)\n",
        "\n",
        "    with tqdm(total=args.optimization_steps, dynamic_ncols=True) as pbar:\n",
        "\n",
        "        reached_early_stop = False  # Flag to indicate early stopping\n",
        "        steps_to_reach_val_acc = None  # Variable to store steps for 0.95 validation accuracy\n",
        "\n",
        "        stable_threshold = 100  # Number of steps the validation accuracy must remain > 0.85\n",
        "        stable_steps = 0  # Counter for steps validation accuracy remains above 0.85\n",
        "\n",
        "        for batch in islice(cycle(train_loader), args.optimization_steps):\n",
        "            x, labels, indices, extra_fields = batch\n",
        "            do_log = (steps < 30) or (steps < 150 and steps % 10 == 0) or steps % log_freq == 0\n",
        "            if do_log:\n",
        "                train_losses.append(compute_loss(mlp, train_dataset, args.loss_function, device, N=len(train_dataset)))\n",
        "                train_accuracies.append(compute_accuracy(mlp, train_dataset, device, N=len(train_dataset)))\n",
        "                test_losses.append(compute_loss(mlp, test, args.loss_function, device, N=len(test)))\n",
        "                test_accuracies.append(compute_accuracy(mlp, test, device, N=len(test)))\n",
        "                log_steps.append(steps)\n",
        "                pbar.set_description(\n",
        "                \"Loss: {0:1.1e}|{1:1.1e}. Acc: {2:2.1f}%|{3:2.1f}%\".format(\n",
        "                    train_losses[-1],\n",
        "                    test_losses[-1],\n",
        "                    train_accuracies[-1] * 100,\n",
        "                    test_accuracies[-1] * 100,\n",
        "                )\n",
        "            )\n",
        "\n",
        "            x, labels = x.to(device), labels.to(device)\n",
        "            y = mlp(x.to(device))\n",
        "            if args.loss_function == 'CrossEntropy':\n",
        "                # Use integer labels for CrossEntropyLoss\n",
        "                loss = loss_fn(y, labels)\n",
        "            elif args.loss_function == 'MSE':\n",
        "                loss = loss_fn(y, one_hots[labels])\n",
        "\n",
        "            optimizer.zero_grad()\n",
        "            loss.backward(create_graph=True)\n",
        "\n",
        "            # -----------------------------------------------------------------\n",
        "            #   Gradient Stats: Capture grads for each sample\n",
        "            # -----------------------------------------------------------------\n",
        "            # Compute per-sample gradients for a specific layer\n",
        "            # Get the last Linear layer dynamically\n",
        "            for layer in reversed(mlp):\n",
        "                if isinstance(layer, nn.Linear):\n",
        "                    target_layer = layer.weight  # Access the weights of the last Linear layer\n",
        "                    break\n",
        "\n",
        "            # target_layer = list(mlp.parameters())[0]  # Last layer weights\n",
        "\n",
        "            #print(f\"Raw gradients: {target_layer.grad}\")\n",
        "\n",
        "            #batch_mean_grads = target_layer.grad.view(-1).mean().item() # Average gradient across all selected parameters across all the batch\n",
        "\n",
        "            # Aggregate gradients across samples - Average gradient FOR EVERY SAMPLE\n",
        "            per_sample_grads = grad(loss, target_layer, create_graph=False, retain_graph=True)[0]  # Shape: [batch_size, *layer_shape]\n",
        "            #print(f\"per_sample_grads shape: {per_sample_grads.shape}\")\n",
        "\n",
        "            batch_mean_grads = per_sample_grads.view(per_sample_grads.size(0), -1).mean(dim=0)  # Shape: [batch_size]\n",
        "\n",
        "\n",
        "            # Update EMA and metrics for each sample\n",
        "\n",
        "            # for subset_idx, original_idx in enumerate(indices):\n",
        "            #     #Update with value of average across all parameters\n",
        "            #     #train_dataset.update_fields([original_idx], [batch_mean_grads[subset_idx]], ema_alpha)\n",
        "            #     train_dataset.dataset.update_fields([original_idx], [batch_mean_grads[subset_idx]], ema_alpha)\n",
        "            #print(indices)\n",
        "            #print()\n",
        "            train_dataset.dataset.update_fields(indices, batch_mean_grads, ema_alpha)\n",
        "\n",
        "            optimizer.step()\n",
        "\n",
        "            test_acc = test_accuracies[-1] if len(test_accuracies) > 0 else 0\n",
        "            # Check for early stopping conditions\n",
        "            if test_acc >= 0.95 and steps_to_reach_val_acc is None:\n",
        "                steps_to_reach_val_acc = steps  # Record the first step reaching 0.95 validation accuracy\n",
        "\n",
        "            if test_acc > 0.9:\n",
        "                stable_steps += 1\n",
        "            else:\n",
        "                stable_steps = 0  # Reset counter if accuracy drops below 0.9\n",
        "\n",
        "            if stable_steps >= stable_threshold and test_acc >= 0.95:\n",
        "                reached_early_stop = True\n",
        "                print(f\"Validation accuracy of 0.95 reached and remained > 0.9 for {stable_threshold} steps at step {steps}\")\n",
        "\n",
        "\n",
        "            steps += 1\n",
        "            pbar.update(1)\n",
        "\n",
        "    # Save results\n",
        "    results_filename = os.path.join(results_dir, f\"mnist_{args.label}.pt\")\n",
        "    os.makedirs(results_dir, exist_ok=True)\n",
        "    torch.save({\n",
        "        'its': log_steps,\n",
        "        'train_acc': train_accuracies,\n",
        "        'train_loss': train_losses,\n",
        "        'val_acc': test_accuracies,\n",
        "        'val_loss': test_losses,\n",
        "        'steps_to_reach': steps_to_reach_val_acc\n",
        "    }, results_filename)\n",
        "\n",
        "    return train_dataset, steps_to_reach_val_acc\n"
      ],
      "metadata": {
        "trusted": true,
        "execution": {
          "iopub.status.busy": "2025-01-20T18:52:06.586016Z",
          "iopub.execute_input": "2025-01-20T18:52:06.586258Z",
          "iopub.status.idle": "2025-01-20T18:52:06.60437Z",
          "shell.execute_reply.started": "2025-01-20T18:52:06.586229Z",
          "shell.execute_reply": "2025-01-20T18:52:06.603626Z"
        },
        "id": "vZenxeaJOrL8"
      },
      "outputs": [],
      "execution_count": null
    },
    {
      "cell_type": "code",
      "source": [
        "\n",
        "import sys\n",
        "from argparse import ArgumentParser\n",
        "\n",
        "# Remove the extra arguments passed by the Jupyter Notebook kernel\n",
        "sys.argv = ['']\n"
      ],
      "metadata": {
        "trusted": true,
        "execution": {
          "iopub.status.busy": "2025-01-20T18:52:06.605003Z",
          "iopub.execute_input": "2025-01-20T18:52:06.605186Z",
          "iopub.status.idle": "2025-01-20T18:52:06.624463Z",
          "shell.execute_reply.started": "2025-01-20T18:52:06.605171Z",
          "shell.execute_reply": "2025-01-20T18:52:06.623724Z"
        },
        "id": "sCuu6uWZOrL8"
      },
      "outputs": [],
      "execution_count": null
    },
    {
      "cell_type": "code",
      "source": [
        "\n",
        "\n",
        "#     Same as used in paper of Grokfast\n",
        "args = argparse.Namespace(\n",
        "    train_points=6000,\n",
        "    optimization_steps=1000,\n",
        "    batch_size=200,\n",
        "    loss_function=\"CrossEntropy\",#changed\n",
        "    optimizer=\"AdamW\",\n",
        "    weight_decay=0.01,\n",
        "    lr=1e-3,\n",
        "    initialization_scale=8.0,\n",
        "    download_directory=\".\",\n",
        "    depth=3,#changed\n",
        "    width=200,#changed\n",
        "    activation=\"ReLU\",\n",
        "    seed=42,\n",
        "    label=\"experiment_initial\"\n",
        ")\n",
        "\n"
      ],
      "metadata": {
        "trusted": true,
        "execution": {
          "iopub.status.busy": "2025-01-20T19:14:08.41598Z",
          "iopub.execute_input": "2025-01-20T19:14:08.416259Z",
          "iopub.status.idle": "2025-01-20T19:14:08.420491Z",
          "shell.execute_reply.started": "2025-01-20T19:14:08.416237Z",
          "shell.execute_reply": "2025-01-20T19:14:08.419586Z"
        },
        "id": "WKYcKSfROrL9"
      },
      "outputs": [],
      "execution_count": null
    },
    {
      "cell_type": "code",
      "source": [
        "\n",
        "    #                                 Load dataset\n",
        "    #   -------------------------------------------------------------------------------   #\n",
        "\n",
        "\n",
        "    train_data = torch.load(f\"{dataset_path}/train.pt\",weights_only=True)\n",
        "    test_data = torch.load(f\"{dataset_path}/test.pt\",weights_only=True)\n",
        "\n",
        "    transform = None\n",
        "\n",
        "    train_images, train_labels = train_data\n",
        "    test_images, test_labels = test_data\n",
        "\n",
        "\n",
        "    # Create MyMNIST datasets\n",
        "    train_dataset = MyMNIST(train_images, train_labels, transform=transform)\n",
        "    test_dataset = MyMNIST(test_images, test_labels, transform=transform)\n",
        "\n",
        "\n",
        "    # # Create indices & stratify\n",
        "    train_indices = list(range(len(train_dataset)))\n",
        "    train_labels = [train_dataset.targets[i].item() for i in train_indices]\n",
        "\n",
        "    # Use train_test_split with stratification to randomly select a specified number of samples (args.train_points)\n",
        "    stratified_indices, _ = train_test_split(\n",
        "        train_indices,\n",
        "        train_size=args.train_points,\n",
        "        stratify=train_labels,\n",
        "        random_state=args.seed\n",
        "    )\n",
        "\n",
        "    train_dataset = torch.utils.data.Subset(train_dataset, stratified_indices)\n",
        "\n",
        "    train_loader = DataLoader(train_dataset, batch_size=args.batch_size, shuffle=True,collate_fn=custom_collate_fn)\n",
        "\n",
        "\n",
        "    # We'll just use the full test dataset\n",
        "    test = test_dataset\n",
        "\n"
      ],
      "metadata": {
        "trusted": true,
        "execution": {
          "iopub.status.busy": "2025-01-20T19:14:23.148899Z",
          "iopub.execute_input": "2025-01-20T19:14:23.149179Z",
          "iopub.status.idle": "2025-01-20T19:14:23.505683Z",
          "shell.execute_reply.started": "2025-01-20T19:14:23.149156Z",
          "shell.execute_reply": "2025-01-20T19:14:23.504924Z"
        },
        "id": "Qv7WxJP-OrL9"
      },
      "outputs": [],
      "execution_count": null
    },
    {
      "cell_type": "code",
      "source": [
        "# Call the training function\n",
        "upd_train_dataset, steps_to_reach_val_acc= main(args,train_dataset,train_loader,test)"
      ],
      "metadata": {
        "trusted": true,
        "execution": {
          "iopub.status.busy": "2025-01-20T19:14:25.05936Z",
          "iopub.execute_input": "2025-01-20T19:14:25.059679Z",
          "iopub.status.idle": "2025-01-20T19:15:42.481652Z",
          "shell.execute_reply.started": "2025-01-20T19:14:25.059652Z",
          "shell.execute_reply": "2025-01-20T19:15:42.48094Z"
        },
        "colab": {
          "referenced_widgets": [
            "d5869159f88f448bac2728d3e2f99108"
          ]
        },
        "id": "lvxQBdgtOrL9",
        "outputId": "f0f5db0a-2883-4ac7-ca2b-e9ae310f9e65"
      },
      "outputs": [
        {
          "name": "stdout",
          "text": "Number of parameters: 199210\n",
          "output_type": "stream"
        },
        {
          "output_type": "display_data",
          "data": {
            "text/plain": "  0%|          | 0/1000 [00:00<?, ?it/s]",
            "application/vnd.jupyter.widget-view+json": {
              "version_major": 2,
              "version_minor": 0,
              "model_id": "d5869159f88f448bac2728d3e2f99108"
            }
          },
          "metadata": {}
        }
      ],
      "execution_count": null
    },
    {
      "cell_type": "code",
      "source": [
        "\n",
        "results_pt_dir = \"/kaggle/working/results/pt\"\n",
        "\n",
        "file=\"mnist_experiment_initial.pt\"\n",
        "\n",
        "results_pt_dir = os.path.join(results_pt_dir, file)\n",
        "\n",
        "results = torch.load(results_pt_dir,weights_only=True)\n",
        "\n",
        "\n",
        "# Extract data from results\n",
        "its = results[\"its\"]  # Optimization steps\n",
        "train_acc = results[\"train_acc\"]  # Training accuracy\n",
        "val_acc = results[\"val_acc\"]  # Validation accuracy\n",
        "train_loss = results[\"train_loss\"]  # Training loss\n",
        "val_loss = results[\"val_loss\"]  # Validation loss\n",
        "\n",
        "# Plot Accuracy\n",
        "plt.figure()\n",
        "plt.plot(its, train_acc, label=\"train\")\n",
        "plt.plot(its, val_acc, label=\"val\")\n",
        "plt.legend()\n",
        "plt.title(f\"Accuracy  (Training initial dataset)\")\n",
        "plt.xlabel(\"Optimization Steps\")\n",
        "plt.ylabel(\"Accuracy\")\n",
        "plt.xscale(\"log\", base=10)\n",
        "plt.grid()\n",
        "#plt.savefig(f\"{results_dir}/acc/acc_{args_label}_lambda_{lamb}_alpha_{alpha}.png\", dpi=150)\n",
        "#plt.close()\n",
        "\n",
        "# Plot Loss\n",
        "plt.figure()\n",
        "plt.plot(its, train_loss, label=\"train\")\n",
        "plt.plot(its, val_loss, label=\"val\")\n",
        "plt.legend()\n",
        "plt.title(f\"Loss  (Training initial dataset)\")\n",
        "plt.xlabel(\"Optimization Steps\")\n",
        "plt.ylabel(\"Loss\")\n",
        "plt.xscale(\"log\", base=10)\n",
        "plt.grid()\n",
        "#plt.savefig(f\"{results_dir}/loss/loss_{args_label}_lambda_{lamb}_alpha_{alpha}.png\", dpi=150)\n",
        "#plt.close()\n",
        "\n",
        "print(\"Plots saved successfully.\")"
      ],
      "metadata": {
        "trusted": true,
        "execution": {
          "iopub.status.busy": "2025-01-20T19:15:43.284044Z",
          "iopub.execute_input": "2025-01-20T19:15:43.284257Z",
          "iopub.status.idle": "2025-01-20T19:15:44.078222Z",
          "shell.execute_reply.started": "2025-01-20T19:15:43.284238Z",
          "shell.execute_reply": "2025-01-20T19:15:44.077525Z"
        },
        "id": "gRKYy4EeOrL9",
        "outputId": "71c49eb7-9ed5-47e6-fc25-21250fbf5fc2"
      },
      "outputs": [
        {
          "name": "stdout",
          "text": "Plots saved successfully.\n",
          "output_type": "stream"
        },
        {
          "output_type": "display_data",
          "data": {
            "text/plain": "<Figure size 640x480 with 1 Axes>",
            "image/png": "[encoded data removed]"
          },
          "metadata": {}
        },
        {
          "output_type": "display_data",
          "data": {
            "text/plain": "<Figure size 640x480 with 1 Axes>",
            "image/png": "[encoded data removed]"
          },
          "metadata": {}
        }
      ],
      "execution_count": null
    },
    {
      "cell_type": "code",
      "source": [
        "parent_dataset = upd_train_dataset.dataset  # Parent dataset\n",
        "subset_indices = upd_train_dataset.indices  # Indices of the subset\n",
        "\n",
        "# Accessing subset data from parent dataset\n",
        "for idx, subset_idx in enumerate(subset_indices[:10]):\n",
        "    print(f\"Sample {idx} (Subset Index {subset_idx}): {upd_train_dataset.dataset.extra_fields[subset_idx]}\")\n"
      ],
      "metadata": {
        "trusted": true,
        "execution": {
          "iopub.status.busy": "2025-01-20T19:15:44.079097Z",
          "iopub.execute_input": "2025-01-20T19:15:44.079389Z",
          "iopub.status.idle": "2025-01-20T19:15:44.09953Z",
          "shell.execute_reply.started": "2025-01-20T19:15:44.079352Z",
          "shell.execute_reply": "2025-01-20T19:15:44.098907Z"
        },
        "id": "Wzy3y-HnOrL9",
        "outputId": "a59fcca5-9fc1-4983-ca7e-fd7ba62eaa37"
      },
      "outputs": [
        {
          "name": "stdout",
          "text": "Sample 0 (Subset Index 33006): {'ema_grad': tensor(-5.4948e-09, device='cuda:0'), 'num_updates': 33, 'deviation_metric': tensor(1.9410e-08, device='cuda:0')}\nSample 1 (Subset Index 8979): {'ema_grad': tensor(4.5715e-10, device='cuda:0'), 'num_updates': 33, 'deviation_metric': tensor(2.1500e-08, device='cuda:0')}\nSample 2 (Subset Index 7718): {'ema_grad': tensor(4.0506e-09, device='cuda:0'), 'num_updates': 33, 'deviation_metric': tensor(3.5886e-08, device='cuda:0')}\nSample 3 (Subset Index 46370): {'ema_grad': tensor(-1.0618e-08, device='cuda:0'), 'num_updates': 33, 'deviation_metric': tensor(1.8378e-08, device='cuda:0')}\nSample 4 (Subset Index 22190): {'ema_grad': tensor(1.9222e-09, device='cuda:0'), 'num_updates': 33, 'deviation_metric': tensor(2.8752e-08, device='cuda:0')}\nSample 5 (Subset Index 21726): {'ema_grad': tensor(4.0775e-09, device='cuda:0'), 'num_updates': 33, 'deviation_metric': tensor(4.4313e-08, device='cuda:0')}\nSample 6 (Subset Index 58219): {'ema_grad': tensor(4.1142e-10, device='cuda:0'), 'num_updates': 33, 'deviation_metric': tensor(1.0367e-08, device='cuda:0')}\nSample 7 (Subset Index 58518): {'ema_grad': tensor(-3.3762e-09, device='cuda:0'), 'num_updates': 34, 'deviation_metric': tensor(3.8878e-08, device='cuda:0')}\nSample 8 (Subset Index 21671): {'ema_grad': tensor(-5.8498e-09, device='cuda:0'), 'num_updates': 33, 'deviation_metric': tensor(4.6473e-08, device='cuda:0')}\nSample 9 (Subset Index 2965): {'ema_grad': tensor(5.7126e-09, device='cuda:0'), 'num_updates': 33, 'deviation_metric': tensor(5.6220e-08, device='cuda:0')}\n",
          "output_type": "stream"
        }
      ],
      "execution_count": null
    },
    {
      "cell_type": "code",
      "source": [
        "import random\n",
        "from torch.utils.data import Subset\n",
        "\n",
        "def classify_samples(subset, retain_top_pct=60, random_retain_pct=5, seed=None):\n",
        "\n",
        "    if seed is not None:\n",
        "        random.seed(seed)\n",
        "\n",
        "    # Access the parent dataset and subset indices\n",
        "    parent_dataset = subset.dataset\n",
        "    subset_indices = subset.indices\n",
        "\n",
        "    # Collect indices and deviation values within the subset\n",
        "    subset_samples = [\n",
        "    (idx, parent_dataset.extra_fields[idx][\"deviation_metric\"]) for idx in subset_indices\n",
        "    ]\n",
        "\n",
        "    # Sort by deviation in descending order\n",
        "    sorted_samples = sorted(subset_samples, key=lambda x: x[1], reverse=True)\n",
        "    #sorted_samples = sorted(subset_samples, key=lambda x: x[1])\n",
        "\n",
        "    # Calculate the number of samples to retain\n",
        "    total_samples = len(sorted_samples)\n",
        "    top_k_count = int(total_samples * (retain_top_pct / 100))\n",
        "    random_count = int(total_samples * (random_retain_pct / 100))\n",
        "\n",
        "    # Select top-k samples\n",
        "    top_k_indices = [idx for idx, _ in sorted_samples[:top_k_count]]\n",
        "\n",
        "    # Select the remaining samples (excluding top-k)\n",
        "    remaining_samples = sorted_samples[top_k_count:]\n",
        "    remaining_indices = [idx for idx, _ in remaining_samples]\n",
        "\n",
        "    # Randomly select a percentage of the remaining samples\n",
        "    random_selected_indices = random.sample(remaining_indices, min(random_count, len(remaining_indices)))\n",
        "\n",
        "    # Combine selected indices\n",
        "    selected_indices = top_k_indices + random_selected_indices\n",
        "\n",
        "    # Return the new dataset as a subset\n",
        "    new_dataset = Subset(parent_dataset, selected_indices)\n",
        "    return new_dataset\n",
        "\n"
      ],
      "metadata": {
        "trusted": true,
        "execution": {
          "iopub.status.busy": "2025-01-20T19:26:05.563591Z",
          "iopub.execute_input": "2025-01-20T19:26:05.56396Z",
          "iopub.status.idle": "2025-01-20T19:26:05.570764Z",
          "shell.execute_reply.started": "2025-01-20T19:26:05.563931Z",
          "shell.execute_reply": "2025-01-20T19:26:05.569992Z"
        },
        "id": "t7DsiGzPOrL9"
      },
      "outputs": [],
      "execution_count": null
    },
    {
      "cell_type": "code",
      "source": [
        "def classify_samples(subset, top_pct=20, bottom_pct=20, seed=None):\n",
        "    \"\"\"\n",
        "    Select the top and bottom percentage of samples based on deviation_metric.\n",
        "\n",
        "    Parameters:\n",
        "    - subset: A Subset of the original dataset.\n",
        "    - top_pct: Percentage of samples with the highest deviation to retain.\n",
        "    - bottom_pct: Percentage of samples with the lowest deviation to retain.\n",
        "    - seed: Random seed for reproducibility (optional).\n",
        "\n",
        "    Returns:\n",
        "    - new_dataset: Subset of the original dataset based on the selected samples.\n",
        "    \"\"\"\n",
        "    if seed is not None:\n",
        "        random.seed(seed)\n",
        "\n",
        "    # Access the parent dataset and subset indices\n",
        "    parent_dataset = subset.dataset\n",
        "    subset_indices = subset.indices\n",
        "\n",
        "    # Collect indices and deviation values within the subset\n",
        "    subset_samples = [\n",
        "        (idx, parent_dataset.extra_fields[idx][\"deviation_metric\"]) for idx in subset_indices\n",
        "    ]\n",
        "\n",
        "    # Sort by deviation in ascending order (lowest deviations first)\n",
        "    sorted_samples = sorted(subset_samples, key=lambda x: x[1])\n",
        "\n",
        "    # Calculate the number of samples to retain\n",
        "    total_samples = len(sorted_samples)\n",
        "    top_k_count = int(total_samples * (top_pct / 100))\n",
        "    bottom_k_count = int(total_samples * (bottom_pct / 100))\n",
        "\n",
        "    # Select the bottom-k samples\n",
        "    bottom_k_indices = [idx for idx, _ in sorted_samples[:bottom_k_count]]\n",
        "\n",
        "    # Select the top-k samples\n",
        "    top_k_indices = [idx for idx, _ in sorted_samples[-top_k_count:]]\n",
        "\n",
        "    # Combine selected indices\n",
        "    selected_indices = bottom_k_indices + top_k_indices\n",
        "\n",
        "    # Return the new dataset as a subset\n",
        "    new_dataset = Subset(parent_dataset, selected_indices)\n",
        "    return new_dataset\n"
      ],
      "metadata": {
        "trusted": true,
        "execution": {
          "iopub.status.busy": "2025-01-20T19:18:34.872971Z",
          "iopub.execute_input": "2025-01-20T19:18:34.873269Z",
          "iopub.status.idle": "2025-01-20T19:18:34.879835Z",
          "shell.execute_reply.started": "2025-01-20T19:18:34.873248Z",
          "shell.execute_reply": "2025-01-20T19:18:34.878932Z"
        },
        "id": "b3D0atN0OrL-"
      },
      "outputs": [],
      "execution_count": null
    },
    {
      "cell_type": "code",
      "source": [
        "new_train_dataset = classify_samples(upd_train_dataset, top_pct=70, bottom_pct=10, seed=42)"
      ],
      "metadata": {
        "trusted": true,
        "id": "u5xuf7ChOrL-"
      },
      "outputs": [],
      "execution_count": null
    },
    {
      "cell_type": "code",
      "source": [
        "new_train_dataset = classify_samples(upd_train_dataset, retain_top_pct=30, random_retain_pct=5, seed=42)\n"
      ],
      "metadata": {
        "trusted": true,
        "execution": {
          "iopub.status.busy": "2025-01-20T19:26:18.077053Z",
          "iopub.execute_input": "2025-01-20T19:26:18.077332Z",
          "iopub.status.idle": "2025-01-20T19:26:19.415507Z",
          "shell.execute_reply.started": "2025-01-20T19:26:18.07731Z",
          "shell.execute_reply": "2025-01-20T19:26:19.414547Z"
        },
        "id": "h82FetomOrL-"
      },
      "outputs": [],
      "execution_count": null
    },
    {
      "cell_type": "code",
      "source": [
        "print(len(new_train_dataset))"
      ],
      "metadata": {
        "trusted": true,
        "execution": {
          "iopub.status.busy": "2025-01-20T19:24:00.507182Z",
          "iopub.execute_input": "2025-01-20T19:24:00.507482Z",
          "iopub.status.idle": "2025-01-20T19:24:00.511954Z",
          "shell.execute_reply.started": "2025-01-20T19:24:00.507454Z",
          "shell.execute_reply": "2025-01-20T19:24:00.510977Z"
        },
        "id": "p6dcgSFgOrL-",
        "outputId": "b4d88aa6-7bb0-4382-c016-3844bfd61c4d"
      },
      "outputs": [
        {
          "name": "stdout",
          "text": "4800\n",
          "output_type": "stream"
        }
      ],
      "execution_count": null
    },
    {
      "cell_type": "code",
      "source": [
        "\n",
        "new_train_loader = DataLoader(new_train_dataset, batch_size=args.batch_size, shuffle=True,collate_fn=custom_collate_fn)"
      ],
      "metadata": {
        "trusted": true,
        "execution": {
          "iopub.status.busy": "2025-01-20T19:26:23.562698Z",
          "iopub.execute_input": "2025-01-20T19:26:23.563046Z",
          "iopub.status.idle": "2025-01-20T19:26:23.566938Z",
          "shell.execute_reply.started": "2025-01-20T19:26:23.563016Z",
          "shell.execute_reply": "2025-01-20T19:26:23.566068Z"
        },
        "id": "WugLK9GDOrL-"
      },
      "outputs": [],
      "execution_count": null
    },
    {
      "cell_type": "code",
      "source": [
        "# Debug: Check the first few samples in the new dataset\n",
        "for idx in new_train_dataset.indices[:10]:  # Access the first 10 indices of the subset\n",
        "    print(f\"Sample {idx}: {upd_train_dataset.dataset.extra_fields[idx]}\")\n"
      ],
      "metadata": {
        "trusted": true,
        "execution": {
          "iopub.status.busy": "2025-01-20T19:16:03.497115Z",
          "iopub.execute_input": "2025-01-20T19:16:03.497508Z",
          "iopub.status.idle": "2025-01-20T19:16:03.519831Z",
          "shell.execute_reply.started": "2025-01-20T19:16:03.497475Z",
          "shell.execute_reply": "2025-01-20T19:16:03.518863Z"
        },
        "id": "_cvLKNSfOrL-",
        "outputId": "fb784c4e-3cdf-4269-da90-7442f07a6920"
      },
      "outputs": [
        {
          "name": "stdout",
          "text": "Sample 10983: {'ema_grad': tensor(4.6032e-08, device='cuda:0'), 'num_updates': 34, 'deviation_metric': tensor(7.9563e-07, device='cuda:0')}\nSample 50644: {'ema_grad': tensor(4.1300e-08, device='cuda:0'), 'num_updates': 33, 'deviation_metric': tensor(6.5457e-07, device='cuda:0')}\nSample 5553: {'ema_grad': tensor(-4.1769e-08, device='cuda:0'), 'num_updates': 33, 'deviation_metric': tensor(6.5445e-07, device='cuda:0')}\nSample 20699: {'ema_grad': tensor(-4.3298e-08, device='cuda:0'), 'num_updates': 33, 'deviation_metric': tensor(6.5403e-07, device='cuda:0')}\nSample 56809: {'ema_grad': tensor(4.3378e-08, device='cuda:0'), 'num_updates': 33, 'deviation_metric': tensor(6.5401e-07, device='cuda:0')}\nSample 29398: {'ema_grad': tensor(-3.6894e-08, device='cuda:0'), 'num_updates': 34, 'deviation_metric': tensor(6.3649e-07, device='cuda:0')}\nSample 32472: {'ema_grad': tensor(-3.7767e-08, device='cuda:0'), 'num_updates': 34, 'deviation_metric': tensor(6.3626e-07, device='cuda:0')}\nSample 23282: {'ema_grad': tensor(3.8016e-08, device='cuda:0'), 'num_updates': 34, 'deviation_metric': tensor(6.3619e-07, device='cuda:0')}\nSample 59205: {'ema_grad': tensor(2.5712e-08, device='cuda:0'), 'num_updates': 33, 'deviation_metric': tensor(4.9237e-07, device='cuda:0')}\nSample 18325: {'ema_grad': tensor(-2.6097e-08, device='cuda:0'), 'num_updates': 33, 'deviation_metric': tensor(4.9226e-07, device='cuda:0')}\n",
          "output_type": "stream"
        }
      ],
      "execution_count": null
    },
    {
      "cell_type": "code",
      "source": [
        "# def reset_metrics(dataset):\n",
        "#     \"\"\"\n",
        "#     Reset all metrics in the dataset's `extra_fields` to their initial values.\n",
        "#     \"\"\"\n",
        "#     for field in dataset.extra_fields:\n",
        "#         field[\"ema_grad\"] = 0.0\n",
        "#         field[\"num_updates\"] = 0\n",
        "#         field[\"deviation_metric\"] = 0.0"
      ],
      "metadata": {
        "trusted": true,
        "execution": {
          "iopub.status.busy": "2025-01-20T19:12:55.995621Z",
          "iopub.execute_input": "2025-01-20T19:12:55.995985Z",
          "iopub.status.idle": "2025-01-20T19:12:56.000132Z",
          "shell.execute_reply.started": "2025-01-20T19:12:55.995958Z",
          "shell.execute_reply": "2025-01-20T19:12:55.999277Z"
        },
        "id": "R-LPxUs_OrL_"
      },
      "outputs": [],
      "execution_count": null
    },
    {
      "cell_type": "code",
      "source": [
        "# # Reset metrics in the parent dataset\n",
        "# reset_metrics(new_train_dataset.dataset)\n",
        "\n",
        "# # Debug: Check the first few samples in the dataset after resetting\n",
        "# for idx in train_dataset.indices[:10]:  # Access the first 10 indices of the subset\n",
        "#     print(f\"Sample {idx}: {train_dataset.dataset.extra_fields[idx]}\")"
      ],
      "metadata": {
        "trusted": true,
        "execution": {
          "iopub.status.busy": "2025-01-20T19:12:57.515977Z",
          "iopub.execute_input": "2025-01-20T19:12:57.516444Z",
          "iopub.status.idle": "2025-01-20T19:12:57.558652Z",
          "shell.execute_reply.started": "2025-01-20T19:12:57.516401Z",
          "shell.execute_reply": "2025-01-20T19:12:57.558034Z"
        },
        "id": "wK0HK2O5OrL_",
        "outputId": "e7c98ebb-bbe2-4966-c4f4-9b2f5ba973aa"
      },
      "outputs": [
        {
          "name": "stdout",
          "text": "Sample 54683: {'ema_grad': 0.0, 'num_updates': 0, 'deviation_metric': 0.0}\nSample 20549: {'ema_grad': 0.0, 'num_updates': 0, 'deviation_metric': 0.0}\nSample 49590: {'ema_grad': 0.0, 'num_updates': 0, 'deviation_metric': 0.0}\nSample 56029: {'ema_grad': 0.0, 'num_updates': 0, 'deviation_metric': 0.0}\nSample 29594: {'ema_grad': 0.0, 'num_updates': 0, 'deviation_metric': 0.0}\nSample 42949: {'ema_grad': 0.0, 'num_updates': 0, 'deviation_metric': 0.0}\nSample 19415: {'ema_grad': 0.0, 'num_updates': 0, 'deviation_metric': 0.0}\nSample 55165: {'ema_grad': 0.0, 'num_updates': 0, 'deviation_metric': 0.0}\nSample 10864: {'ema_grad': 0.0, 'num_updates': 0, 'deviation_metric': 0.0}\nSample 39542: {'ema_grad': 0.0, 'num_updates': 0, 'deviation_metric': 0.0}\n",
          "output_type": "stream"
        }
      ],
      "execution_count": null
    },
    {
      "cell_type": "code",
      "source": [
        "test_dataset = MyMNIST(test_images, test_labels, transform=transform)\n",
        "test=test_dataset\n",
        "args = argparse.Namespace(\n",
        "    train_points=6000,\n",
        "    optimization_steps=1000,\n",
        "    batch_size=200,\n",
        "    loss_function=\"CrossEntropy\",#changed\n",
        "    optimizer=\"AdamW\",\n",
        "    weight_decay=0.01,\n",
        "    lr=1e-3,\n",
        "    initialization_scale=8.0,\n",
        "    download_directory=\".\",\n",
        "    depth=3,#changed\n",
        "    width=200,#changed\n",
        "    activation=\"ReLU\",\n",
        "    seed=42,\n",
        "    label=\"experiment_with_faster\"\n",
        ")\n",
        "upd_train_dataset_2, steps_to_reach_val_acc= main(args,new_train_dataset,new_train_loader,test)"
      ],
      "metadata": {
        "trusted": true,
        "execution": {
          "iopub.status.busy": "2025-01-20T19:26:26.369373Z",
          "iopub.execute_input": "2025-01-20T19:26:26.369696Z",
          "iopub.status.idle": "2025-01-20T19:27:29.674489Z",
          "shell.execute_reply.started": "2025-01-20T19:26:26.369667Z",
          "shell.execute_reply": "2025-01-20T19:27:29.673812Z"
        },
        "colab": {
          "referenced_widgets": [
            "28cdf23afbd546e8adc04d46d319bc29"
          ]
        },
        "id": "Q-8O3bIEOrL_",
        "outputId": "d31f8a73-5cfa-41cc-bbf9-eb877d0d56e6"
      },
      "outputs": [
        {
          "name": "stdout",
          "text": "Number of parameters: 199210\n",
          "output_type": "stream"
        },
        {
          "output_type": "display_data",
          "data": {
            "text/plain": "  0%|          | 0/1000 [00:00<?, ?it/s]",
            "application/vnd.jupyter.widget-view+json": {
              "version_major": 2,
              "version_minor": 0,
              "model_id": "28cdf23afbd546e8adc04d46d319bc29"
            }
          },
          "metadata": {}
        }
      ],
      "execution_count": null
    },
    {
      "cell_type": "code",
      "source": [
        "\n",
        "results_pt_dir = \"/kaggle/working/results/pt\"\n",
        "\n",
        "file=\"mnist_experiment_with_faster.pt\"\n",
        "\n",
        "results_pt_dir = os.path.join(results_pt_dir, file)\n",
        "\n",
        "results = torch.load(results_pt_dir,weights_only=True)\n",
        "\n",
        "\n",
        "# Extract data from results\n",
        "its = results[\"its\"]  # Optimization steps\n",
        "train_acc = results[\"train_acc\"]  # Training accuracy\n",
        "val_acc = results[\"val_acc\"]  # Validation accuracy\n",
        "train_loss = results[\"train_loss\"]  # Training loss\n",
        "val_loss = results[\"val_loss\"]  # Validation loss\n",
        "\n",
        "# Plot Accuracy\n",
        "plt.figure()\n",
        "plt.plot(its, train_acc, label=\"train\")\n",
        "plt.plot(its, val_acc, label=\"val\")\n",
        "plt.legend()\n",
        "plt.title(f\"Accuracy (Training on selected fast samples from dataset)\")\n",
        "plt.xlabel(\"Optimization Steps\")\n",
        "plt.ylabel(\"Accuracy\")\n",
        "plt.xscale(\"log\", base=10)\n",
        "plt.grid()\n",
        "#plt.savefig(f\"{results_dir}/acc/acc_{args_label}_lambda_{lamb}_alpha_{alpha}.png\", dpi=150)\n",
        "#plt.close()\n",
        "\n",
        "# Plot Loss\n",
        "plt.figure()\n",
        "plt.plot(its, train_loss, label=\"train\")\n",
        "plt.plot(its, val_loss, label=\"val\")\n",
        "plt.legend()\n",
        "plt.title(f\"Loss (Training on selected fast samples from dataset)\")\n",
        "plt.xlabel(\"Optimization Steps\")\n",
        "plt.ylabel(\"Loss\")\n",
        "plt.xscale(\"log\", base=10)\n",
        "plt.grid()\n",
        "#plt.savefig(f\"{results_dir}/loss/loss_{args_label}_lambda_{lamb}_alpha_{alpha}.png\", dpi=150)\n",
        "#plt.close()\n",
        "\n",
        "print(\"Plots saved successfully.\")"
      ],
      "metadata": {
        "trusted": true,
        "execution": {
          "iopub.status.busy": "2025-01-20T19:37:13.405948Z",
          "iopub.execute_input": "2025-01-20T19:37:13.406268Z",
          "iopub.status.idle": "2025-01-20T19:37:14.224305Z",
          "shell.execute_reply.started": "2025-01-20T19:37:13.406244Z",
          "shell.execute_reply": "2025-01-20T19:37:14.223329Z"
        },
        "id": "a-wYeLOpOrL_",
        "outputId": "4d61e345-48de-4b51-b792-414f2652cc83"
      },
      "outputs": [
        {
          "name": "stdout",
          "text": "Plots saved successfully.\n",
          "output_type": "stream"
        },
        {
          "output_type": "display_data",
          "data": {
            "text/plain": "<Figure size 640x480 with 1 Axes>",
            "image/png": "[encoded data removed]"
          },
          "metadata": {}
        },
        {
          "output_type": "display_data",
          "data": {
            "text/plain": "<Figure size 640x480 with 1 Axes>",
            "image/png": "[encoded data removed]"
          },
          "metadata": {}
        }
      ],
      "execution_count": null
    }
  ]
}